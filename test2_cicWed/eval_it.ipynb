{
 "cells": [
  {
   "cell_type": "code",
   "execution_count": 1,
   "metadata": {},
   "outputs": [],
   "source": [
    "import pickle\n",
    "import yaml\n",
    "import pandas as pd\n",
    "import pickle\n",
    "import sys\n",
    "import numpy as np\n",
    "\n",
    "import matplotlib.pyplot as plot"
   ]
  },
  {
   "cell_type": "code",
   "execution_count": 2,
   "metadata": {},
   "outputs": [
    {
     "name": "stderr",
     "output_type": "stream",
     "text": [
      "/home/wesleyjtann/miniconda3/envs/ddos/lib/python3.7/site-packages/ipykernel_launcher.py:3: YAMLLoadWarning: calling yaml.load() without Loader=... is deprecated, as the default Loader is unsafe. Please read https://msg.pyyaml.org/load for full details.\n",
      "  This is separate from the ipykernel package so we can avoid doing imports until\n"
     ]
    }
   ],
   "source": [
    "def loadConfig():    \n",
    "    with open('./light_config_hulk.yaml', \"r\") as ymlfile: #hulk, slowloris; GE, heartbleed, slowhttp\n",
    "        cfg = yaml.load(ymlfile)\n",
    "    return cfg\n",
    "\n",
    "config = loadConfig()"
   ]
  },
  {
   "cell_type": "code",
   "execution_count": 3,
   "metadata": {},
   "outputs": [],
   "source": [
    "import math\n",
    "\n",
    "def calculateFalsePositives(agtIPList, agt_attacks, scoreDict, percentages, numNorm) :\n",
    "    numNormal = numNorm\n",
    "    numTotalIP = len(scoreDict)\n",
    "    cutOff = []\n",
    "    falsepositives = []\n",
    "    \n",
    "    for percent in percentages :\n",
    "        cutOff.append(math.ceil(numTotalIP * percent))\n",
    "    \n",
    "    index = 0\n",
    "    fp_count = 0 # add\n",
    "    tp_count = 0 # add\n",
    "    truepos = [] # add\n",
    "    \n",
    "    for (IP, IPD, score) in list(scoreDict.itertuples(index=False, name=None)):\n",
    "        if IP + IPD in agtIPList: # add\n",
    "            fp_count = fp_count + 1 # add\n",
    "        if IP + IPD in agt_attacks:\n",
    "            tp_count = tp_count + 1            \n",
    "            \n",
    "        index = index + 1\n",
    "        if index in cutOff :\n",
    "            falsepositives.append(fp_count/numNormal)\n",
    "            truepos.append(tp_count / len(agt_attacks)) #len(agt_attacks)) # add\n",
    "            \n",
    "    return falsepositives, truepos\n",
    "        \n",
    "    \n",
    "def plotAndSaveGraph(PQ, P, PQTil, classifier_rejectthres, fp_classifier, iter_classifier_one, iter_classifier, config, plt=False):\n",
    "    percentages = [0.0, 0.1, 0.2, 0.3, 0.4, 0.5, 0.6, 0.7, 0.8, 0.9, 1.0]\n",
    "\n",
    "    plot.rcParams['figure.figsize'] = [9, 9]\n",
    "    fig = plot.figure()\n",
    "    ax = plot.subplot(111)\n",
    "    # #ax.plot(percentages, old_graphScoreList, label = \"Old P Over Q Scores\")\n",
    "    # #ax.plot(percentages, old_graphPList, label = \"Old P Scores\")\n",
    "    ax.plot(percentages, percentages, linewidth=2, label = \"Randomized Rejection\")\n",
    "    ax.plot(percentages, P, linewidth=2, linestyle='--', marker='o', markersize=9, label = \"N Only\")\n",
    "    ax.plot(percentages, PQ, linewidth=2, linestyle=':', label = \"N/D (ℓ=1)\") #With Transfer\")\n",
    "    ax.plot(percentages, PQTil, linewidth=2, linestyle='-.', label = \"N/D (ℓ=∞)\") #Without Transfer\") \n",
    "#     ax.plot(percentages, Qonline, label = \"Online Q\")\n",
    "#     ax.plot(percentages, Qoffline, label = \"Offline Q\") \n",
    "    ax.plot(percentages, iter_classifier_one, linewidth=2, linestyle='--', label = \"Iter. Classifier (ℓ=1)\") #Without Transfer\")\n",
    "    ax.plot(percentages, iter_classifier, linewidth=2, linestyle='--', marker='s', markersize=9, label = \"Iter. Classifier (ℓ=∞)\") #Without Transfer\")\n",
    "#     ax.plot(percentages, fp_classifier, linewidth=2, label = \"Classifier\") #Without Transfer\")\n",
    "    ax.plot(classifier_rejectthres,fp_classifier,'rx',markersize=15,markeredgewidth=5, label = \"Full Classifier\") \n",
    "    \n",
    "#     plot.xlabel('Rejection Threshold', fontsize=24)\n",
    "#     plot.ylabel('False Reject Rates', fontsize=24)\n",
    "#     plot.title(\"False Positive rates for \" + config['metadata']['name'])\n",
    "    ax.tick_params(axis='both', which='major', labelsize=15)\n",
    "    ax.legend(fontsize=18)\n",
    "    if plt:\n",
    "        plot.savefig(config['metadata']['uniqueID'] + '/' + config['metadata']['result'] + '_FPGraph')\n",
    "\n",
    "def calc_eval(fpr, tpr, agt_norm, agt_attk):\n",
    "    fpr = np.array(fpr[1:])\n",
    "    tpr = np.array(tpr)\n",
    "\n",
    "    Total = len(agt_norm)+len(agt_attk) #len(userScoreP)\n",
    "    TotalN = len(agt_norm)\n",
    "    TotalP = Total-TotalN\n",
    "    FP = fpr*TotalN\n",
    "    TN = TotalN - FP\n",
    "    TP = tpr*TotalP\n",
    "    FN = TotalP-TP\n",
    "    \n",
    "    Accr = (TP+TN) / (TP+TN+FP+FN)\n",
    "    FPR = FP / (FP + TN)\n",
    "    Prec = TP / (TP + FP)\n",
    "    Rec = TP / (TP + FN)\n",
    "    F1 = 2 * ((Prec*Rec) / (Prec+Rec))\n",
    "\n",
    "    return (Accr, FPR, Prec, Rec, F1)"
   ]
  },
  {
   "cell_type": "markdown",
   "metadata": {},
   "source": [
    "### Test set"
   ]
  },
  {
   "cell_type": "code",
   "execution_count": 4,
   "metadata": {},
   "outputs": [
    {
     "name": "stdout",
     "output_type": "stream",
     "text": [
      "Length of userScoreP:  11710\n"
     ]
    }
   ],
   "source": [
    "# #Load User Scores\n",
    "userScoreP = pickle.load(open(config['metadata']['uniqueID'] + '/' + config['metadata']['artefact'] + '/' + 'PScore', 'rb'))\n",
    "userScoreP = userScoreP.sort_values(by = ['P'],ascending=True) # add\n",
    "\n",
    "userScorePQ_online = pickle.load(open(config['metadata']['uniqueID'] + '/' + config['metadata']['artefact'] + '/' + 'PoverQonline_score', 'rb'))\n",
    "userScorePQ_online = userScorePQ_online.sort_values(by = ['PoverQ_online'],ascending=True) # add \n",
    "\n",
    "userScorePQ_offline = pickle.load(open(config['metadata']['uniqueID'] + '/' + config['metadata']['artefact'] + '/' + 'PoverQoffline_score', 'rb'))\n",
    "userScorePQ_offline = userScorePQ_offline.sort_values(by = ['PoverQ_offline'],ascending=True) \n",
    "\n",
    "# userScoreQonline = pickle.load(open(config['metadata']['uniqueID'] + '/' + config['metadata']['artefact'] + '/' + 'onlineQ', 'rb'))\n",
    "# userScoreQonline = userScoreQonline.sort_values(by = ['QWithT'],ascending=True)\n",
    "\n",
    "# userScoreQoffline = pickle.load(open(config['metadata']['uniqueID'] + '/' + config['metadata']['artefact'] + '/' + 'offlineQ', 'rb'))\n",
    "# userScoreQoffline = userScoreQoffline.sort_values(by = ['QWithoutT'],ascending=True)\n",
    "\n",
    "print(\"Length of userScoreP: \", len(userScoreP))"
   ]
  },
  {
   "cell_type": "code",
   "execution_count": 5,
   "metadata": {},
   "outputs": [
    {
     "data": {
      "text/plain": [
       "11710"
      ]
     },
     "execution_count": 5,
     "metadata": {},
     "output_type": "execute_result"
    }
   ],
   "source": [
    "len(userScoreP)"
   ]
  },
  {
   "cell_type": "code",
   "execution_count": 6,
   "metadata": {
    "scrolled": true
   },
   "outputs": [],
   "source": [
    "import matplotlib.pyplot as plt\n",
    "attacker='172.16.0.1'; victim='192.168.10.50'\n",
    "\n",
    "# def showscore(scoretype, scores):\n",
    "#     fig = plt.figure(figsize=(7,5))\n",
    "#     plt.hist(scoretype[scores].sort_values()[scoretype['Source IP'] == victim], bins=20, alpha=0.5, label='victim') \n",
    "#     plt.hist(scoretype[scores].sort_values()[scoretype['Source IP'] == attacker], bins=20, alpha=0.5, label='attcker')\n",
    "#     plt.legend(loc='upper right')\n",
    "#     plt.show()\n",
    "def showscore(scoretype, scores):\n",
    "    fig = plt.figure(figsize=(7,5))\n",
    "    plt.hist(scoretype[scores][scoretype['Source IP'] != attacker], bins=10, alpha=0.5, label='victim') \n",
    "    plt.hist(scoretype[scores][scoretype['Source IP'] == attacker], bins=10, alpha=0.5, label='attcker')\n",
    "    plt.legend(loc='upper right')\n",
    "    plt.show()\n",
    "    return fig"
   ]
  },
  {
   "cell_type": "code",
   "execution_count": 7,
   "metadata": {},
   "outputs": [
    {
     "data": {
      "image/png": "[encoded data removed]",
      "text/plain": [
       "<Figure size 504x360 with 1 Axes>"
      ]
     },
     "metadata": {
      "needs_background": "light"
     },
     "output_type": "display_data"
    }
   ],
   "source": [
    "# add standardization\n",
    "std_userScoreP = userScoreP\n",
    "std_userScoreP['P'] = (std_userScoreP['P'] - std_userScoreP['P'].min(axis=0)) / (std_userScoreP['P'].max(axis=0) - std_userScoreP['P'].min(axis=0))\n",
    "\n",
    "fig = showscore(userScoreP, 'P') # P scores\n",
    "\n",
    "# fig.savefig('./' + config['metadata']['uniqueID'] + '/' + config['metadata']['result'] + '_P_distr' + '.png')"
   ]
  },
  {
   "cell_type": "code",
   "execution_count": 8,
   "metadata": {},
   "outputs": [
    {
     "data": {
      "image/png": "[encoded data removed]",
      "text/plain": [
       "<Figure size 504x360 with 1 Axes>"
      ]
     },
     "metadata": {
      "needs_background": "light"
     },
     "output_type": "display_data"
    }
   ],
   "source": [
    "# add standardization\n",
    "std_userScorePQ_online = userScorePQ_online\n",
    "std_userScorePQ_online['PoverQ_online'] = (std_userScorePQ_online['PoverQ_online'] - std_userScorePQ_online['PoverQ_online'].min(axis=0)) / (std_userScorePQ_online['PoverQ_online'].max(axis=0) - std_userScorePQ_online['PoverQ_online'].min(axis=0))\n",
    "\n",
    "fig = showscore(std_userScorePQ_online, 'PoverQ_online') # online Q\n",
    "\n",
    "# fig.savefig('./' + config['metadata']['uniqueID'] + '/' + config['metadata']['result'] + '_PQonline_distr' + '.png')"
   ]
  },
  {
   "cell_type": "code",
   "execution_count": 9,
   "metadata": {},
   "outputs": [
    {
     "data": {
      "image/png": "[encoded data removed]",
      "text/plain": [
       "<Figure size 504x360 with 1 Axes>"
      ]
     },
     "metadata": {
      "needs_background": "light"
     },
     "output_type": "display_data"
    }
   ],
   "source": [
    "# add standardization\n",
    "std_userScorePQ_offline = userScorePQ_offline\n",
    "std_userScorePQ_offline['PoverQ_offline'] = (std_userScorePQ_offline['PoverQ_offline'] - std_userScorePQ_offline['PoverQ_offline'].min(axis=0)) / (std_userScorePQ_offline['PoverQ_offline'].max(axis=0) - std_userScorePQ_offline['PoverQ_offline'].min(axis=0))\n",
    "\n",
    "fig = showscore(std_userScorePQ_offline, 'PoverQ_offline') # offline Q\n",
    "\n",
    "# fig.savefig('./' + config['metadata']['uniqueID'] + '/' + config['metadata']['result'] + '_PQoffline_distr' + '.png')"
   ]
  },
  {
   "cell_type": "raw",
   "metadata": {},
   "source": [
    "showscore(userScoreQonline, 'QWithT')"
   ]
  },
  {
   "cell_type": "raw",
   "metadata": {},
   "source": [
    "showscore(userScorePQ_offline, 'PoverQ_offline')"
   ]
  },
  {
   "cell_type": "raw",
   "metadata": {
    "scrolled": true
   },
   "source": [
    "userScoreP\n",
    "# userScorePQ\n",
    "# userScorePQTil\n",
    "# userScoreQonline\n",
    "# userScoreQoffline"
   ]
  },
  {
   "cell_type": "markdown",
   "metadata": {},
   "source": [
    "### Predicted P-only user scores"
   ]
  },
  {
   "cell_type": "code",
   "execution_count": 10,
   "metadata": {
    "scrolled": true
   },
   "outputs": [
    {
     "name": "stdout",
     "output_type": "stream",
     "text": [
      "Length of userScoreP:  11710\n"
     ]
    }
   ],
   "source": [
    "print(\"Length of userScoreP: \", len(userScoreP))"
   ]
  },
  {
   "cell_type": "code",
   "execution_count": 7,
   "metadata": {
    "scrolled": true
   },
   "outputs": [
    {
     "name": "stdout",
     "output_type": "stream",
     "text": [
      "Length of userScoreP:  11710\n",
      "Length of Normal traffic:  4552\n",
      "Length of true attacks:  7158\n",
      "Percent attacks:  0.611272416737831\n"
     ]
    }
   ],
   "source": [
    "agt_normals = []\n",
    "agt_attacks = []\n",
    "attacker='172.16.0.1'; victim='192.168.10.50'\n",
    "print(\"Length of userScoreP: \", len(userScoreP))\n",
    "\n",
    "for (IP, IPD, score) in list(userScoreP.itertuples(index=False, name=None)):\n",
    "#     if (IP != '172.16.0.1' and  IPD=='192.168.10.50') or IP == '192.168.10.50': \n",
    "#     if (IP != attacker and  IPD==victim) or IP == victim: \n",
    "    if IP == attacker or IP == victim:\n",
    "        agt_attacks.append(IP+IPD)\n",
    "    else:\n",
    "        agt_normals.append(IP + IPD)\n",
    "        \n",
    "\n",
    "print(\"Length of Normal traffic: \", len(agt_normals))\n",
    "print(\"Length of true attacks: \", len(agt_attacks))\n",
    "\n",
    "#Plot some graphs\n",
    "percentages = [0.1, 0.2, 0.3, 0.4, 0.5, 0.6, 0.7, 0.8, 0.9, 1.0]\n",
    "\n",
    "num = len(agt_normals)\n",
    "print(\"Percent attacks: \", len(agt_attacks)/len(userScoreP))"
   ]
  },
  {
   "cell_type": "code",
   "execution_count": 12,
   "metadata": {},
   "outputs": [],
   "source": [
    "# HULK\n",
    "# Length of test data:  11710\n",
    "# Number of normal traffic:  4552\n",
    "# Number of true attacks:  7158\n",
    "# Percent attacks:  0.611272416737831\n",
    "\n",
    "classifier_rejectthres = 0.6 #0.5099\n",
    "fp_classifier = 0.028119507908611598 #0.007249560632688928\n",
    "\n",
    "# (ℓ = ∞)\n",
    "iter_classifier = [0,\n",
    " 0.011251354624848602,\n",
    " 0.014502454261490405,\n",
    " 0.016924842226047045,\n",
    " 0.01855039204436795,\n",
    " 0.02084528590552687,\n",
    " 0.022662076878944348,\n",
    " 0.024797603110856124,\n",
    " 0.028144323325046218,\n",
    " 0.03394530502964238,\n",
    " 1.0]\n",
    "\n",
    "## OLD\n",
    "# iter_classifier = [0,\n",
    "#  0.01296133567662566,\n",
    "#  0.014279437609841827,\n",
    "#  0.015377855887521968,\n",
    "#  0.01603690685413005,\n",
    "#  0.016476274165202108,\n",
    "#  0.016915641476274165,\n",
    "#  0.018233743409490334,\n",
    "#  0.018892794376098417,\n",
    "#  0.021748681898066783,\n",
    "#  1.0]"
   ]
  },
  {
   "cell_type": "code",
   "execution_count": 13,
   "metadata": {},
   "outputs": [],
   "source": [
    "# HULK\n",
    "# (ℓ = 1)\n",
    "iter_classifier_one = [0,\n",
    " 0.023554535602728372,\n",
    " 0.028941161471281954,\n",
    " 0.03235162873717091,\n",
    " 0.03522024606361956,\n",
    " 0.0378657487091222,\n",
    " 0.04159495123350545,\n",
    " 0.04459106266335182,\n",
    " 0.04937209154076624,\n",
    " 0.05756358768406961,\n",
    " 1.0]\n",
    "\n",
    "## OLD\n",
    "# iter_classifier_one =  [0,\n",
    "#  0.018892794376098417,\n",
    "#  0.01999121265377856,\n",
    "#  0.02482425307557118,\n",
    "#  0.03031634446397188,\n",
    "#  0.03492970123022847,\n",
    "#  0.04173989455184534,\n",
    "#  0.045035149384885766,\n",
    "#  0.0632688927943761,\n",
    "#  0.08369947275922672,\n",
    "#  1.0]"
   ]
  },
  {
   "cell_type": "raw",
   "metadata": {},
   "source": [
    "# Slowloris\n",
    "Length of test data:  9584\n",
    "Number of normal traffic:  8259\n",
    "Number of true attacks:  1325\n",
    "Percent attacks:  0.13825125208681135\n",
    "\n",
    "iter_classifier = "
   ]
  },
  {
   "cell_type": "raw",
   "metadata": {},
   "source": [
    "\"\"\" NOT volumetric attacks \"\"\"\n",
    "# GE\n",
    "# Length of test data:  2541\n",
    "# Number of normal traffic:  2142\n",
    "# Number of true attacks:  399\n",
    "# Percent attacks:  0.15702479338842976\n",
    "    \n",
    "iter_classifier = [0,\n",
    " 0.11764705882352941,\n",
    " 0.14239028944911297,\n",
    " 0.14892623716153128,\n",
    " 0.15219421101774042,\n",
    " 0.15546218487394958,\n",
    " 0.161531279178338,\n",
    " 0.16619981325863678,\n",
    " 0.1704014939309057,\n",
    " 0.176937441643324,\n",
    " 1.0]"
   ]
  },
  {
   "cell_type": "raw",
   "metadata": {},
   "source": [
    "\"\"\" NOT volumetric attacks \"\"\"\n",
    "# Heartbleed\n",
    "# Length of test data:  2434\n",
    "# Number of normal traffic:  2322\n",
    "# Number of true attacks:  112\n",
    "# Percent attacks:  0.04601479046836483\n",
    "\n",
    "iter_classifier = "
   ]
  },
  {
   "cell_type": "raw",
   "metadata": {},
   "source": [
    "\"\"\" NOT volumetric attacks \"\"\"\n",
    "# Slowhttp\n",
    "# Length of test data:  6547\n",
    "# Number of normal traffic:  5502\n",
    "# Number of true attacks:  1045\n",
    "# Percent attacks:  0.1596150908813197"
   ]
  },
  {
   "cell_type": "code",
   "execution_count": 10,
   "metadata": {},
   "outputs": [],
   "source": [
    "graphP, P_tpr = calculateFalsePositives(agt_normals, agt_attacks, userScoreP, percentages, num)\n",
    "graphPQ_online, onlinePQ_tpr = calculateFalsePositives(agt_normals, agt_attacks, userScorePQ_online, percentages, num)\n",
    "graphPQ_offline, offlinePQ_tpr  = calculateFalsePositives(agt_normals, agt_attacks, userScorePQ_offline, percentages, num)\n",
    "# graphQonline, _ = calculateFalsePositives(agt_normals, agt_attacks, userScoreQonline, percentages, num)\n",
    "# graphQoffline, _ = calculateFalsePositives(agt_normals, agt_attacks, userScoreQoffline, percentages, num)   \n",
    "\n",
    "graphP.insert(0, 0)\n",
    "graphPQ_online.insert(0, 0)\n",
    "graphPQ_offline.insert(0, 0)\n",
    "# graphQonline.insert(0, 0)\n",
    "# graphQoffline.insert(0, 0)"
   ]
  },
  {
   "cell_type": "code",
   "execution_count": 16,
   "metadata": {},
   "outputs": [
    {
     "data": {
      "image/png": "[encoded data removed]",
      "text/plain": [
       "<Figure size 648x648 with 1 Axes>"
      ]
     },
     "metadata": {
      "needs_background": "light"
     },
     "output_type": "display_data"
    }
   ],
   "source": [
    "plotAndSaveGraph(graphPQ_online, graphP, graphPQ_offline, \n",
    "                 classifier_rejectthres, fp_classifier, iter_classifier_one, iter_classifier, config) #, plt=True)"
   ]
  },
  {
   "cell_type": "markdown",
   "metadata": {},
   "source": [
    "### Calculate evaluation metrics "
   ]
  },
  {
   "cell_type": "code",
   "execution_count": 23,
   "metadata": {},
   "outputs": [],
   "source": [
    "P_metrics = np.array(np.transpose(calc_eval(graphP, P_tpr, agt_normals, agt_attacks)))\n",
    "onlinePQ_metrics = np.array(np.transpose(calc_eval(graphPQ_online, onlinePQ_tpr, agt_normals, agt_attacks)))\n",
    "offlinePQ_metrics = np.array(np.transpose(calc_eval(graphPQ_offline, offlinePQ_tpr, agt_normals, agt_attacks)))\n",
    "\n",
    "P_metrics = pd.DataFrame(P_metrics, columns=['Accr_P', 'FPR_P', 'Prec_P', 'Rec_P', 'F1_P'])\n",
    "onlinePQ_metrics = pd.DataFrame(onlinePQ_metrics, columns=['Accr_onPQ', 'FPR_onPQ', \n",
    "                                                           'Prec_onPQ', 'Rec_onPQ', 'F1_onPQ'])\n",
    "offlinePQ_metrics = pd.DataFrame(offlinePQ_metrics, columns=['Accr_offPQ', 'FPR_offPQ', \n",
    "                                                             'Prec_offPQ', 'Rec_offPQ', 'F1_offPQ'])\n",
    "df_FPresults = pd.concat([P_metrics,onlinePQ_metrics,offlinePQ_metrics],axis=1)\n",
    "\n",
    "# df_FPresults.to_csv(config['metadata']['uniqueID'] + '/' + config['metadata']['result'] + \n",
    "#                     \"_evalresults.csv\", index=False)"
   ]
  },
  {
   "cell_type": "code",
   "execution_count": 21,
   "metadata": {},
   "outputs": [
    {
     "data": {
      "text/html": [
       "<div>\n",
       "<style scoped>\n",
       "    .dataframe tbody tr th:only-of-type {\n",
       "        vertical-align: middle;\n",
       "    }\n",
       "\n",
       "    .dataframe tbody tr th {\n",
       "        vertical-align: top;\n",
       "    }\n",
       "\n",
       "    .dataframe thead th {\n",
       "        text-align: right;\n",
       "    }\n",
       "</style>\n",
       "<table border=\"1\" class=\"dataframe\">\n",
       "  <thead>\n",
       "    <tr style=\"text-align: right;\">\n",
       "      <th></th>\n",
       "      <th>Accr_P</th>\n",
       "      <th>FPR_P</th>\n",
       "      <th>Prec_P</th>\n",
       "      <th>Rec_P</th>\n",
       "      <th>F1_P</th>\n",
       "      <th>Accr_onPQ</th>\n",
       "      <th>FPR_onPQ</th>\n",
       "      <th>Prec_onPQ</th>\n",
       "      <th>Rec_onPQ</th>\n",
       "      <th>F1_onPQ</th>\n",
       "      <th>Accr_offPQ</th>\n",
       "      <th>FPR_offPQ</th>\n",
       "      <th>Prec_offPQ</th>\n",
       "      <th>Rec_offPQ</th>\n",
       "      <th>F1_offPQ</th>\n",
       "    </tr>\n",
       "  </thead>\n",
       "  <tbody>\n",
       "    <tr>\n",
       "      <th>0</th>\n",
       "      <td>0.370538</td>\n",
       "      <td>0.152021</td>\n",
       "      <td>0.409052</td>\n",
       "      <td>0.066918</td>\n",
       "      <td>0.115020</td>\n",
       "      <td>0.488728</td>\n",
       "      <td>0.000000</td>\n",
       "      <td>1.000000</td>\n",
       "      <td>0.163593</td>\n",
       "      <td>0.281186</td>\n",
       "      <td>0.488557</td>\n",
       "      <td>0.000220</td>\n",
       "      <td>0.999146</td>\n",
       "      <td>0.163453</td>\n",
       "      <td>0.280946</td>\n",
       "    </tr>\n",
       "    <tr>\n",
       "      <th>1</th>\n",
       "      <td>0.431085</td>\n",
       "      <td>0.202768</td>\n",
       "      <td>0.605892</td>\n",
       "      <td>0.198240</td>\n",
       "      <td>0.298737</td>\n",
       "      <td>0.580188</td>\n",
       "      <td>0.010984</td>\n",
       "      <td>0.978651</td>\n",
       "      <td>0.320201</td>\n",
       "      <td>0.482526</td>\n",
       "      <td>0.581896</td>\n",
       "      <td>0.008787</td>\n",
       "      <td>0.982921</td>\n",
       "      <td>0.321598</td>\n",
       "      <td>0.484632</td>\n",
       "    </tr>\n",
       "    <tr>\n",
       "      <th>2</th>\n",
       "      <td>0.473185</td>\n",
       "      <td>0.277241</td>\n",
       "      <td>0.640763</td>\n",
       "      <td>0.314473</td>\n",
       "      <td>0.421891</td>\n",
       "      <td>0.673356</td>\n",
       "      <td>0.019772</td>\n",
       "      <td>0.974381</td>\n",
       "      <td>0.478206</td>\n",
       "      <td>0.641552</td>\n",
       "      <td>0.675235</td>\n",
       "      <td>0.017355</td>\n",
       "      <td>0.977512</td>\n",
       "      <td>0.479743</td>\n",
       "      <td>0.643614</td>\n",
       "    </tr>\n",
       "    <tr>\n",
       "      <th>3</th>\n",
       "      <td>0.525192</td>\n",
       "      <td>0.338972</td>\n",
       "      <td>0.670581</td>\n",
       "      <td>0.438810</td>\n",
       "      <td>0.530485</td>\n",
       "      <td>0.768061</td>\n",
       "      <td>0.026582</td>\n",
       "      <td>0.974167</td>\n",
       "      <td>0.637469</td>\n",
       "      <td>0.770647</td>\n",
       "      <td>0.769428</td>\n",
       "      <td>0.024824</td>\n",
       "      <td>0.975875</td>\n",
       "      <td>0.638586</td>\n",
       "      <td>0.771998</td>\n",
       "    </tr>\n",
       "    <tr>\n",
       "      <th>4</th>\n",
       "      <td>0.590350</td>\n",
       "      <td>0.383787</td>\n",
       "      <td>0.701623</td>\n",
       "      <td>0.573903</td>\n",
       "      <td>0.631369</td>\n",
       "      <td>0.808625</td>\n",
       "      <td>0.103032</td>\n",
       "      <td>0.919898</td>\n",
       "      <td>0.752445</td>\n",
       "      <td>0.827788</td>\n",
       "      <td>0.829120</td>\n",
       "      <td>0.076670</td>\n",
       "      <td>0.940393</td>\n",
       "      <td>0.769209</td>\n",
       "      <td>0.846231</td>\n",
       "    </tr>\n",
       "    <tr>\n",
       "      <th>5</th>\n",
       "      <td>0.652775</td>\n",
       "      <td>0.432118</td>\n",
       "      <td>0.720040</td>\n",
       "      <td>0.706762</td>\n",
       "      <td>0.713339</td>\n",
       "      <td>0.825619</td>\n",
       "      <td>0.209798</td>\n",
       "      <td>0.864076</td>\n",
       "      <td>0.848142</td>\n",
       "      <td>0.856035</td>\n",
       "      <td>0.838599</td>\n",
       "      <td>0.193102</td>\n",
       "      <td>0.874893</td>\n",
       "      <td>0.858759</td>\n",
       "      <td>0.866751</td>\n",
       "    </tr>\n",
       "    <tr>\n",
       "      <th>6</th>\n",
       "      <td>0.714859</td>\n",
       "      <td>0.480888</td>\n",
       "      <td>0.732951</td>\n",
       "      <td>0.839341</td>\n",
       "      <td>0.782546</td>\n",
       "      <td>0.773612</td>\n",
       "      <td>0.405316</td>\n",
       "      <td>0.774918</td>\n",
       "      <td>0.887399</td>\n",
       "      <td>0.827353</td>\n",
       "      <td>0.799061</td>\n",
       "      <td>0.372583</td>\n",
       "      <td>0.793095</td>\n",
       "      <td>0.908215</td>\n",
       "      <td>0.846760</td>\n",
       "    </tr>\n",
       "    <tr>\n",
       "      <th>7</th>\n",
       "      <td>0.722801</td>\n",
       "      <td>0.599297</td>\n",
       "      <td>0.708796</td>\n",
       "      <td>0.927633</td>\n",
       "      <td>0.803582</td>\n",
       "      <td>0.745687</td>\n",
       "      <td>0.569859</td>\n",
       "      <td>0.723100</td>\n",
       "      <td>0.946354</td>\n",
       "      <td>0.819799</td>\n",
       "      <td>0.759180</td>\n",
       "      <td>0.552504</td>\n",
       "      <td>0.731533</td>\n",
       "      <td>0.957390</td>\n",
       "      <td>0.829360</td>\n",
       "    </tr>\n",
       "    <tr>\n",
       "      <th>8</th>\n",
       "      <td>0.700512</td>\n",
       "      <td>0.756591</td>\n",
       "      <td>0.673214</td>\n",
       "      <td>0.991199</td>\n",
       "      <td>0.801831</td>\n",
       "      <td>0.707344</td>\n",
       "      <td>0.747803</td>\n",
       "      <td>0.677009</td>\n",
       "      <td>0.996787</td>\n",
       "      <td>0.806351</td>\n",
       "      <td>0.708369</td>\n",
       "      <td>0.746485</td>\n",
       "      <td>0.677579</td>\n",
       "      <td>0.997625</td>\n",
       "      <td>0.807029</td>\n",
       "    </tr>\n",
       "    <tr>\n",
       "      <th>9</th>\n",
       "      <td>0.611272</td>\n",
       "      <td>1.000000</td>\n",
       "      <td>0.611272</td>\n",
       "      <td>1.000000</td>\n",
       "      <td>0.758745</td>\n",
       "      <td>0.611272</td>\n",
       "      <td>1.000000</td>\n",
       "      <td>0.611272</td>\n",
       "      <td>1.000000</td>\n",
       "      <td>0.758745</td>\n",
       "      <td>0.611272</td>\n",
       "      <td>1.000000</td>\n",
       "      <td>0.611272</td>\n",
       "      <td>1.000000</td>\n",
       "      <td>0.758745</td>\n",
       "    </tr>\n",
       "  </tbody>\n",
       "</table>\n",
       "</div>"
      ],
      "text/plain": [
       "     Accr_P     FPR_P    Prec_P     Rec_P      F1_P  Accr_onPQ  FPR_onPQ  \\\n",
       "0  0.370538  0.152021  0.409052  0.066918  0.115020   0.488728  0.000000   \n",
       "1  0.431085  0.202768  0.605892  0.198240  0.298737   0.580188  0.010984   \n",
       "2  0.473185  0.277241  0.640763  0.314473  0.421891   0.673356  0.019772   \n",
       "3  0.525192  0.338972  0.670581  0.438810  0.530485   0.768061  0.026582   \n",
       "4  0.590350  0.383787  0.701623  0.573903  0.631369   0.808625  0.103032   \n",
       "5  0.652775  0.432118  0.720040  0.706762  0.713339   0.825619  0.209798   \n",
       "6  0.714859  0.480888  0.732951  0.839341  0.782546   0.773612  0.405316   \n",
       "7  0.722801  0.599297  0.708796  0.927633  0.803582   0.745687  0.569859   \n",
       "8  0.700512  0.756591  0.673214  0.991199  0.801831   0.707344  0.747803   \n",
       "9  0.611272  1.000000  0.611272  1.000000  0.758745   0.611272  1.000000   \n",
       "\n",
       "   Prec_onPQ  Rec_onPQ   F1_onPQ  Accr_offPQ  FPR_offPQ  Prec_offPQ  \\\n",
       "0   1.000000  0.163593  0.281186    0.488557   0.000220    0.999146   \n",
       "1   0.978651  0.320201  0.482526    0.581896   0.008787    0.982921   \n",
       "2   0.974381  0.478206  0.641552    0.675235   0.017355    0.977512   \n",
       "3   0.974167  0.637469  0.770647    0.769428   0.024824    0.975875   \n",
       "4   0.919898  0.752445  0.827788    0.829120   0.076670    0.940393   \n",
       "5   0.864076  0.848142  0.856035    0.838599   0.193102    0.874893   \n",
       "6   0.774918  0.887399  0.827353    0.799061   0.372583    0.793095   \n",
       "7   0.723100  0.946354  0.819799    0.759180   0.552504    0.731533   \n",
       "8   0.677009  0.996787  0.806351    0.708369   0.746485    0.677579   \n",
       "9   0.611272  1.000000  0.758745    0.611272   1.000000    0.611272   \n",
       "\n",
       "   Rec_offPQ  F1_offPQ  \n",
       "0   0.163453  0.280946  \n",
       "1   0.321598  0.484632  \n",
       "2   0.479743  0.643614  \n",
       "3   0.638586  0.771998  \n",
       "4   0.769209  0.846231  \n",
       "5   0.858759  0.866751  \n",
       "6   0.908215  0.846760  \n",
       "7   0.957390  0.829360  \n",
       "8   0.997625  0.807029  \n",
       "9   1.000000  0.758745  "
      ]
     },
     "execution_count": 21,
     "metadata": {},
     "output_type": "execute_result"
    }
   ],
   "source": [
    "# Rows 3=0.4, 4=0.5, 5=0.6\n",
    "df_FPresults#.iloc[4]"
   ]
  },
  {
   "cell_type": "code",
   "execution_count": null,
   "metadata": {},
   "outputs": [],
   "source": [
    "# reject 50%\n",
    "df_FPresults.iloc[4]"
   ]
  },
  {
   "cell_type": "code",
   "execution_count": null,
   "metadata": {},
   "outputs": [],
   "source": []
  },
  {
   "cell_type": "code",
   "execution_count": null,
   "metadata": {},
   "outputs": [],
   "source": []
  },
  {
   "cell_type": "code",
   "execution_count": null,
   "metadata": {},
   "outputs": [],
   "source": []
  },
  {
   "cell_type": "code",
   "execution_count": null,
   "metadata": {},
   "outputs": [],
   "source": []
  },
  {
   "cell_type": "markdown",
   "metadata": {},
   "source": [
    "### Calculate evaluation metrics "
   ]
  },
  {
   "cell_type": "code",
   "execution_count": null,
   "metadata": {},
   "outputs": [],
   "source": [
    "fpr=graphP; tpr=P_tpr\n",
    "# fpr=graphPQ_online; tpr=onlinePQ_tpr\n",
    "# fpr=graphPQ_offline; tpr=offlinePQ_tpr"
   ]
  },
  {
   "cell_type": "code",
   "execution_count": null,
   "metadata": {},
   "outputs": [],
   "source": [
    "tau = 5 #3=0.4, 4=0.5, 5=0.6\n",
    "fpr = np.array(fpr[1:])\n",
    "tpr = np.array(tpr)\n",
    "\n",
    "Total = len(agt_normals)+len(agt_attacks) #len(userScoreP)\n",
    "TotalN = len(agt_normals)\n",
    "TotalP = Total-TotalN\n",
    "FP = fpr*TotalN\n",
    "TN = TotalN - FP\n",
    "TP = tpr*TotalP\n",
    "FN = TotalP-TP\n",
    "\n",
    "print(Total, TotalN, TotalP, FP[tau], TN[tau], TP[tau], FN[tau])"
   ]
  },
  {
   "cell_type": "code",
   "execution_count": null,
   "metadata": {},
   "outputs": [],
   "source": [
    "Accr = (TP+TN) / (TP+TN+FP+FN)\n",
    "FPR = FP / (FP + TN)\n",
    "Prec = TP / (TP + FP)\n",
    "Rec = TP / (TP + FN)\n",
    "F1 = 2 * ((Prec*Rec) / (Prec+Rec))\n",
    "\n",
    "print(Accr[tau], FPR[tau], Prec[tau], Rec[tau], F1[tau])"
   ]
  },
  {
   "cell_type": "code",
   "execution_count": null,
   "metadata": {},
   "outputs": [],
   "source": [
    "graphP = np.array(graphP)\n",
    "graphPQ= np.array(graphPQ_online)\n",
    "graphPQTil= np.array(graphPQ_offline)\n",
    "\n",
    "df_FPresults = pd.DataFrame({\"P_FP\":graphP[1:], \"OnlineQ_FP\":graphPQ[1:], \"OfflineQ_FP\":graphPQTil[1:], \n",
    "                             \"Accr\":Accr, \"FPR\":FPR, \"Precision\":Prec, \n",
    "                             \"Recall\":Rec, \"F1_score\":F1})\n",
    "\n",
    "# df_FPresults.to_csv(config['metadata']['uniqueID'] + '/' + config['metadata']['result'] + \n",
    "#                     \"_FP_finalresults.csv\", index=False)"
   ]
  },
  {
   "cell_type": "code",
   "execution_count": null,
   "metadata": {
    "scrolled": true
   },
   "outputs": [],
   "source": [
    "df_FPresults"
   ]
  },
  {
   "cell_type": "raw",
   "metadata": {},
   "source": [
    "\"\"\"\n",
    "reject threshold = 40%\n",
    "print(Accr, FPR, Prec, Rec, F1)\n",
    "HULK: 0.9927961240948892,0.00930809804529941,0.9964550080428329,0.9935952177625961,0.9950230580800922\n",
    "GE: 0.9780898876404495,0.06741573033707865,0.9924385633270322,0.9831460674157303,0.9877704609595485\n",
    "slowhttp: 0.9137151398191244,0.11437908496732026,0.9569949916527546,0.9239130434782609,0.9401630901850673\n",
    "Heartbleed: 0.9097222222222222 0.2777777777777778 0.9678972712680578 0.9305555555555556 0.9488591660110149\n",
    "LOIC: 0.9762732962293993 0.03424657534246575 0.9891595435049444 0.9795709908069459 0.9843419169967335\n",
    "\"\"\""
   ]
  },
  {
   "cell_type": "raw",
   "metadata": {},
   "source": [
    "\"\"\"\n",
    "reject threshold = 50%\n",
    "print(Accr, FPR, Prec, Rec, F1)\n",
    "HULK: 0.9924694200363029,0.011169717654359293,0.9957501147305705,0.9938514090520923,0.9947998559101059\n",
    "GE: 0.9716853932584271,0.10112359550561797,0.9886621315192744,0.9797752808988764,0.984198645598194\n",
    "Slowhttp: 0.8969780905891701,0.1568627450980392,0.9415081983889323,0.9165217391304348,0.9288469620086431\n",
    "Heartbleed: 0.9118518518518518 0.3148148148148148 0.9640135478408128 0.937037037037037 0.9503338898163606\n",
    "LOIC: 0.9608343950575735 0.06506849315068493 0.9793832528822755 0.9689542483660131 0.9741408385875667\n",
    "\"\"\""
   ]
  },
  {
   "cell_type": "raw",
   "metadata": {},
   "source": [
    "\"\"\"\n",
    "reject threshold = 60%\n",
    "print(Accr, FPR, Prec, Rec, F1)\n",
    "HULK: 0.98981820117689,0.016754576481538937,0.9936288982872563,0.9923142613151151,0.9929711446753463\n",
    "GE: 0.9705056179775281,0.11797752808988764,0.9868049010367578,0.9803370786516854,0.9835603569751058\n",
    "Slowhttp: 0.8530442350626254,0.24836601307189543,0.9080067784479039,0.8898550724637682,0.8988392931566226\n",
    "Heartbleed: 0.9027777777777778 0.3888888888888889 0.9558359621451105 0.9351851851851852 0.9453978159126365\n",
    "LOIC: 0.9388222975132718 0.11301369863013698 0.9642334223495181 0.955071477195371 0.9596305821580213\n",
    "\"\"\""
   ]
  },
  {
   "cell_type": "code",
   "execution_count": null,
   "metadata": {},
   "outputs": [],
   "source": []
  },
  {
   "cell_type": "code",
   "execution_count": null,
   "metadata": {},
   "outputs": [],
   "source": []
  }
 ],
 "metadata": {
  "kernelspec": {
   "display_name": "ddos",
   "language": "python",
   "name": "ddos"
  },
  "language_info": {
   "codemirror_mode": {
    "name": "ipython",
    "version": 3
   },
   "file_extension": ".py",
   "mimetype": "text/x-python",
   "name": "python",
   "nbconvert_exporter": "python",
   "pygments_lexer": "ipython3",
   "version": "3.7.5"
  }
 },
 "nbformat": 4,
 "nbformat_minor": 4
}
