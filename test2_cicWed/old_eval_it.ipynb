{
 "cells": [
  {
   "cell_type": "code",
   "execution_count": 1,
   "metadata": {},
   "outputs": [],
   "source": [
    "import pickle\n",
    "# import matplotlib.pyplot as plot\n",
    "import yaml\n",
    "import pandas as pd\n",
    "import pickle\n",
    "import sys\n",
    "import numpy as np\n",
    "\n",
    "# Plot and save fig without displaying it on X server \n",
    "# import matplotlib\n",
    "# matplotlib.use('Agg')\n",
    "import matplotlib.pyplot as plot"
   ]
  },
  {
   "cell_type": "code",
   "execution_count": 2,
   "metadata": {},
   "outputs": [
    {
     "name": "stderr",
     "output_type": "stream",
     "text": [
      "/home/wesleyjtann/miniconda3/envs/ddos/lib/python3.7/site-packages/ipykernel_launcher.py:3: YAMLLoadWarning: calling yaml.load() without Loader=... is deprecated, as the default Loader is unsafe. Please read https://msg.pyyaml.org/load for full details.\n",
      "  This is separate from the ipykernel package so we can avoid doing imports until\n"
     ]
    }
   ],
   "source": [
    "def loadConfig():\n",
    "    with open('./light_config_hulk.yaml', \"r\") as ymlfile: #GE, hulk, slowhttp, slowloris, heartbleed\n",
    "        cfg = yaml.load(ymlfile)\n",
    "    return cfg\n",
    "\n",
    "config = loadConfig()"
   ]
  },
  {
   "cell_type": "code",
   "execution_count": 3,
   "metadata": {},
   "outputs": [],
   "source": [
    "#Create a function that plots the graphs with acceptance rate of 0.1,0.2 ..... 1.0\n",
    "#Calculate those who got normal how many were rejected wrongly and not inside the AGT List.\n",
    "import math\n",
    "\n",
    "def calculateFalsePositives(agtIPList, agt_attacks, scoreDict, percentages, numNorm) :\n",
    "    numNormal = numNorm\n",
    "    numTotalIP = len(scoreDict)\n",
    "    cutOff = []\n",
    "    falsepositives = []\n",
    "    \n",
    "    for percent in percentages :\n",
    "        cutOff.append(math.ceil(numTotalIP * percent))\n",
    "    \n",
    "    scoreCount = 0\n",
    "    index = 0\n",
    "    tp_count = 0 # add\n",
    "    truepos = [] # add\n",
    "    \n",
    "    for (IP, IPD, score) in list(scoreDict.itertuples(index=False, name=None)):\n",
    "        if IP + IPD in agtIPList:\n",
    "            scoreCount = scoreCount + 1\n",
    "        if IP + IPD in agt_attacks: # add\n",
    "            tp_count = tp_count + 1 # add\n",
    "            \n",
    "        index = index + 1\n",
    "        if index in cutOff :\n",
    "            falsepositives.append(scoreCount/numNormal)\n",
    "            truepos.append(tp_count / index) #len(agt_attacks)) # add\n",
    "            \n",
    "    return falsepositives, truepos\n",
    "        \n",
    "def plotAndSaveGraph(PQ, P, PQTil, Qonline, Qoffline, config, plt=False):\n",
    "# def plotAndSaveGraph(PQ, P, config):\n",
    "    percentages = [0.0, 0.1, 0.2, 0.3, 0.4, 0.5, 0.6, 0.7, 0.8, 0.9, 1.0]\n",
    "\n",
    "    plot.rcParams['figure.figsize'] = [9, 9]\n",
    "    fig = plot.figure()\n",
    "    ax = plot.subplot(111)\n",
    "    # #ax.plot(percentages, old_graphScoreList, label = \"Old P Over Q Scores\")\n",
    "    # #ax.plot(percentages, old_graphPList, label = \"Old P Scores\")\n",
    "    ax.plot(percentages, percentages, linewidth=2, label = \"Randomized Rejection\")\n",
    "    ax.plot(percentages, P, linewidth=2, label = \"N Only\")\n",
    "    ax.plot(percentages, PQ, linewidth=2, label = \"Online N/D\") #With Transfer\")\n",
    "    ax.plot(percentages, PQTil, linewidth=2, label = \"Offline N/D\") #Without Transfer\") \n",
    "#     ax.plot(percentages, Qonline, label = \"Online Q\")\n",
    "#     ax.plot(percentages, Qoffline, label = \"Offline Q\") \n",
    "    \n",
    "#     plot.xlabel('Rejection Threshold', fontsize=24)\n",
    "#     plot.ylabel('False Reject Rates', fontsize=24)\n",
    "#     plot.title(\"False Positive rates for \" + config['metadata']['name'])\n",
    "    ax.legend(fontsize=18)\n",
    "    if plt:\n",
    "        plot.savefig(config['metadata']['uniqueID'] + '/' + config['metadata']['result'] + '_FPGraphfinal')"
   ]
  },
  {
   "cell_type": "markdown",
   "metadata": {},
   "source": [
    "### Test set"
   ]
  },
  {
   "cell_type": "raw",
   "metadata": {},
   "source": [
    "# Heartbleed attack\n",
    "attk_IP = '172.16.0.1' # -> \n",
    "victim_IP1 = '192.168.10.50' \n",
    "victim_IP2 = '192.168.10.51'\n",
    "victim_IP3 = '192.168.10.5'\n",
    "\n",
    "df_test = pd.read_csv(config['metadata']['uniqueID'] + '/' + config['metadata']['artefact'] + '/' + 'TEST.csv')\n",
    "victim1_sourcecount = (df_test['Source IP'] == victim_IP1).astype(int).sum(axis=0)\n",
    "victim2_sourcecount = (df_test['Source IP'] == victim_IP2).astype(int).sum(axis=0)\n",
    "victim3_sourcecount = (df_test['Source IP'] == victim_IP3).astype(int).sum(axis=0)\n",
    "victim1_destcount = (df_test['Dest IP'] == victim_IP1).astype(int).sum(axis=0)\n",
    "victim2_destcount = (df_test['Dest IP'] == victim_IP2).astype(int).sum(axis=0)\n",
    "victim3_destcount = (df_test['Dest IP'] == victim_IP3).astype(int).sum(axis=0)\n",
    "totalvictim_sourcecount = victim1_sourcecount+victim2_sourcecount+victim3_sourcecount\n",
    "totalvictim_destcount = victim1_destcount+victim2_destcount+victim3_destcount\n",
    "\n",
    "print(\"df_test length: \", len(df_test))\n",
    "print(\"attacker IP count: \", (df_test['Source IP'] == attk_IP).astype(int).sum(axis=0)) #966\n",
    "print(\"victim IP count: \", totalvictim_sourcecount)\n",
    "print(\"victim Dest IP count: \", totalvictim_destcount)"
   ]
  },
  {
   "cell_type": "raw",
   "metadata": {},
   "source": [
    "# Other DDoS attacks\n",
    "attk_IP = '172.16.0.1'\n",
    "victim_IP = '192.168.10.50'\n",
    "\n",
    "df_test = pd.read_csv(config['metadata']['uniqueID'] + '/' + config['metadata']['artefact'] + '/' + 'TEST.csv')\n",
    "print(\"df_test length: \", len(df_test))\n",
    "print(\"attacker IP count: \", (df_test['Source IP'] == attk_IP).astype(int).sum(axis=0)) #966\n",
    "print(\"victim IP count: \", (df_test['Source IP'] == victim_IP).astype(int).sum(axis=0))\n",
    "print(\"victim Dest IP count: \", (df_test['Dest IP'] == victim_IP).astype(int).sum(axis=0))"
   ]
  },
  {
   "cell_type": "raw",
   "metadata": {},
   "source": [
    "attk_count = (df_test['Source IP'] == attk_IP).astype(int).sum(axis=0)\n",
    "attk_count / len(df_test)"
   ]
  },
  {
   "cell_type": "raw",
   "metadata": {},
   "source": [
    "print(\"nonvictim: \", 1-((df_test['Source IP'] == '192.168.10.50').astype(int).sum(axis=0)/len(df_test)))"
   ]
  },
  {
   "cell_type": "raw",
   "metadata": {},
   "source": [
    "print(\"attackIP: \", (df_test['Source IP'] == '172.16.0.1').astype(int).sum(axis=0)/len(df_test))"
   ]
  },
  {
   "cell_type": "raw",
   "metadata": {},
   "source": [
    "len(df_test) - (df_test['Source IP'] == '172.16.0.1').astype(int).sum(axis=0) "
   ]
  },
  {
   "cell_type": "code",
   "execution_count": 4,
   "metadata": {},
   "outputs": [],
   "source": [
    "# #Load User Scores\n",
    "userScoreP = pickle.load(open(config['metadata']['uniqueID'] + '/' + config['metadata']['artefact'] + '/' + 'PScore', 'rb'))\n",
    "userScoreP = userScoreP.sort_values(by = ['P'],ascending=False) # add\n",
    "\n",
    "userScorePQ_online = pickle.load(open(config['metadata']['uniqueID'] + '/' + config['metadata']['artefact'] + '/' + 'PoverQonline_score', 'rb'))\n",
    "userScorePQ_online = userScorePQ_online.sort_values(by = ['PoverQ_online'],ascending=False) # add \n",
    "\n",
    "userScorePQ_offline = pickle.load(open(config['metadata']['uniqueID'] + '/' + config['metadata']['artefact'] + '/' + 'PoverQoffline_score', 'rb'))\n",
    "userScorePQ_offline = userScorePQ_offline.sort_values(by = ['PoverQ_offline'],ascending=False) \n",
    "\n",
    "userScoreQonline = pickle.load(open(config['metadata']['uniqueID'] + '/' + config['metadata']['artefact'] + '/' + 'onlineQ', 'rb'))\n",
    "userScoreQonline = userScoreQonline.sort_values(by = ['QWithT'],ascending=False)\n",
    "\n",
    "userScoreQoffline = pickle.load(open(config['metadata']['uniqueID'] + '/' + config['metadata']['artefact'] + '/' + 'offlineQ', 'rb'))\n",
    "userScoreQoffline = userScoreQoffline.sort_values(by = ['QWithoutT'],ascending=False)"
   ]
  },
  {
   "cell_type": "raw",
   "metadata": {
    "scrolled": true
   },
   "source": [
    "len(userScoreP)\n",
    "# userScorePQ\n",
    "# userScorePQTil\n",
    "# userScoreQonline\n",
    "# userScoreQoffline"
   ]
  },
  {
   "cell_type": "markdown",
   "metadata": {},
   "source": [
    "### Predicted P-only user scores"
   ]
  },
  {
   "cell_type": "code",
   "execution_count": 5,
   "metadata": {
    "scrolled": true
   },
   "outputs": [
    {
     "name": "stdout",
     "output_type": "stream",
     "text": [
      "Length of userScoreP:  11710\n"
     ]
    }
   ],
   "source": [
    "print(\"Length of userScoreP: \", len(userScoreP))"
   ]
  },
  {
   "cell_type": "code",
   "execution_count": 6,
   "metadata": {},
   "outputs": [
    {
     "name": "stdout",
     "output_type": "stream",
     "text": [
      "Length of userScoreP:  11710\n",
      "Length of Normal traffic:  3223\n",
      "Length of true attacks:  8487\n",
      "Percent:  0.27523484201537146\n"
     ]
    }
   ],
   "source": [
    "agt_normals = []\n",
    "agt_attacks = []\n",
    "\n",
    "print(\"Length of userScoreP: \", len(userScoreP))\n",
    "\n",
    "for (IP, IPD, score) in list(userScoreP.itertuples(index=False, name=None)):\n",
    "#     if IP != '172.16.0.1' and IP == '192.168.10.50': # CIC Friday\n",
    "#     if (IP != '172.16.0.1' and IPD=='192.168.10.50') or IP == '192.168.10.50': # CIC Wed\n",
    "#     if (IP != '172.16.0.1' and IPD=='192.168.10.50') or IP == '192.168.10.50': \n",
    "    if (IP != '172.16.0.1' and  IPD=='192.168.10.50') or IP == '192.168.10.50': \n",
    "        agt_normals.append(IP + IPD)\n",
    "    else:\n",
    "        agt_attacks.append(IP+IPD)\n",
    "\n",
    "print(\"Length of Normal traffic: \", len(agt_normals))\n",
    "print(\"Length of true attacks: \", len(agt_attacks))\n",
    "\n",
    "#Plot some graphs\n",
    "percentages = [0.1, 0.2, 0.3, 0.4, 0.5, 0.6, 0.7, 0.8, 0.9, 1.0]\n",
    "\n",
    "num = len(agt_normals)\n",
    "print(\"Percent: \", num/len(userScoreP))"
   ]
  },
  {
   "cell_type": "code",
   "execution_count": 7,
   "metadata": {},
   "outputs": [
    {
     "data": {
      "image/png": "[encoded data removed]",
      "text/plain": [
       "<Figure size 648x648 with 1 Axes>"
      ]
     },
     "metadata": {
      "needs_background": "light"
     },
     "output_type": "display_data"
    }
   ],
   "source": [
    "graphP, P_tpr = calculateFalsePositives(agt_normals, agt_attacks, userScoreP, percentages, num)\n",
    "graphPQ_online, onlinePQ_tpr = calculateFalsePositives(agt_normals, agt_attacks, userScorePQ_online, percentages, num)\n",
    "graphPQ_offline, offlinePQ_tpr  = calculateFalsePositives(agt_normals, agt_attacks, userScorePQ_offline, percentages, num)\n",
    "graphQonline, _ = calculateFalsePositives(agt_normals, agt_attacks, userScoreQonline, percentages, num)\n",
    "graphQoffline, _ = calculateFalsePositives(agt_normals, agt_attacks, userScoreQoffline, percentages, num)   \n",
    "\n",
    "graphP.insert(0, 0)\n",
    "graphPQ_online.insert(0, 0)\n",
    "graphPQ_offline.insert(0, 0)\n",
    "# graphQonline.insert(0, 0)\n",
    "# graphQoffline.insert(0, 0)\n",
    "\n",
    "plotAndSaveGraph(graphPQ_online, graphP, graphPQ_offline, graphQonline, graphQoffline, config) #, plt=True)"
   ]
  },
  {
   "cell_type": "code",
   "execution_count": 8,
   "metadata": {},
   "outputs": [
    {
     "name": "stdout",
     "output_type": "stream",
     "text": [
      "[0.05522804840210983, 0.09277071051815079]\n",
      "[0.011169717654359293, 0.016754576481538937]\n",
      "[0.013962147067949116, 0.020477815699658702]\n"
     ]
    }
   ],
   "source": [
    "print(graphP[5:7])\n",
    "print(graphPQ_online[5:7])\n",
    "print(graphPQ_offline[5:7])"
   ]
  },
  {
   "cell_type": "code",
   "execution_count": 9,
   "metadata": {},
   "outputs": [
    {
     "name": "stdout",
     "output_type": "stream",
     "text": [
      "[0.957443780244805, 0.9313163352446017]\n",
      "[0.9923142613151152, 0.986214468708064]\n",
      "[0.9906063193851409, 0.9826765889959741]\n"
     ]
    }
   ],
   "source": [
    "print(P_tpr[5:7])\n",
    "print(onlinePQ_tpr[5:7])\n",
    "print(offlinePQ_tpr[5:7])"
   ]
  },
  {
   "cell_type": "markdown",
   "metadata": {},
   "source": [
    "### Calculate evaluation metrics "
   ]
  },
  {
   "cell_type": "code",
   "execution_count": 10,
   "metadata": {},
   "outputs": [],
   "source": [
    "def calc_eval(fpr, tpr):\n",
    "    fpr = np.array(fpr[1:])\n",
    "    tpr = np.array(tpr)\n",
    "\n",
    "    Total = len(agt_normals)+len(agt_attacks) #len(userScoreP)\n",
    "    TotalN = len(agt_normals)\n",
    "    TotalP = Total-TotalN\n",
    "    FP = fpr*TotalN\n",
    "    TN = TotalN - FP\n",
    "    TP = tpr*TotalP\n",
    "    FN = TotalP-TP\n",
    "    \n",
    "    Accr = (TP+TN) / (TP+TN+FP+FN)\n",
    "    FPR = FP / (FP + TN)\n",
    "    Prec = TP / (TP + FP)\n",
    "    Rec = TP / (TP + FN)\n",
    "    F1 = 2 * ((Prec*Rec) / (Prec+Rec))\n",
    "\n",
    "    return (Accr, FPR, Prec, Rec, F1)"
   ]
  },
  {
   "cell_type": "code",
   "execution_count": 11,
   "metadata": {},
   "outputs": [],
   "source": [
    "P_metrics = np.array(np.transpose(calc_eval(graphP, P_tpr)))\n",
    "onlinePQ_metrics = np.array(np.transpose(calc_eval(graphPQ_online, onlinePQ_tpr)))\n",
    "offlinePQ_metrics = np.array(np.transpose(calc_eval(graphPQ_offline, offlinePQ_tpr)))"
   ]
  },
  {
   "cell_type": "code",
   "execution_count": 12,
   "metadata": {},
   "outputs": [],
   "source": [
    "P_metrics = pd.DataFrame(P_metrics, columns=['Accr_P', 'FPR_P', 'Prec_P', 'Rec_P', 'F1_P'])\n",
    "onlinePQ_metrics = pd.DataFrame(onlinePQ_metrics, columns=['Accr_onPQ', 'FPR_onPQ', \n",
    "                                                           'Prec_onPQ', 'Rec_onPQ', 'F1_onPQ'])\n",
    "offlinePQ_metrics = pd.DataFrame(offlinePQ_metrics, columns=['Accr_offPQ', 'FPR_offPQ', \n",
    "                                                             'Prec_offPQ', 'Rec_offPQ', 'F1_offPQ'])\n",
    "df_FPresults = pd.concat([P_metrics,onlinePQ_metrics,offlinePQ_metrics],axis=1)\n",
    "\n",
    "# df_FPresults.to_csv(config['metadata']['uniqueID'] + '/' + config['metadata']['result'] + \n",
    "#                     \"_FP_finalresults.csv\", index=False)"
   ]
  },
  {
   "cell_type": "raw",
   "metadata": {},
   "source": [
    "# fpr=graphP; tpr=P_tpr\n",
    "fpr=graphPQ_online; tpr=onlinePQ_tpr\n",
    "# fpr=graphPQ_offline; tpr=offlinePQ_tpr"
   ]
  },
  {
   "cell_type": "raw",
   "metadata": {},
   "source": [
    "tau = 4 #3=0.4, 4=0.5, 5=0.6\n",
    "fpr = np.array(fpr[1:])\n",
    "tpr = np.array(tpr)\n",
    "\n",
    "Total = len(agt_normals)+len(agt_attacks) #len(userScoreP)\n",
    "TotalN = len(agt_normals)\n",
    "TotalP = Total-TotalN\n",
    "FP = fpr*TotalN\n",
    "TN = TotalN - FP\n",
    "TP = tpr*TotalP\n",
    "FN = TotalP-TP\n",
    "\n",
    "print(Total, TotalN, TotalP, FP[tau], TN[tau], TP[tau], FN[tau])"
   ]
  },
  {
   "cell_type": "raw",
   "metadata": {},
   "source": [
    "Accr = (TP+TN) / (TP+TN+FP+FN)\n",
    "FPR = FP / (FP + TN)\n",
    "Prec = TP / (TP + FP)\n",
    "Rec = TP / (TP + FN)\n",
    "F1 = 2 * ((Prec*Rec) / (Prec+Rec))\n",
    "\n",
    "print(Accr[tau], FPR[tau], Prec[tau], Rec[tau], F1[tau])"
   ]
  },
  {
   "cell_type": "raw",
   "metadata": {},
   "source": [
    "graphP = np.array(graphP)\n",
    "graphPQ= np.array(graphPQ_online)\n",
    "graphPQTil= np.array(graphPQ_offline)\n",
    "\n",
    "df_FPresults = pd.DataFrame({\"P_FP\":graphP[1:], \"OnlineQ_FP\":graphPQ[1:], \"OfflineQ_FP\":graphPQTil[1:], \n",
    "                             \"Accr\":Accr, \"FPR\":FPR, \"Precision\":Prec, \n",
    "                             \"Recall\":Rec, \"F1_score\":F1})\n",
    "\n",
    "# df_FPresults.to_csv(config['metadata']['uniqueID'] + '/' + config['metadata']['result'] + \n",
    "#                     \"_FP_finalresults.csv\", index=False)"
   ]
  },
  {
   "cell_type": "raw",
   "metadata": {
    "scrolled": true
   },
   "source": [
    "df_FPresults"
   ]
  },
  {
   "cell_type": "raw",
   "metadata": {},
   "source": [
    "\"\"\"\n",
    "reject threshold = 40%\n",
    "print(Accr, FPR, Prec, Rec, F1)\n",
    "HULK: 0.9927961240948892,0.00930809804529941,0.9964550080428329,0.9935952177625961,0.9950230580800922\n",
    "GE: 0.9780898876404495,0.06741573033707865,0.9924385633270322,0.9831460674157303,0.9877704609595485\n",
    "slowhttp: 0.9137151398191244,0.11437908496732026,0.9569949916527546,0.9239130434782609,0.9401630901850673\n",
    "Heartbleed: 0.9097222222222222 0.2777777777777778 0.9678972712680578 0.9305555555555556 0.9488591660110149\n",
    "LOIC: 0.9762732962293993 0.03424657534246575 0.9891595435049444 0.9795709908069459 0.9843419169967335\n",
    "\"\"\""
   ]
  },
  {
   "cell_type": "raw",
   "metadata": {},
   "source": [
    "\"\"\"\n",
    "reject threshold = 50%\n",
    "print(Accr, FPR, Prec, Rec, F1)\n",
    "HULK: 0.9924694200363029,0.011169717654359293,0.9957501147305705,0.9938514090520923,0.9947998559101059\n",
    "GE: 0.9716853932584271,0.10112359550561797,0.9886621315192744,0.9797752808988764,0.984198645598194\n",
    "Slowhttp: 0.8969780905891701,0.1568627450980392,0.9415081983889323,0.9165217391304348,0.9288469620086431\n",
    "Heartbleed: 0.9118518518518518 0.3148148148148148 0.9640135478408128 0.937037037037037 0.9503338898163606\n",
    "LOIC: 0.9608343950575735 0.06506849315068493 0.9793832528822755 0.9689542483660131 0.9741408385875667\n",
    "\"\"\""
   ]
  },
  {
   "cell_type": "raw",
   "metadata": {},
   "source": [
    "\"\"\"\n",
    "reject threshold = 60%\n",
    "print(Accr, FPR, Prec, Rec, F1)\n",
    "HULK: 0.98981820117689,0.016754576481538937,0.9936288982872563,0.9923142613151151,0.9929711446753463\n",
    "GE: 0.9705056179775281,0.11797752808988764,0.9868049010367578,0.9803370786516854,0.9835603569751058\n",
    "Slowhttp: 0.8530442350626254,0.24836601307189543,0.9080067784479039,0.8898550724637682,0.8988392931566226\n",
    "Heartbleed: 0.9027777777777778 0.3888888888888889 0.9558359621451105 0.9351851851851852 0.9453978159126365\n",
    "LOIC: 0.9388222975132718 0.11301369863013698 0.9642334223495181 0.955071477195371 0.9596305821580213\n",
    "\"\"\""
   ]
  }
 ],
 "metadata": {
  "kernelspec": {
   "display_name": "ddos",
   "language": "python",
   "name": "ddos"
  },
  "language_info": {
   "codemirror_mode": {
    "name": "ipython",
    "version": 3
   },
   "file_extension": ".py",
   "mimetype": "text/x-python",
   "name": "python",
   "nbconvert_exporter": "python",
   "pygments_lexer": "ipython3",
   "version": "3.7.5"
  }
 },
 "nbformat": 4,
 "nbformat_minor": 4
}
