{
 "cells": [
  {
   "cell_type": "code",
   "execution_count": 1,
   "metadata": {},
   "outputs": [],
   "source": [
    "import pickle\n",
    "import yaml\n",
    "import pandas as pd\n",
    "import pickle\n",
    "import sys\n",
    "import numpy as np\n",
    "\n",
    "import matplotlib.pyplot as plot"
   ]
  },
  {
   "cell_type": "code",
   "execution_count": 2,
   "metadata": {},
   "outputs": [
    {
     "name": "stderr",
     "output_type": "stream",
     "text": [
      "/home/wesleyjtann/miniconda3/envs/ddos/lib/python3.7/site-packages/ipykernel_launcher.py:3: YAMLLoadWarning: calling yaml.load() without Loader=... is deprecated, as the default Loader is unsafe. Please read https://msg.pyyaml.org/load for full details.\n",
      "  This is separate from the ipykernel package so we can avoid doing imports until\n"
     ]
    }
   ],
   "source": [
    "def loadConfig():\n",
    "    with open('./light_config.yaml', \"r\") as ymlfile: #GE, hulk, slowhttp, slowloris, heartbleed\n",
    "        cfg = yaml.load(ymlfile)\n",
    "    return cfg\n",
    "\n",
    "config = loadConfig()"
   ]
  },
  {
   "cell_type": "raw",
   "metadata": {},
   "source": [
    "def calculateFalsePositives(agtIPList, agt_attacks, scoreDict, percentages, numNorm) :\n",
    "    numNormal = numNorm\n",
    "    numTotalIP = len(scoreDict)\n",
    "    cutOff = []\n",
    "    falsepositives = []\n",
    "    \n",
    "    for percent in percentages :\n",
    "        cutOff.append(math.ceil(numTotalIP * percent))\n",
    "    \n",
    "    scoreCount = 0\n",
    "    index = 0\n",
    "    tp_count = 0 # add\n",
    "    truepos = [] # add\n",
    "    \n",
    "    for (IP, IPD, score, label) in list(scoreDict.itertuples(index=False, name=None)):\n",
    "        if IP + IPD in agt_attacks:\n",
    "            scoreCount = scoreCount + 1\n",
    "        if IP + IPD in agtIPList: # add\n",
    "            tp_count = tp_count + 1 # add\n",
    "            \n",
    "        index = index + 1\n",
    "        if index in cutOff :\n",
    "            falsepositives.append(scoreCount/numNormal)\n",
    "            truepos.append(tp_count / index) #len(agt_attacks)) # add\n",
    "            \n",
    "    return falsepositives, truepos"
   ]
  },
  {
   "cell_type": "code",
   "execution_count": 3,
   "metadata": {},
   "outputs": [],
   "source": [
    "import math\n",
    "\n",
    "def calculateFalsePositives(agtIPList, agt_attacks, scoreDict, percentages, numNorm) :\n",
    "    numNormal = numNorm\n",
    "    numTotalIP = len(scoreDict)\n",
    "    cutOff = []\n",
    "    falsepositives = []\n",
    "    \n",
    "    for percent in percentages :\n",
    "        cutOff.append(math.ceil(numTotalIP * percent))\n",
    "    \n",
    "    index = 0\n",
    "    fp_count = 0 # add\n",
    "    tp_count = 0 # add\n",
    "    truepos = [] # add\n",
    "    \n",
    "    for (IP, IPD, score, label) in list(scoreDict.itertuples(index=False, name=None)):\n",
    "        if IP + IPD in agtIPList: # add\n",
    "            fp_count = fp_count + 1 # add\n",
    "        if IP + IPD in agt_attacks:\n",
    "            tp_count = tp_count + 1            \n",
    "            \n",
    "        index = index + 1\n",
    "        if index in cutOff :\n",
    "            falsepositives.append(fp_count/numNormal)\n",
    "            truepos.append(tp_count / len(agt_attacks)) #len(agt_attacks)) # add\n",
    "            \n",
    "    return falsepositives, truepos\n",
    "        \n",
    "def plotAndSaveGraph(PQ, P, PQTil, classifier_rejectthres, fp_classifier, iter_classifier_one, iter_classifier, config, plt=False):\n",
    "    percentages = [0.0, 0.1, 0.2, 0.3, 0.4, 0.5, 0.6, 0.7, 0.8, 0.9, 1.0]\n",
    "\n",
    "    plot.rcParams['figure.figsize'] = [9, 9]\n",
    "    fig = plot.figure()\n",
    "    ax = plot.subplot(111)\n",
    "    # #ax.plot(percentages, old_graphScoreList, label = \"Old P Over Q Scores\")\n",
    "    # #ax.plot(percentages, old_graphPList, label = \"Old P Scores\")\n",
    "    ax.plot(percentages, percentages, linewidth=2, label = \"Randomized Rejection\")\n",
    "    ax.plot(percentages, P, linewidth=2, linestyle='--', marker='o', markersize=9, label = \"N Only\")\n",
    "    ax.plot(percentages, PQ, linewidth=2, linestyle=':', label = \"N/D (ℓ=1)\") #With Transfer\")\n",
    "    ax.plot(percentages, PQTil, linewidth=2, linestyle='-.', label = \"N/D (ℓ=∞)\") #Without Transfer\") \n",
    "#     ax.plot(percentages, Qonline, label = \"Online Q\")\n",
    "#     ax.plot(percentages, Qoffline, label = \"Offline Q\") \n",
    "    ax.plot(percentages, iter_classifier_one, linewidth=2, linestyle='--', label = \"Iter. Classifier (ℓ=1)\") #Without Transfer\")\n",
    "    ax.plot(percentages, iter_classifier, linewidth=2, linestyle='--', marker='s', markersize=9, label = \"Iter. Classifier (ℓ=∞)\") #Without Transfer\")\n",
    "#     ax.plot(percentages, fp_classifier, linewidth=2, label = \"Classifier\") #Without Transfer\")\n",
    "    ax.plot(classifier_rejectthres,fp_classifier,'rx',markersize=15,markeredgewidth=5, label = \"Full Classifier\") \n",
    "    \n",
    "#     plot.xlabel('Rejection Threshold', fontsize=24)\n",
    "#     plot.ylabel('False Reject Rates', fontsize=24)\n",
    "#     plot.title(\"False Positive rates for \" + config['metadata']['name'])\n",
    "    ax.tick_params(axis='both', which='major', labelsize=15)\n",
    "    ax.legend(fontsize=18)\n",
    "    if plt:\n",
    "        plot.savefig(config['metadata']['uniqueID'] + '/' + config['metadata']['result'] + '_FPGraph')\n",
    "\n",
    "\n",
    "def calc_eval(fpr, tpr, agt_norm, agt_attk):\n",
    "    fpr = np.array(fpr[1:])\n",
    "    tpr = np.array(tpr)\n",
    "\n",
    "    Total = len(agt_norm)+len(agt_attk) #len(userScoreP)\n",
    "    TotalN = len(agt_norm)\n",
    "    TotalP = Total-TotalN\n",
    "    FP = fpr*TotalN\n",
    "    TN = TotalN - FP\n",
    "    TP = tpr*TotalP\n",
    "    FN = TotalP-TP\n",
    "    \n",
    "    Accr = (TP+TN) / (TP+TN+FP+FN)\n",
    "    FPR = FP / (FP + TN)\n",
    "    Prec = TP / (TP + FP)\n",
    "    Rec = TP / (TP + FN)\n",
    "    F1 = 2 * ((Prec*Rec) / (Prec+Rec))\n",
    "\n",
    "    return (Accr, FPR, Prec, Rec, F1)"
   ]
  },
  {
   "cell_type": "markdown",
   "metadata": {},
   "source": [
    "### Test set"
   ]
  },
  {
   "cell_type": "code",
   "execution_count": 4,
   "metadata": {},
   "outputs": [
    {
     "name": "stdout",
     "output_type": "stream",
     "text": [
      "Length of userScoreP:  16310\n"
     ]
    }
   ],
   "source": [
    "# #Load User Scores\n",
    "userScoreP = pickle.load(open(config['metadata']['uniqueID'] + '/' + config['metadata']['artefact'] + '/' + 'PScore', 'rb'))\n",
    "userScoreP = userScoreP.sort_values(by = ['P'],ascending=True) # add\n",
    "\n",
    "userScorePQ_online = pickle.load(open(config['metadata']['uniqueID'] + '/' + config['metadata']['artefact'] + '/' + 'PoverQonline_score', 'rb'))\n",
    "userScorePQ_online = userScorePQ_online.sort_values(by = ['PoverQ_online'],ascending=True) # add \n",
    "\n",
    "userScorePQ_offline = pickle.load(open(config['metadata']['uniqueID'] + '/' + config['metadata']['artefact'] + '/' + 'PoverQoffline_score', 'rb'))\n",
    "userScorePQ_offline = userScorePQ_offline.sort_values(by = ['PoverQ_offline'],ascending=True) \n",
    "\n",
    "# userScoreQonline = pickle.load(open(config['metadata']['uniqueID'] + '/' + config['metadata']['artefact'] + '/' + 'onlineQ', 'rb'))\n",
    "# userScoreQonline = userScoreQonline.sort_values(by = ['QWithT'],ascending=True)\n",
    "\n",
    "# userScoreQoffline = pickle.load(open(config['metadata']['uniqueID'] + '/' + config['metadata']['artefact'] + '/' + 'offlineQ', 'rb'))\n",
    "# userScoreQoffline = userScoreQoffline.sort_values(by = ['QWithoutT'],ascending=True)\n",
    "\n",
    "print(\"Length of userScoreP: \", len(userScoreP))"
   ]
  },
  {
   "cell_type": "code",
   "execution_count": 5,
   "metadata": {},
   "outputs": [
    {
     "data": {
      "text/html": [
       "<div>\n",
       "<style scoped>\n",
       "    .dataframe tbody tr th:only-of-type {\n",
       "        vertical-align: middle;\n",
       "    }\n",
       "\n",
       "    .dataframe tbody tr th {\n",
       "        vertical-align: top;\n",
       "    }\n",
       "\n",
       "    .dataframe thead th {\n",
       "        text-align: right;\n",
       "    }\n",
       "</style>\n",
       "<table border=\"1\" class=\"dataframe\">\n",
       "  <thead>\n",
       "    <tr style=\"text-align: right;\">\n",
       "      <th></th>\n",
       "      <th>Source IP</th>\n",
       "      <th>Dest IP</th>\n",
       "      <th>P</th>\n",
       "      <th>Attack</th>\n",
       "    </tr>\n",
       "  </thead>\n",
       "  <tbody>\n",
       "    <tr>\n",
       "      <th>3941</th>\n",
       "      <td>41.171.21.15</td>\n",
       "      <td>71.126.222.64</td>\n",
       "      <td>-17.145144</td>\n",
       "      <td>1</td>\n",
       "    </tr>\n",
       "    <tr>\n",
       "      <th>9955</th>\n",
       "      <td>41.171.21.15</td>\n",
       "      <td>71.126.222.64</td>\n",
       "      <td>-17.144990</td>\n",
       "      <td>1</td>\n",
       "    </tr>\n",
       "    <tr>\n",
       "      <th>3296</th>\n",
       "      <td>41.171.21.15</td>\n",
       "      <td>71.126.222.64</td>\n",
       "      <td>-17.144990</td>\n",
       "      <td>1</td>\n",
       "    </tr>\n",
       "    <tr>\n",
       "      <th>11878</th>\n",
       "      <td>41.171.21.15</td>\n",
       "      <td>71.126.222.64</td>\n",
       "      <td>-17.144990</td>\n",
       "      <td>1</td>\n",
       "    </tr>\n",
       "    <tr>\n",
       "      <th>3747</th>\n",
       "      <td>41.171.21.15</td>\n",
       "      <td>71.126.222.64</td>\n",
       "      <td>-17.144990</td>\n",
       "      <td>1</td>\n",
       "    </tr>\n",
       "    <tr>\n",
       "      <th>...</th>\n",
       "      <td>...</td>\n",
       "      <td>...</td>\n",
       "      <td>...</td>\n",
       "      <td>...</td>\n",
       "    </tr>\n",
       "    <tr>\n",
       "      <th>6465</th>\n",
       "      <td>192.120.148.227</td>\n",
       "      <td>71.126.222.64</td>\n",
       "      <td>131.831109</td>\n",
       "      <td>0</td>\n",
       "    </tr>\n",
       "    <tr>\n",
       "      <th>4549</th>\n",
       "      <td>192.120.148.227</td>\n",
       "      <td>71.126.222.64</td>\n",
       "      <td>131.831109</td>\n",
       "      <td>0</td>\n",
       "    </tr>\n",
       "    <tr>\n",
       "      <th>6506</th>\n",
       "      <td>192.120.148.227</td>\n",
       "      <td>71.126.222.64</td>\n",
       "      <td>131.831109</td>\n",
       "      <td>0</td>\n",
       "    </tr>\n",
       "    <tr>\n",
       "      <th>5415</th>\n",
       "      <td>192.120.148.227</td>\n",
       "      <td>71.126.222.64</td>\n",
       "      <td>131.831109</td>\n",
       "      <td>0</td>\n",
       "    </tr>\n",
       "    <tr>\n",
       "      <th>10733</th>\n",
       "      <td>192.120.148.227</td>\n",
       "      <td>71.126.222.64</td>\n",
       "      <td>131.831109</td>\n",
       "      <td>0</td>\n",
       "    </tr>\n",
       "  </tbody>\n",
       "</table>\n",
       "<p>16310 rows × 4 columns</p>\n",
       "</div>"
      ],
      "text/plain": [
       "             Source IP        Dest IP           P  Attack\n",
       "3941      41.171.21.15  71.126.222.64  -17.145144       1\n",
       "9955      41.171.21.15  71.126.222.64  -17.144990       1\n",
       "3296      41.171.21.15  71.126.222.64  -17.144990       1\n",
       "11878     41.171.21.15  71.126.222.64  -17.144990       1\n",
       "3747      41.171.21.15  71.126.222.64  -17.144990       1\n",
       "...                ...            ...         ...     ...\n",
       "6465   192.120.148.227  71.126.222.64  131.831109       0\n",
       "4549   192.120.148.227  71.126.222.64  131.831109       0\n",
       "6506   192.120.148.227  71.126.222.64  131.831109       0\n",
       "5415   192.120.148.227  71.126.222.64  131.831109       0\n",
       "10733  192.120.148.227  71.126.222.64  131.831109       0\n",
       "\n",
       "[16310 rows x 4 columns]"
      ]
     },
     "execution_count": 5,
     "metadata": {},
     "output_type": "execute_result"
    }
   ],
   "source": [
    "userScoreP"
   ]
  },
  {
   "cell_type": "raw",
   "metadata": {},
   "source": [
    "fig = plt.figure()\n",
    "fig, ax = plt.subplots(1,2, figsize=(15,5)) #plt.figure()\n",
    "ax[0].hist(userScoreP['P'].sort_values()[userScoreP['Attack'] == 0], bins=20, alpha=0.5, label='victim')\n",
    "# ax[0].hist(df_min_max['QWithoutT'].sort_values()[df_min_max['Source IP'] == attacker], bins=20, alpha=0.5, label='Offline Q')\n",
    "# ax[1].hist(userScoreP['P'].sort_values(), bins=20, alpha=0.5, label='P') \n",
    "ax[1].hist(userScoreP['P'].sort_values()[userScoreP['Attack'] == 1], bins=20, alpha=0.5, label='attacker')\n",
    "# ax[1].hist(df_min_max['QWithoutT'].sort_values(), bins=20, alpha=0.5, label='Offline Q')\n",
    "ax[0].legend(loc='upper right')\n",
    "ax[1].legend(loc='upper right')\n",
    "plt.show()"
   ]
  },
  {
   "cell_type": "code",
   "execution_count": 5,
   "metadata": {},
   "outputs": [],
   "source": [
    "import matplotlib.pyplot as plt\n",
    "def showscore(scoretype, scores):\n",
    "    fig = plt.figure(figsize=(7,5))\n",
    "    print(len(scoretype[scores][scoretype['Attack'] == 0]))\n",
    "    print(len(scoretype[scores][scoretype['Attack'] == 1]))\n",
    "    plt.hist(scoretype[scores][scoretype['Attack'] == 0], bins = 10, alpha=0.5, label='victim') \n",
    "    plt.hist(scoretype[scores][scoretype['Attack'] == 1], bins = 10, alpha=0.5, label='attacker')\n",
    "    plt.legend(loc='upper left')\n",
    "    plt.show()\n",
    "    \n",
    "    return fig"
   ]
  },
  {
   "cell_type": "code",
   "execution_count": 6,
   "metadata": {},
   "outputs": [
    {
     "name": "stdout",
     "output_type": "stream",
     "text": [
      "3262\n",
      "13048\n"
     ]
    },
    {
     "data": {
      "image/png": "[encoded data removed]",
      "text/plain": [
       "<Figure size 504x360 with 1 Axes>"
      ]
     },
     "metadata": {
      "needs_background": "light"
     },
     "output_type": "display_data"
    }
   ],
   "source": [
    "# add standardization\n",
    "std_userScoreP = userScoreP\n",
    "std_userScoreP['P'] = (std_userScoreP['P'] - std_userScoreP['P'].min(axis=0)) / (std_userScoreP['P'].max(axis=0) - std_userScoreP['P'].min(axis=0))\n",
    "\n",
    "fig = showscore(userScoreP, 'P') # P scores\n",
    "\n",
    "# fig.savefig('./' + config['metadata']['uniqueID'] + '/' + config['metadata']['result'] + '_P_distr' + '.png')"
   ]
  },
  {
   "cell_type": "raw",
   "metadata": {},
   "source": [
    "# Original PQ_online scores\n",
    "fig = showscore(userScorePQ_online, 'PoverQ_online') # online Q"
   ]
  },
  {
   "cell_type": "code",
   "execution_count": 8,
   "metadata": {
    "scrolled": false
   },
   "outputs": [
    {
     "name": "stdout",
     "output_type": "stream",
     "text": [
      "3262\n",
      "13048\n"
     ]
    },
    {
     "data": {
      "image/png": "[encoded data removed]",
      "text/plain": [
       "<Figure size 504x360 with 1 Axes>"
      ]
     },
     "metadata": {
      "needs_background": "light"
     },
     "output_type": "display_data"
    }
   ],
   "source": [
    "# add standardization\n",
    "std_userScorePQ_online = userScorePQ_online\n",
    "std_userScorePQ_online['PoverQ_online'] = (std_userScorePQ_online['PoverQ_online'] - std_userScorePQ_online['PoverQ_online'].min(axis=0)) / (std_userScorePQ_online['PoverQ_online'].max(axis=0) - std_userScorePQ_online['PoverQ_online'].min(axis=0))\n",
    "\n",
    "fig = showscore(std_userScorePQ_online, 'PoverQ_online') # online Q\n",
    "\n",
    "# fig.savefig('./' + config['metadata']['uniqueID'] + '/' + config['metadata']['result'] + '_PQonline_distr' + '.png')"
   ]
  },
  {
   "cell_type": "raw",
   "metadata": {},
   "source": [
    "showscore(userScorePQ_offline, 'PoverQ_offline')"
   ]
  },
  {
   "cell_type": "code",
   "execution_count": 9,
   "metadata": {},
   "outputs": [
    {
     "name": "stdout",
     "output_type": "stream",
     "text": [
      "3262\n",
      "13048\n"
     ]
    },
    {
     "data": {
      "image/png": "[encoded data removed]",
      "text/plain": [
       "<Figure size 504x360 with 1 Axes>"
      ]
     },
     "metadata": {
      "needs_background": "light"
     },
     "output_type": "display_data"
    }
   ],
   "source": [
    "# add standardization\n",
    "std_userScorePQ_offline = userScorePQ_offline\n",
    "std_userScorePQ_offline['PoverQ_offline'] = (std_userScorePQ_offline['PoverQ_offline'] - std_userScorePQ_offline['PoverQ_offline'].min(axis=0)) / (std_userScorePQ_offline['PoverQ_offline'].max(axis=0) - std_userScorePQ_offline['PoverQ_offline'].min(axis=0))\n",
    "\n",
    "fig = showscore(std_userScorePQ_offline, 'PoverQ_offline') # offline Q\n",
    "\n",
    "# fig.savefig('./' + config['metadata']['uniqueID'] + '/' + config['metadata']['result'] + '_PQoffline_distr' + '.png')"
   ]
  },
  {
   "cell_type": "raw",
   "metadata": {},
   "source": [
    "showscore(userScoreQonline, 'QWithT')"
   ]
  },
  {
   "cell_type": "raw",
   "metadata": {},
   "source": [
    "showscore(userScoreQoffline, 'QWithoutT')"
   ]
  },
  {
   "cell_type": "code",
   "execution_count": null,
   "metadata": {},
   "outputs": [],
   "source": []
  },
  {
   "cell_type": "code",
   "execution_count": 6,
   "metadata": {
    "scrolled": true
   },
   "outputs": [
    {
     "name": "stdout",
     "output_type": "stream",
     "text": [
      "Length of Normal traffic:  3262\n",
      "Length of true attacks:  13048\n",
      "Percent:  0.2\n"
     ]
    }
   ],
   "source": [
    "agt_normals = []\n",
    "agt_attacks = []\n",
    "\n",
    "for (IP, IPD, score, label) in list(userScoreP.itertuples(index=False, name=None)):\n",
    "#     if (IP != '172.16.0.1' and  IPD=='192.168.10.50') or IP == '192.168.10.50': \n",
    "    if label==0: \n",
    "        agt_normals.append(IP+IPD)\n",
    "    else:\n",
    "        agt_attacks.append(IP+IPD)\n",
    "\n",
    "print(\"Length of Normal traffic: \", len(agt_normals))\n",
    "print(\"Length of true attacks: \", len(agt_attacks))\n",
    "\n",
    "#Plot some graphs\n",
    "percentages = [0.1, 0.2, 0.3, 0.4, 0.5, 0.6, 0.7, 0.8, 0.9, 1.0]\n",
    "\n",
    "num = len(agt_normals)\n",
    "print(\"Percent: \", num/len(userScoreP))"
   ]
  },
  {
   "cell_type": "code",
   "execution_count": 8,
   "metadata": {},
   "outputs": [
    {
     "data": {
      "text/plain": [
       "0.014714898835070508"
      ]
     },
     "execution_count": 8,
     "metadata": {},
     "output_type": "execute_result"
    }
   ],
   "source": [
    "classifier_rejectthres = 0.8 #0.5120\n",
    "fp_classifier = 0.014714898835070508 #0.045370938074800735 #0.012568976088289392\n",
    "\n",
    "fp_classifier"
   ]
  },
  {
   "cell_type": "code",
   "execution_count": 16,
   "metadata": {},
   "outputs": [
    {
     "data": {
      "text/plain": [
       "[0,\n",
       " 0.0269773145309626,\n",
       " 0.028203556100551808,\n",
       " 0.028203556100551808,\n",
       " 0.028203556100551808,\n",
       " 0.028203556100551808,\n",
       " 0.028203556100551808,\n",
       " 0.029429797670141016,\n",
       " 0.029429797670141016,\n",
       " 0.029429797670141016,\n",
       " 1.0]"
      ]
     },
     "execution_count": 16,
     "metadata": {},
     "output_type": "execute_result"
    }
   ],
   "source": [
    "# (ℓ = ∞)\n",
    "# iter_classifier = [0,\n",
    "#  0.004904966278356836,\n",
    "#  0.012568976088289392, \n",
    "#  0.014101778050275904,\n",
    "#  0.014101778050275904,\n",
    "#  0.014101778050275904,\n",
    "#  0.014101778050275904,\n",
    "#  0.01594114040465972,\n",
    "#  0.01624770079705702,\n",
    "#  0.6220110361741263,\n",
    "#  1.0]\n",
    "\n",
    "## OLD\n",
    "iter_classifier = [0,\n",
    " 0.0269773145309626,\n",
    " 0.028203556100551808,\n",
    " 0.028203556100551808,\n",
    " 0.028203556100551808,\n",
    " 0.028203556100551808,\n",
    " 0.028203556100551808,\n",
    " 0.029429797670141016,\n",
    " 0.029429797670141016,\n",
    " 0.029429797670141016,\n",
    " 1.0]\n",
    "\n",
    "# [0,\n",
    "#  0.0,\n",
    "#  0.004598405885959534,\n",
    "#  0.08277130594727161,\n",
    "#  0.08798283261802575,\n",
    "#  0.09809932556713673,\n",
    "#  0.11036174126302882,\n",
    "#  0.11710606989576947,\n",
    "#  0.11925199264255058,\n",
    "#  0.12078479460453709,\n",
    "#  1.0]\n",
    "iter_classifier"
   ]
  },
  {
   "cell_type": "code",
   "execution_count": 18,
   "metadata": {},
   "outputs": [],
   "source": [
    "# (ℓ = 1)\n",
    "iter_classifier_one =  [0,\n",
    " 0.002145922746781116,\n",
    " 0.011036174126302882,\n",
    " 0.011955855303494788,\n",
    " 0.012262415695892091,\n",
    " 0.020846106683016553,\n",
    " 0.027896995708154508,\n",
    " 0.02973635806253832,\n",
    " 0.041385652973635806,\n",
    " 0.08675659104843654,\n",
    " 1.0]\n",
    "\n",
    "## OLD\n",
    "# iter_classifier_one =  [0,\n",
    "#  0.05671367259350092,\n",
    "#  0.09809932556713673,\n",
    "#  0.1072961373390558,\n",
    "#  0.10913549969343961,\n",
    "#  0.1223175965665236,\n",
    "#  0.1223175965665236,\n",
    "#  0.1223175965665236,\n",
    "#  0.1223175965665236,\n",
    "#  0.1223175965665236,\n",
    "#  1.0]"
   ]
  },
  {
   "cell_type": "code",
   "execution_count": 11,
   "metadata": {},
   "outputs": [
    {
     "name": "stdout",
     "output_type": "stream",
     "text": [
      "Percent:  0.2\n"
     ]
    }
   ],
   "source": [
    "num = len(agt_normals)\n",
    "print(\"Percent: \", num/len(userScoreP))\n",
    "\n",
    "graphP, P_tpr = calculateFalsePositives(agt_normals, agt_attacks, userScoreP, percentages, num)\n",
    "graphPQ_online, onlinePQ_tpr = calculateFalsePositives(agt_normals, agt_attacks, userScorePQ_online, percentages, num)\n",
    "graphPQ_offline, offlinePQ_tpr  = calculateFalsePositives(agt_normals, agt_attacks, userScorePQ_offline, percentages, num)\n",
    "# graphQonline, _ = calculateFalsePositives(agt_normals, agt_attacks, userScoreQonline, percentages, num)\n",
    "# graphQoffline, _ = calculateFalsePositives(agt_normals, agt_attacks, userScoreQoffline, percentages, num)   \n",
    "\n",
    "graphP.insert(0, 0)\n",
    "graphPQ_online.insert(0, 0)\n",
    "graphPQ_offline.insert(0, 0)\n",
    "# graphQonline.insert(0, 0)\n",
    "# graphQoffline.insert(0, 0)"
   ]
  },
  {
   "cell_type": "code",
   "execution_count": 22,
   "metadata": {},
   "outputs": [
    {
     "data": {
      "image/png": "[encoded data removed]",
      "text/plain": [
       "<Figure size 648x648 with 1 Axes>"
      ]
     },
     "metadata": {
      "needs_background": "light"
     },
     "output_type": "display_data"
    }
   ],
   "source": [
    "plotAndSaveGraph(graphPQ_online, graphP, graphPQ_offline, \n",
    "                 classifier_rejectthres, fp_classifier, iter_classifier_one, iter_classifier, config) #, plt=True)"
   ]
  },
  {
   "cell_type": "markdown",
   "metadata": {},
   "source": [
    "### Calculate evaluation metrics "
   ]
  },
  {
   "cell_type": "code",
   "execution_count": 14,
   "metadata": {},
   "outputs": [],
   "source": [
    "P_metrics = np.array(np.transpose(calc_eval(graphP, P_tpr, agt_normals, agt_attacks)))\n",
    "onlinePQ_metrics = np.array(np.transpose(calc_eval(graphPQ_online, onlinePQ_tpr, agt_normals, agt_attacks)))\n",
    "offlinePQ_metrics = np.array(np.transpose(calc_eval(graphPQ_offline, offlinePQ_tpr, agt_normals, agt_attacks)))\n",
    "\n",
    "P_metrics = pd.DataFrame(P_metrics, columns=['Accr_P', 'FPR_P', 'Prec_P', 'Rec_P', 'F1_P'])\n",
    "onlinePQ_metrics = pd.DataFrame(onlinePQ_metrics, columns=['Accr_onPQ', 'FPR_onPQ', \n",
    "                                                           'Prec_onPQ', 'Rec_onPQ', 'F1_onPQ'])\n",
    "offlinePQ_metrics = pd.DataFrame(offlinePQ_metrics, columns=['Accr_offPQ', 'FPR_offPQ', \n",
    "                                                             'Prec_offPQ', 'Rec_offPQ', 'F1_offPQ'])\n",
    "df_FPresults = pd.concat([P_metrics,onlinePQ_metrics,offlinePQ_metrics],axis=1)\n",
    "\n",
    "# df_FPresults.to_csv(config['metadata']['uniqueID'] + '/' + config['metadata']['result'] + \n",
    "#                     \"_evalresults.csv\", index=False)"
   ]
  },
  {
   "cell_type": "code",
   "execution_count": 15,
   "metadata": {},
   "outputs": [
    {
     "data": {
      "text/html": [
       "<div>\n",
       "<style scoped>\n",
       "    .dataframe tbody tr th:only-of-type {\n",
       "        vertical-align: middle;\n",
       "    }\n",
       "\n",
       "    .dataframe tbody tr th {\n",
       "        vertical-align: top;\n",
       "    }\n",
       "\n",
       "    .dataframe thead th {\n",
       "        text-align: right;\n",
       "    }\n",
       "</style>\n",
       "<table border=\"1\" class=\"dataframe\">\n",
       "  <thead>\n",
       "    <tr style=\"text-align: right;\">\n",
       "      <th></th>\n",
       "      <th>Accr_P</th>\n",
       "      <th>FPR_P</th>\n",
       "      <th>Prec_P</th>\n",
       "      <th>Rec_P</th>\n",
       "      <th>F1_P</th>\n",
       "      <th>Accr_onPQ</th>\n",
       "      <th>FPR_onPQ</th>\n",
       "      <th>Prec_onPQ</th>\n",
       "      <th>Rec_onPQ</th>\n",
       "      <th>F1_onPQ</th>\n",
       "      <th>Accr_offPQ</th>\n",
       "      <th>FPR_offPQ</th>\n",
       "      <th>Prec_offPQ</th>\n",
       "      <th>Rec_offPQ</th>\n",
       "      <th>F1_offPQ</th>\n",
       "    </tr>\n",
       "  </thead>\n",
       "  <tbody>\n",
       "    <tr>\n",
       "      <th>0</th>\n",
       "      <td>0.207725</td>\n",
       "      <td>0.231760</td>\n",
       "      <td>0.538462</td>\n",
       "      <td>0.067597</td>\n",
       "      <td>0.120114</td>\n",
       "      <td>0.296137</td>\n",
       "      <td>0.019313</td>\n",
       "      <td>0.962810</td>\n",
       "      <td>0.125000</td>\n",
       "      <td>0.221273</td>\n",
       "      <td>0.295279</td>\n",
       "      <td>0.021459</td>\n",
       "      <td>0.958678</td>\n",
       "      <td>0.124464</td>\n",
       "      <td>0.220323</td>\n",
       "    </tr>\n",
       "    <tr>\n",
       "      <th>1</th>\n",
       "      <td>0.307480</td>\n",
       "      <td>0.232986</td>\n",
       "      <td>0.767797</td>\n",
       "      <td>0.192597</td>\n",
       "      <td>0.307947</td>\n",
       "      <td>0.395892</td>\n",
       "      <td>0.020540</td>\n",
       "      <td>0.979874</td>\n",
       "      <td>0.250000</td>\n",
       "      <td>0.398364</td>\n",
       "      <td>0.394911</td>\n",
       "      <td>0.022992</td>\n",
       "      <td>0.977471</td>\n",
       "      <td>0.249387</td>\n",
       "      <td>0.397387</td>\n",
       "    </tr>\n",
       "    <tr>\n",
       "      <th>2</th>\n",
       "      <td>0.407235</td>\n",
       "      <td>0.234212</td>\n",
       "      <td>0.844336</td>\n",
       "      <td>0.317597</td>\n",
       "      <td>0.461573</td>\n",
       "      <td>0.494788</td>\n",
       "      <td>0.023912</td>\n",
       "      <td>0.984287</td>\n",
       "      <td>0.374464</td>\n",
       "      <td>0.542527</td>\n",
       "      <td>0.491232</td>\n",
       "      <td>0.032802</td>\n",
       "      <td>0.978445</td>\n",
       "      <td>0.372241</td>\n",
       "      <td>0.539307</td>\n",
       "    </tr>\n",
       "    <tr>\n",
       "      <th>3</th>\n",
       "      <td>0.503617</td>\n",
       "      <td>0.251993</td>\n",
       "      <td>0.875379</td>\n",
       "      <td>0.442520</td>\n",
       "      <td>0.587864</td>\n",
       "      <td>0.594727</td>\n",
       "      <td>0.024218</td>\n",
       "      <td>0.988023</td>\n",
       "      <td>0.499464</td>\n",
       "      <td>0.663510</td>\n",
       "      <td>0.589209</td>\n",
       "      <td>0.038013</td>\n",
       "      <td>0.981201</td>\n",
       "      <td>0.496015</td>\n",
       "      <td>0.658929</td>\n",
       "    </tr>\n",
       "    <tr>\n",
       "      <th>4</th>\n",
       "      <td>0.600920</td>\n",
       "      <td>0.263948</td>\n",
       "      <td>0.895775</td>\n",
       "      <td>0.567137</td>\n",
       "      <td>0.694542</td>\n",
       "      <td>0.694359</td>\n",
       "      <td>0.025138</td>\n",
       "      <td>0.990033</td>\n",
       "      <td>0.624234</td>\n",
       "      <td>0.765687</td>\n",
       "      <td>0.687983</td>\n",
       "      <td>0.041079</td>\n",
       "      <td>0.983712</td>\n",
       "      <td>0.620248</td>\n",
       "      <td>0.760799</td>\n",
       "    </tr>\n",
       "    <tr>\n",
       "      <th>5</th>\n",
       "      <td>0.676824</td>\n",
       "      <td>0.324647</td>\n",
       "      <td>0.892976</td>\n",
       "      <td>0.677192</td>\n",
       "      <td>0.770257</td>\n",
       "      <td>0.792643</td>\n",
       "      <td>0.029430</td>\n",
       "      <td>0.990262</td>\n",
       "      <td>0.748161</td>\n",
       "      <td>0.852353</td>\n",
       "      <td>0.785530</td>\n",
       "      <td>0.047210</td>\n",
       "      <td>0.984378</td>\n",
       "      <td>0.743716</td>\n",
       "      <td>0.847289</td>\n",
       "    </tr>\n",
       "    <tr>\n",
       "      <th>6</th>\n",
       "      <td>0.776824</td>\n",
       "      <td>0.324647</td>\n",
       "      <td>0.908121</td>\n",
       "      <td>0.802192</td>\n",
       "      <td>0.851876</td>\n",
       "      <td>0.884733</td>\n",
       "      <td>0.053342</td>\n",
       "      <td>0.984891</td>\n",
       "      <td>0.869252</td>\n",
       "      <td>0.923465</td>\n",
       "      <td>0.877192</td>\n",
       "      <td>0.069283</td>\n",
       "      <td>0.980343</td>\n",
       "      <td>0.863811</td>\n",
       "      <td>0.918395</td>\n",
       "    </tr>\n",
       "    <tr>\n",
       "      <th>7</th>\n",
       "      <td>0.876824</td>\n",
       "      <td>0.324647</td>\n",
       "      <td>0.919511</td>\n",
       "      <td>0.927192</td>\n",
       "      <td>0.923335</td>\n",
       "      <td>0.889577</td>\n",
       "      <td>0.351012</td>\n",
       "      <td>0.915417</td>\n",
       "      <td>0.949724</td>\n",
       "      <td>0.932255</td>\n",
       "      <td>0.889148</td>\n",
       "      <td>0.351931</td>\n",
       "      <td>0.915189</td>\n",
       "      <td>0.949418</td>\n",
       "      <td>0.931989</td>\n",
       "    </tr>\n",
       "    <tr>\n",
       "      <th>8</th>\n",
       "      <td>0.900552</td>\n",
       "      <td>0.568976</td>\n",
       "      <td>0.877395</td>\n",
       "      <td>1.017934</td>\n",
       "      <td>0.942454</td>\n",
       "      <td>0.899448</td>\n",
       "      <td>0.657572</td>\n",
       "      <td>0.863358</td>\n",
       "      <td>1.038703</td>\n",
       "      <td>0.942949</td>\n",
       "      <td>0.890435</td>\n",
       "      <td>0.679951</td>\n",
       "      <td>0.858699</td>\n",
       "      <td>1.033032</td>\n",
       "      <td>0.937833</td>\n",
       "    </tr>\n",
       "    <tr>\n",
       "      <th>9</th>\n",
       "      <td>0.857940</td>\n",
       "      <td>1.011343</td>\n",
       "      <td>0.809625</td>\n",
       "      <td>1.075261</td>\n",
       "      <td>0.923725</td>\n",
       "      <td>0.857940</td>\n",
       "      <td>1.011343</td>\n",
       "      <td>0.809625</td>\n",
       "      <td>1.075261</td>\n",
       "      <td>0.923725</td>\n",
       "      <td>0.857940</td>\n",
       "      <td>1.011343</td>\n",
       "      <td>0.809625</td>\n",
       "      <td>1.075261</td>\n",
       "      <td>0.923725</td>\n",
       "    </tr>\n",
       "  </tbody>\n",
       "</table>\n",
       "</div>"
      ],
      "text/plain": [
       "     Accr_P     FPR_P    Prec_P     Rec_P      F1_P  Accr_onPQ  FPR_onPQ  \\\n",
       "0  0.207725  0.231760  0.538462  0.067597  0.120114   0.296137  0.019313   \n",
       "1  0.307480  0.232986  0.767797  0.192597  0.307947   0.395892  0.020540   \n",
       "2  0.407235  0.234212  0.844336  0.317597  0.461573   0.494788  0.023912   \n",
       "3  0.503617  0.251993  0.875379  0.442520  0.587864   0.594727  0.024218   \n",
       "4  0.600920  0.263948  0.895775  0.567137  0.694542   0.694359  0.025138   \n",
       "5  0.676824  0.324647  0.892976  0.677192  0.770257   0.792643  0.029430   \n",
       "6  0.776824  0.324647  0.908121  0.802192  0.851876   0.884733  0.053342   \n",
       "7  0.876824  0.324647  0.919511  0.927192  0.923335   0.889577  0.351012   \n",
       "8  0.900552  0.568976  0.877395  1.017934  0.942454   0.899448  0.657572   \n",
       "9  0.857940  1.011343  0.809625  1.075261  0.923725   0.857940  1.011343   \n",
       "\n",
       "   Prec_onPQ  Rec_onPQ   F1_onPQ  Accr_offPQ  FPR_offPQ  Prec_offPQ  \\\n",
       "0   0.962810  0.125000  0.221273    0.295279   0.021459    0.958678   \n",
       "1   0.979874  0.250000  0.398364    0.394911   0.022992    0.977471   \n",
       "2   0.984287  0.374464  0.542527    0.491232   0.032802    0.978445   \n",
       "3   0.988023  0.499464  0.663510    0.589209   0.038013    0.981201   \n",
       "4   0.990033  0.624234  0.765687    0.687983   0.041079    0.983712   \n",
       "5   0.990262  0.748161  0.852353    0.785530   0.047210    0.984378   \n",
       "6   0.984891  0.869252  0.923465    0.877192   0.069283    0.980343   \n",
       "7   0.915417  0.949724  0.932255    0.889148   0.351931    0.915189   \n",
       "8   0.863358  1.038703  0.942949    0.890435   0.679951    0.858699   \n",
       "9   0.809625  1.075261  0.923725    0.857940   1.011343    0.809625   \n",
       "\n",
       "   Rec_offPQ  F1_offPQ  \n",
       "0   0.124464  0.220323  \n",
       "1   0.249387  0.397387  \n",
       "2   0.372241  0.539307  \n",
       "3   0.496015  0.658929  \n",
       "4   0.620248  0.760799  \n",
       "5   0.743716  0.847289  \n",
       "6   0.863811  0.918395  \n",
       "7   0.949418  0.931989  \n",
       "8   1.033032  0.937833  \n",
       "9   1.075261  0.923725  "
      ]
     },
     "execution_count": 15,
     "metadata": {},
     "output_type": "execute_result"
    }
   ],
   "source": [
    "# Rows 3=0.4, 4=0.5, 5=0.6\n",
    "df_FPresults#.iloc[4]"
   ]
  },
  {
   "cell_type": "code",
   "execution_count": 16,
   "metadata": {},
   "outputs": [
    {
     "data": {
      "text/plain": [
       "Accr_P        0.600920\n",
       "FPR_P         0.263948\n",
       "Prec_P        0.895775\n",
       "Rec_P         0.567137\n",
       "F1_P          0.694542\n",
       "Accr_onPQ     0.694359\n",
       "FPR_onPQ      0.025138\n",
       "Prec_onPQ     0.990033\n",
       "Rec_onPQ      0.624234\n",
       "F1_onPQ       0.765687\n",
       "Accr_offPQ    0.687983\n",
       "FPR_offPQ     0.041079\n",
       "Prec_offPQ    0.983712\n",
       "Rec_offPQ     0.620248\n",
       "F1_offPQ      0.760799\n",
       "Name: 4, dtype: float64"
      ]
     },
     "execution_count": 16,
     "metadata": {},
     "output_type": "execute_result"
    }
   ],
   "source": [
    "# reject 50%\n",
    "df_FPresults.iloc[4]"
   ]
  },
  {
   "cell_type": "code",
   "execution_count": null,
   "metadata": {},
   "outputs": [],
   "source": []
  }
 ],
 "metadata": {
  "kernelspec": {
   "display_name": "ddos",
   "language": "python",
   "name": "ddos"
  },
  "language_info": {
   "codemirror_mode": {
    "name": "ipython",
    "version": 3
   },
   "file_extension": ".py",
   "mimetype": "text/x-python",
   "name": "python",
   "nbconvert_exporter": "python",
   "pygments_lexer": "ipython3",
   "version": "3.7.5"
  }
 },
 "nbformat": 4,
 "nbformat_minor": 4
}
