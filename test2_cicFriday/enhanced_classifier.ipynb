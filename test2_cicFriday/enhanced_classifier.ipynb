{
 "cells": [
  {
   "cell_type": "code",
   "execution_count": 1,
   "metadata": {
    "scrolled": true
   },
   "outputs": [
    {
     "name": "stderr",
     "output_type": "stream",
     "text": [
      "Using TensorFlow backend.\n"
     ]
    }
   ],
   "source": [
    "import warnings\n",
    "warnings.filterwarnings('ignore',category=FutureWarning)\n",
    "\n",
    "import numpy as np\n",
    "import pandas as pd # data processing, CSV file I/O (e.g. pd.read_csv)\n",
    "import keras\n",
    "import tensorflow as tf\n",
    "import pickle\n",
    "import sys\n",
    "import yaml\n",
    "\n",
    "from keras.layers import Dense, Embedding, LSTM, SpatialDropout1D, Flatten, TimeDistributed, Bidirectional\n",
    "from keras.layers.core import Dense, Activation, Dropout\n",
    "from keras.models import Sequential\n",
    "from keras.utils import plot_model\n",
    "from keras import optimizers\n",
    "from keras.models import Model\n",
    "from keras.layers import Input\n",
    "from keras.layers import Dense\n",
    "from keras.layers import Reshape\n",
    "from keras.layers import Flatten\n",
    "from keras.layers.convolutional import Conv2D\n",
    "from keras.layers.pooling import MaxPooling2D\n",
    "from keras.layers.merge import concatenate\n",
    "from sklearn.feature_extraction.text import CountVectorizer\n",
    "from keras.preprocessing.text import Tokenizer\n",
    "from keras.preprocessing.sequence import pad_sequences\n",
    "from sklearn.model_selection import train_test_split\n",
    "from keras.utils.np_utils import to_categorical\n",
    "from keras.callbacks import EarlyStopping\n",
    "from sklearn.preprocessing import LabelEncoder\n",
    "from sklearn.model_selection import train_test_split\n",
    "from keras import backend as K\n",
    "from keras.models import load_model\n",
    "from sklearn import preprocessing\n",
    "from copy import deepcopy\n",
    "\n",
    "import datetime\n",
    "import math\n",
    "import hashlib\n",
    "import time\n",
    "import os\n",
    "from datagenerator import DataGenerator\n",
    "\n",
    "# add\n",
    "os.environ[\"CUDA_DEVICE_ORDER\"]=\"PCI_BUS_ID\" \n",
    "os.environ[\"CUDA_VISIBLE_DEVICES\"]=\"0\"  # specify which GPU(s) to be used"
   ]
  },
  {
   "cell_type": "code",
   "execution_count": 2,
   "metadata": {},
   "outputs": [],
   "source": [
    "#Disable randomization\n",
    "import random\n",
    "seed_value=2020 #10 #\n",
    "os.environ['PYTHONHASHSEED'] = str(seed_value)\n",
    "np.random.seed(seed_value)\n",
    "tf.compat.v1.set_random_seed(seed_value)\n",
    "random.seed(seed_value)\n",
    "\n",
    "# add\n",
    "config = tf.ConfigProto() \n",
    "config.gpu_options.allow_growth = True \n",
    "# # sess = tf.Session(config=config) \n",
    "sess = tf.compat.v1.Session(config=config) \n",
    "K.set_session(sess)"
   ]
  },
  {
   "cell_type": "code",
   "execution_count": 3,
   "metadata": {},
   "outputs": [
    {
     "name": "stderr",
     "output_type": "stream",
     "text": [
      "/home/wesleyjtann/miniconda3/envs/ddos/lib/python3.7/site-packages/ipykernel_launcher.py:4: YAMLLoadWarning: calling yaml.load() without Loader=... is deprecated, as the default Loader is unsafe. Please read https://msg.pyyaml.org/load for full details.\n",
      "  after removing the cwd from sys.path.\n"
     ]
    }
   ],
   "source": [
    "def loadConfig():\n",
    "#     with open('/home/wesleyjtann/ddos_research/test/light_config_b.yaml', \"r\") as ymlfile:\n",
    "    with open('./light_config.yaml', \"r\") as ymlfile: #GE, hulk, slowhttp, slowloris, heartbleed\n",
    "        cfg = yaml.load(ymlfile)\n",
    "    return cfg\n",
    "\n",
    "config = loadConfig()\n",
    "# artefact = 'artefact' #'artefact_b' #"
   ]
  },
  {
   "cell_type": "markdown",
   "metadata": {},
   "source": [
    "## Helper functions"
   ]
  },
  {
   "cell_type": "code",
   "execution_count": 4,
   "metadata": {},
   "outputs": [],
   "source": [
    "def prepare_sentence(seq, maxlen, tokenizer):\n",
    "    # Pads seq and slides windows\n",
    "    seq = seq[:maxlen]\n",
    "    seqX = np.append(tokenizer.word_index['<sos>'], seq)\n",
    "    seqY = np.append(seq, tokenizer.word_index['<eos>'])\n",
    "\n",
    "    x= pad_sequences([seqX],\n",
    "        maxlen=maxlen+1,\n",
    "        padding='post')[0]  # Pads before each sequence\n",
    "\n",
    "    y= pad_sequences([seqY],\n",
    "        maxlen=maxlen+1,\n",
    "        padding='post')[0]  # Pads before each sequence\n",
    "\n",
    "    return [x], [y]\n",
    "\n",
    "\n",
    "def getTokenizer(df) :\n",
    "    ### Dictionary for Normal ###\n",
    "    tokenizer = Tokenizer(filters='', split='<sep>', oov_token='<OTHERS>' ,lower=True)\n",
    "    tokenizer.fit_on_texts(df['Input'].values)\n",
    "\n",
    "    tokenizer.fit_on_texts(['<SOS>'])\n",
    "    tokenizer.fit_on_texts(['<EOS>'])\n",
    "\n",
    "    return tokenizer\n",
    "\n",
    "# def createGeneratorData(df, tokenizer, max_len) :\n",
    "#     #Prepare training for normal model\n",
    "#     x = []\n",
    "#     y = []\n",
    "\n",
    "#     for seq in df['Input']:\n",
    "#         x_windows, y_windows = prepare_sentence(seq, max_len, tokenizer)\n",
    "#         x += x_windows\n",
    "#         y += y_windows\n",
    "#     x = np.array(x)\n",
    "#     y = np.array(y)  # The word <PAD> does not constitute a class\n",
    "\n",
    "#     x.shape = [len(x), max_len + 1, 1]\n",
    "#     y.shape = [len(y), max_len + 1, 1]\n",
    "\n",
    "#     return x, y\n",
    "\n",
    "def prepare_sentence_classification(seq, maxlen, tokenizer):\n",
    "    # Pads seq and slides windows\n",
    "    seq = seq[:maxlen]\n",
    "#     seqX = np.append(seq, tokenizer.word_index['<eos>'])\n",
    "    seqX = np.append(tokenizer.word_index['<sos>'], seq)\n",
    "    seqX = np.append(seqX, tokenizer.word_index['<eos>'])\n",
    "\n",
    "    x= pad_sequences([seqX],\n",
    "        maxlen=maxlen+2,\n",
    "        padding='post')[0]  # Pads before each sequence\n",
    "\n",
    "    return [x]\n",
    "\n",
    "\n",
    "def create_input_data(df, tokenizer, max_len):\n",
    "    #Prepare training for normal model\n",
    "    x=[]; y=[]\n",
    "    for index, row in df.iterrows():\n",
    "        x_windows = prepare_sentence_classification(row['Input'], max_len, tokenizer)\n",
    "#         y_labels = row['Label']\n",
    "        y_labels = row['Attack']\n",
    "#         x += x_windows\n",
    "        x.append(x_windows)\n",
    "        y.append(y_labels)\n",
    "        \n",
    "    x = np.array(x)\n",
    "    y = np.array(y)\n",
    "#     x.shape = [len(x), max_len+2, 1]\n",
    "    x = np.reshape(x, (len(x), (max_len+2)))#, 1))\n",
    "\n",
    "    return x, y"
   ]
  },
  {
   "cell_type": "markdown",
   "metadata": {},
   "source": [
    "## Loading CIC Friday dataset"
   ]
  },
  {
   "cell_type": "raw",
   "metadata": {},
   "source": [
    "config['metadata']['artefact']\n",
    "# config['metadata']['artefact'] = 'artefact_seqlen200hash750'\n",
    "# config['metadata']['artefact']"
   ]
  },
  {
   "cell_type": "markdown",
   "metadata": {},
   "source": [
    "##### Training set"
   ]
  },
  {
   "cell_type": "code",
   "execution_count": 5,
   "metadata": {},
   "outputs": [
    {
     "name": "stdout",
     "output_type": "stream",
     "text": [
      "size of normal data:  10054\n"
     ]
    }
   ],
   "source": [
    "# N1 data\n",
    "df_normal = pd.read_csv(config['metadata']['uniqueID'] + '/' + config['metadata']['artefact'] + '/' + 'N1.csv')\n",
    "print(\"size of normal data: \", len(df_normal))\n",
    "# df_normal.head()"
   ]
  },
  {
   "cell_type": "code",
   "execution_count": 6,
   "metadata": {},
   "outputs": [
    {
     "name": "stdout",
     "output_type": "stream",
     "text": [
      "size of full attack data:  8311\n"
     ]
    }
   ],
   "source": [
    "# Entire train atk set. \n",
    "df_attackfull = pd.read_csv(config['metadata']['uniqueID'] + '/' + config['metadata']['artefact'] + '/' + 'A1_full.csv')\n",
    "print(\"size of full attack data: \", len(df_attackfull))"
   ]
  },
  {
   "cell_type": "code",
   "execution_count": 7,
   "metadata": {},
   "outputs": [
    {
     "name": "stdout",
     "output_type": "stream",
     "text": [
      "size of smaller attack data:  8311\n"
     ]
    }
   ],
   "source": [
    "# make attack 80% of train data \n",
    "ratio = 0.5 #0.8 #0.2\n",
    "df_attacksmall = df_attackfull[-int(len(df_normal)/ratio - len(df_normal)):]\n",
    "print(\"size of smaller attack data: \", len(df_attacksmall))"
   ]
  },
  {
   "cell_type": "code",
   "execution_count": 8,
   "metadata": {
    "scrolled": true
   },
   "outputs": [
    {
     "name": "stdout",
     "output_type": "stream",
     "text": [
      "size of df_train:  18365\n",
      "df_train value counts: \n",
      " 0    14256\n",
      "1     4109\n",
      "Name: Attack, dtype: int64\n"
     ]
    },
    {
     "name": "stderr",
     "output_type": "stream",
     "text": [
      "/home/wesleyjtann/miniconda3/envs/ddos/lib/python3.7/site-packages/ipykernel_launcher.py:6: SettingWithCopyWarning: \n",
      "A value is trying to be set on a copy of a slice from a DataFrame.\n",
      "Try using .loc[row_indexer,col_indexer] = value instead\n",
      "\n",
      "See the caveats in the documentation: http://pandas.pydata.org/pandas-docs/stable/user_guide/indexing.html#returning-a-view-versus-a-copy\n",
      "  \n",
      "/home/wesleyjtann/miniconda3/envs/ddos/lib/python3.7/site-packages/pandas/core/indexing.py:494: SettingWithCopyWarning: \n",
      "A value is trying to be set on a copy of a slice from a DataFrame.\n",
      "Try using .loc[row_indexer,col_indexer] = value instead\n",
      "\n",
      "See the caveats in the documentation: http://pandas.pydata.org/pandas-docs/stable/user_guide/indexing.html#returning-a-view-versus-a-copy\n",
      "  self.obj[item] = s\n"
     ]
    }
   ],
   "source": [
    "# add AGT labels for evaluation\n",
    "df_normal['Attack'] = 0\n",
    "# df_attacksmall['Attack'] = 1\n",
    "\n",
    "attacker='172.16.0.1'; victim='192.168.10.50'\n",
    "df_attacksmall['Attack'] = 0\n",
    "# if IP == attacker or IP == victim\n",
    "df_attacksmall.loc[df_attacksmall['Source IP']==attacker, 'Attack'] = 1\n",
    "df_attacksmall.loc[df_attacksmall['Source IP']==victim, 'Attack'] = 1\n",
    "# print(\"df_attacksmall value counts: \\n\", (df_attacksmall['Attack']).value_counts())\n",
    "\n",
    "# Join and shuffle train attack and normal data\n",
    "df_train = df_normal.append(df_attacksmall).sample(frac=1, replace=False, random_state=39).reset_index(drop=True)\n",
    "# df_train =df_normal # df_attacksmall #\n",
    "print(\"size of df_train: \", len(df_train))\n",
    "print(\"df_train value counts: \\n\", (df_train['Attack']).value_counts())"
   ]
  },
  {
   "cell_type": "code",
   "execution_count": 9,
   "metadata": {
    "scrolled": true
   },
   "outputs": [
    {
     "name": "stdout",
     "output_type": "stream",
     "text": [
      "Length of test data:  18365\n",
      "Number of normal traffic:  14256\n",
      "Number of true attacks:  4109\n",
      "Percent attacks:  0.22374081132589163\n"
     ]
    }
   ],
   "source": [
    "numtrain_atk = df_train['Attack'].values.sum()  # True\n",
    "numtrain_atk\n",
    "\n",
    "numtrain_norm = len(df_train) - df_train['Attack'].sum()  \n",
    "numtrain_norm\n",
    "\n",
    "# count atk percentage in test set\n",
    "# num_norm, num_atk = (df_test['Attack']).value_counts()\n",
    "\n",
    "print(\"Length of test data: \", len(df_train))\n",
    "print(\"Number of normal traffic: \", numtrain_norm)\n",
    "print(\"Number of true attacks: \", numtrain_atk)\n",
    "print(\"Percent attacks: \", numtrain_atk / len(df_train))"
   ]
  },
  {
   "cell_type": "markdown",
   "metadata": {},
   "source": [
    "##### Test set"
   ]
  },
  {
   "cell_type": "raw",
   "metadata": {},
   "source": [
    "# Entire test set. \n",
    "# dftest_atk = pd.read_csv(config['metadata']['uniqueID'] + '/' + config['metadata']['artefact'] + '/' + 'TEST_full.csv')\n",
    "len(dftest_atk)"
   ]
  },
  {
   "cell_type": "raw",
   "metadata": {},
   "source": [
    "# make test set \n",
    "# dfnorm_test = df_normal[-int(len(df_normal)*.5):] # last 50% of train norm as test\n",
    "dfnorm_test = df_normal\n",
    "print(len(dfnorm_test))\n",
    "\n",
    "ratio = 0.2 #0.2=80% atk , 0.5=50% atk\n",
    "# dftest_atksmall = dftest_atk[:(int(len(dfnorm_test)/ratio - len(dfnorm_test)))]\n",
    "dftest_atksmall = dftest_atk[-(int(len(dfnorm_test)/ratio - len(dfnorm_test))) : ]\n",
    "# add labels for evaluation\n",
    "dftest_atksmall['Attack'] = 1\n",
    "print(\"size of smaller attack data: \", len(dftest_atksmall))\n",
    "\n",
    "# join and shuffle train attack and normal data\n",
    "df_test = dfnorm_test.append(dftest_atksmall).sample(frac=1, replace=False, random_state=39).reset_index(drop=True)\n",
    "print(\"size of df_test: \", len(df_test))\n",
    "\n",
    "# # Saving test set\n",
    "# df_test.to_csv(config['metadata']['uniqueID'] + '/' + \n",
    "#                     config['metadata']['artefact'] + '/' + 'TEST.csv', index=False)"
   ]
  },
  {
   "cell_type": "code",
   "execution_count": 10,
   "metadata": {},
   "outputs": [
    {
     "name": "stdout",
     "output_type": "stream",
     "text": [
      "size of df_test:  2447\n"
     ]
    }
   ],
   "source": [
    "# Load test set\n",
    "df_test = pd.read_csv(config['metadata']['uniqueID'] + '/' + config['metadata']['artefact'] + '/' + 'TEST.csv')\n",
    "print(\"size of df_test: \", len(df_test))"
   ]
  },
  {
   "cell_type": "code",
   "execution_count": 11,
   "metadata": {},
   "outputs": [],
   "source": [
    "# Add labels to test set\n",
    "attacker='172.16.0.1'; victim='192.168.10.50'\n",
    "df_test['Attack'] = 0\n",
    "\n",
    "# if IP == attacker or IP == victim\n",
    "df_test.loc[df_test['Source IP']==attacker, 'Attack'] = 1\n",
    "df_test.loc[df_test['Source IP']==victim, 'Attack'] = 1\n",
    "\n",
    "df_test = df_test.sample(frac=1, random_state=39, replace=False)"
   ]
  },
  {
   "cell_type": "code",
   "execution_count": 12,
   "metadata": {},
   "outputs": [
    {
     "data": {
      "text/plain": [
       "1    1378\n",
       "0    1069\n",
       "Name: Attack, dtype: int64"
      ]
     },
     "execution_count": 12,
     "metadata": {},
     "output_type": "execute_result"
    }
   ],
   "source": [
    "(df_test['Attack']).value_counts()"
   ]
  },
  {
   "cell_type": "code",
   "execution_count": 13,
   "metadata": {},
   "outputs": [
    {
     "data": {
      "text/plain": [
       "1378"
      ]
     },
     "execution_count": 13,
     "metadata": {},
     "output_type": "execute_result"
    }
   ],
   "source": [
    "num_atk = df_test['Attack'].values.sum()  # True\n",
    "num_atk"
   ]
  },
  {
   "cell_type": "code",
   "execution_count": 14,
   "metadata": {},
   "outputs": [
    {
     "data": {
      "text/plain": [
       "1069"
      ]
     },
     "execution_count": 14,
     "metadata": {},
     "output_type": "execute_result"
    }
   ],
   "source": [
    "num_norm = len(df_test) - df_test['Attack'].sum()  \n",
    "num_norm"
   ]
  },
  {
   "cell_type": "code",
   "execution_count": 15,
   "metadata": {},
   "outputs": [
    {
     "name": "stdout",
     "output_type": "stream",
     "text": [
      "Length of test data:  2447\n",
      "Number of normal traffic:  1069\n",
      "Number of true attacks:  1378\n",
      "Percent attacks:  0.5631385369840621\n"
     ]
    }
   ],
   "source": [
    "# count atk percentage in test set\n",
    "# num_norm, num_atk = (df_test['Attack']).value_counts()\n",
    "\n",
    "print(\"Length of test data: \", len(df_test))\n",
    "print(\"Number of normal traffic: \", num_norm)\n",
    "print(\"Number of true attacks: \", num_atk)\n",
    "print(\"Percent attacks: \", num_atk / len(df_test))"
   ]
  },
  {
   "cell_type": "markdown",
   "metadata": {},
   "source": [
    "### Prepare data"
   ]
  },
  {
   "cell_type": "code",
   "execution_count": 16,
   "metadata": {},
   "outputs": [],
   "source": [
    "max_len = config['SEQUENCELENGTH']\n",
    "\n",
    "tokenizer = getTokenizer(df_train)  "
   ]
  },
  {
   "cell_type": "raw",
   "metadata": {},
   "source": [
    "dftrain_embedded = df_train.copy()\n",
    "dftrain_embedded['Input'] = tokenizer.texts_to_sequences(df_train['Input'].values)\n",
    "# x_normal, y_normal = createGeneratorData(df_normal_embedded, tokenizer_normal, max_len)\n",
    "\n",
    "# Shuffle the data order\n",
    "dftrain_embedded_shuf = dftrain_embedded.sample(frac=1, random_state=42, replace=False)\n",
    "\n",
    "# Extract inputs and labels\n",
    "X_train, y_train = create_input_data(dftrain_embedded_shuf, tokenizer, max_len)\n",
    "\n",
    "# Convert format for training  \n",
    "y_train = to_categorical(y_train, num_classes=2)\n",
    "\n",
    "print(X_train.shape, y_train.shape)"
   ]
  },
  {
   "cell_type": "raw",
   "metadata": {},
   "source": [
    "# np.unique(X_train, return_counts=True)"
   ]
  },
  {
   "cell_type": "raw",
   "metadata": {},
   "source": [
    "dftest_embedded = df_test.copy()\n",
    "dftest_embedded['Input'] = tokenizer.texts_to_sequences(df_test['Input'].values)\n",
    "# x_normal, y_normal = createGeneratorData(df_normal_embedded, tokenizer_normal, max_len)\n",
    "\n",
    "# Shuffle the data order\n",
    "dftest_embedded_shuf = dftest_embedded.sample(frac=1, random_state=42, replace=False)\n",
    "\n",
    "# Extract inputs and labels\n",
    "X_test, y_test = create_input_data(dftest_embedded_shuf, tokenizer, max_len)\n",
    "\n",
    "# Convert format for training  \n",
    "y_test = to_categorical(y_test, num_classes=2)\n",
    "\n",
    "print(X_test.shape, y_test.shape)"
   ]
  },
  {
   "cell_type": "code",
   "execution_count": 17,
   "metadata": {},
   "outputs": [],
   "source": [
    "def prep_modelinputs(df, max_len, tokenizer):\n",
    "    df_embedded = df.copy()\n",
    "    df_embedded['Input'] = tokenizer.texts_to_sequences(df['Input'].values)\n",
    "    # Shuffle the data order\n",
    "    df_embedded_shuf = df_embedded.sample(frac=1, random_state=42, replace=False)\n",
    "    # Extract inputs and labels\n",
    "    X_tmp, y_tmp = create_input_data(df_embedded_shuf, tokenizer, max_len)\n",
    "    # Convert format for training  \n",
    "    y_tmp = to_categorical(y_tmp, num_classes=2)\n",
    "    return X_tmp, y_tmp"
   ]
  },
  {
   "cell_type": "code",
   "execution_count": 18,
   "metadata": {},
   "outputs": [
    {
     "name": "stdout",
     "output_type": "stream",
     "text": [
      "(10054, 202) (10054, 2)\n"
     ]
    }
   ],
   "source": [
    "X_norm, y_norm = prep_modelinputs(df_normal, max_len, tokenizer)\n",
    "print(X_norm.shape, y_norm.shape)"
   ]
  },
  {
   "cell_type": "code",
   "execution_count": 19,
   "metadata": {},
   "outputs": [
    {
     "name": "stdout",
     "output_type": "stream",
     "text": [
      "(18365, 202) (18365, 2)\n"
     ]
    }
   ],
   "source": [
    "X_train, y_train = prep_modelinputs(df_train, max_len, tokenizer)\n",
    "print(X_train.shape, y_train.shape)"
   ]
  },
  {
   "cell_type": "code",
   "execution_count": 20,
   "metadata": {},
   "outputs": [
    {
     "name": "stdout",
     "output_type": "stream",
     "text": [
      "(2447, 202) (2447, 2)\n"
     ]
    }
   ],
   "source": [
    "X_test, y_test = prep_modelinputs(df_test, max_len, tokenizer)\n",
    "print(X_test.shape, y_test.shape)"
   ]
  },
  {
   "cell_type": "code",
   "execution_count": 21,
   "metadata": {},
   "outputs": [
    {
     "name": "stdout",
     "output_type": "stream",
     "text": [
      "Number transactions X_train dataset:  (18365, 202)\n",
      "Number transactions y_train dataset:  (18365, 2)\n",
      "Number transactions X_test dataset:  (2447, 202)\n",
      "Number transactions y_test dataset:  (2447, 2)\n",
      "Training set, counts of label '0': 14256\n",
      "Training set, counts of label '1': 4109\n",
      "Test set, counts of label '0': 1069\n",
      "Test set, counts of label '1': 1378\n"
     ]
    }
   ],
   "source": [
    "# X_train, X_test, y_train, y_test = train_test_split(X, y_cat, test_size=0.2, random_state=42)\n",
    "\n",
    "print(\"Number transactions X_train dataset: \", X_train.shape)\n",
    "print(\"Number transactions y_train dataset: \", y_train.shape)\n",
    "print(\"Number transactions X_test dataset: \", X_test.shape)\n",
    "print(\"Number transactions y_test dataset: \", y_test.shape)\n",
    "\n",
    "print(\"Training set, counts of label '0': {}\".format(int(np.sum(y_train, axis=0)[0])))\n",
    "print(\"Training set, counts of label '1': {}\".format(int(np.sum(y_train, axis=0)[1])))\n",
    "print(\"Test set, counts of label '0': {}\".format(int(np.sum(y_test, axis=0)[0])))\n",
    "print(\"Test set, counts of label '1': {}\".format(int(np.sum(y_test, axis=0)[1])))"
   ]
  },
  {
   "cell_type": "markdown",
   "metadata": {},
   "source": [
    "### Model"
   ]
  },
  {
   "cell_type": "code",
   "execution_count": 22,
   "metadata": {},
   "outputs": [
    {
     "name": "stdout",
     "output_type": "stream",
     "text": [
      "vocab_size:  [757]\n"
     ]
    }
   ],
   "source": [
    "vocab_size=[len(tokenizer.word_index)] \n",
    "input_emb_dim = config['MODELPARAMS']['INPUT_EMBED_DIM'] #512\n",
    "lstm_emb_dim = config['MODELPARAMS']['LSTM_DIM'] #300\n",
    "print(\"vocab_size: \", vocab_size)"
   ]
  },
  {
   "cell_type": "code",
   "execution_count": 23,
   "metadata": {
    "scrolled": true
   },
   "outputs": [
    {
     "name": "stdout",
     "output_type": "stream",
     "text": [
      "WARNING:tensorflow:From /home/wesleyjtann/miniconda3/envs/ddos/lib/python3.7/site-packages/keras/backend/tensorflow_backend.py:74: The name tf.get_default_graph is deprecated. Please use tf.compat.v1.get_default_graph instead.\n",
      "\n",
      "WARNING:tensorflow:From /home/wesleyjtann/miniconda3/envs/ddos/lib/python3.7/site-packages/keras/backend/tensorflow_backend.py:517: The name tf.placeholder is deprecated. Please use tf.compat.v1.placeholder instead.\n",
      "\n",
      "WARNING:tensorflow:From /home/wesleyjtann/miniconda3/envs/ddos/lib/python3.7/site-packages/keras/backend/tensorflow_backend.py:4138: The name tf.random_uniform is deprecated. Please use tf.random.uniform instead.\n",
      "\n",
      "WARNING:tensorflow:From /home/wesleyjtann/miniconda3/envs/ddos/lib/python3.7/site-packages/keras/optimizers.py:790: The name tf.train.Optimizer is deprecated. Please use tf.compat.v1.train.Optimizer instead.\n",
      "\n",
      "WARNING:tensorflow:From /home/wesleyjtann/miniconda3/envs/ddos/lib/python3.7/site-packages/keras/backend/tensorflow_backend.py:3376: The name tf.log is deprecated. Please use tf.math.log instead.\n",
      "\n",
      "WARNING:tensorflow:From /home/wesleyjtann/miniconda3/envs/ddos/lib/python3.7/site-packages/tensorflow/python/ops/nn_impl.py:180: add_dispatch_support.<locals>.wrapper (from tensorflow.python.ops.array_ops) is deprecated and will be removed in a future version.\n",
      "Instructions for updating:\n",
      "Use tf.where in 2.0, which has the same broadcast rule as np.where\n",
      "_________________________________________________________________\n",
      "Layer (type)                 Output Shape              Param #   \n",
      "=================================================================\n",
      "embedding_1 (Embedding)      (None, 202, 512)          388096    \n",
      "_________________________________________________________________\n",
      "lstm_1 (LSTM)                (None, 202, 300)          975600    \n",
      "_________________________________________________________________\n",
      "lstm_2 (LSTM)                (None, 300)               721200    \n",
      "_________________________________________________________________\n",
      "dense_1 (Dense)              (None, 2)                 602       \n",
      "=================================================================\n",
      "Total params: 2,085,498\n",
      "Trainable params: 2,085,498\n",
      "Non-trainable params: 0\n",
      "_________________________________________________________________\n",
      "None\n"
     ]
    }
   ],
   "source": [
    "model = Sequential()\n",
    "model.add(Embedding(vocab_size[0] + 1, input_emb_dim, input_length=X_train.shape[1]))\n",
    "model.add(LSTM(lstm_emb_dim, return_sequences=True)) # dropout=0.2, recurrent_dropout=0.2))\n",
    "model.add(LSTM(lstm_emb_dim))\n",
    "# model.add(TimeDistributed(Dense(2, activation='sigmoid')))\n",
    "model.add(Dense(2, activation='sigmoid'))\n",
    "model.compile(optimizer=optimizers.adam(lr=0.005), \n",
    "              loss='binary_crossentropy', metrics=['acc']) #lr=0.005 config['MODELPARAMS']['LEARNING_RATE_P']\n",
    "\n",
    "print(model.summary())"
   ]
  },
  {
   "cell_type": "markdown",
   "metadata": {},
   "source": [
    "## Full classifier training"
   ]
  },
  {
   "cell_type": "code",
   "execution_count": 24,
   "metadata": {
    "scrolled": true
   },
   "outputs": [
    {
     "name": "stdout",
     "output_type": "stream",
     "text": [
      "WARNING:tensorflow:From /home/wesleyjtann/miniconda3/envs/ddos/lib/python3.7/site-packages/keras/backend/tensorflow_backend.py:986: The name tf.assign_add is deprecated. Please use tf.compat.v1.assign_add instead.\n",
      "\n",
      "Train on 14692 samples, validate on 3673 samples\n",
      "Epoch 1/30\n",
      "14692/14692 [==============================] - 52s 4ms/step - loss: 0.0868 - acc: 0.9672 - val_loss: 0.0356 - val_acc: 0.9943\n",
      "Epoch 2/30\n",
      "14692/14692 [==============================] - 37s 3ms/step - loss: 0.0404 - acc: 0.9919 - val_loss: 0.0311 - val_acc: 0.9944\n",
      "Epoch 3/30\n",
      "14692/14692 [==============================] - 37s 3ms/step - loss: 0.0270 - acc: 0.9946 - val_loss: 0.0291 - val_acc: 0.9937\n",
      "Epoch 4/30\n",
      "14692/14692 [==============================] - 37s 3ms/step - loss: 0.0206 - acc: 0.9946 - val_loss: 0.0218 - val_acc: 0.9951\n",
      "Epoch 5/30\n",
      "14692/14692 [==============================] - 37s 3ms/step - loss: 0.1707 - acc: 0.9432 - val_loss: 0.0307 - val_acc: 0.9936\n",
      "Epoch 6/30\n",
      "14692/14692 [==============================] - 37s 3ms/step - loss: 0.0190 - acc: 0.9947 - val_loss: 0.0212 - val_acc: 0.9950\n",
      "Epoch 7/30\n",
      "14692/14692 [==============================] - 37s 3ms/step - loss: 0.0154 - acc: 0.9953 - val_loss: 0.0197 - val_acc: 0.9946\n",
      "Epoch 8/30\n",
      "14692/14692 [==============================] - 38s 3ms/step - loss: 0.0183 - acc: 0.9953 - val_loss: 0.0242 - val_acc: 0.9937\n",
      "Epoch 9/30\n",
      "14692/14692 [==============================] - 37s 3ms/step - loss: 0.0189 - acc: 0.9956 - val_loss: 0.0245 - val_acc: 0.9959\n",
      "Epoch 10/30\n",
      "14692/14692 [==============================] - 37s 3ms/step - loss: 0.0149 - acc: 0.9966 - val_loss: 0.0212 - val_acc: 0.9954\n",
      "Epoch 11/30\n",
      "14692/14692 [==============================] - 37s 3ms/step - loss: 0.0110 - acc: 0.9969 - val_loss: 0.0178 - val_acc: 0.9956\n",
      "Epoch 12/30\n",
      "14692/14692 [==============================] - 37s 3ms/step - loss: 0.0082 - acc: 0.9979 - val_loss: 0.0185 - val_acc: 0.9956\n",
      "Epoch 13/30\n",
      "14692/14692 [==============================] - 38s 3ms/step - loss: 0.0067 - acc: 0.9984 - val_loss: 0.0187 - val_acc: 0.9956\n",
      "Epoch 14/30\n",
      "14692/14692 [==============================] - 37s 3ms/step - loss: 0.0055 - acc: 0.9984 - val_loss: 0.0185 - val_acc: 0.9952\n",
      "Epoch 15/30\n",
      "14692/14692 [==============================] - 37s 3ms/step - loss: 0.0038 - acc: 0.9990 - val_loss: 0.0245 - val_acc: 0.9948\n",
      "Epoch 16/30\n",
      "14692/14692 [==============================] - 37s 3ms/step - loss: 0.0037 - acc: 0.9989 - val_loss: 0.0238 - val_acc: 0.9955\n",
      "Epoch 17/30\n",
      "14692/14692 [==============================] - 37s 3ms/step - loss: 0.0041 - acc: 0.9991 - val_loss: 0.0214 - val_acc: 0.9958\n",
      "Epoch 18/30\n",
      "14692/14692 [==============================] - 37s 3ms/step - loss: 0.0050 - acc: 0.9987 - val_loss: 0.0233 - val_acc: 0.9950\n"
     ]
    }
   ],
   "source": [
    "history = model.fit(X_train, y_train, epochs=config['TRAININGPARAMS']['EPOCHS_P'], \n",
    "                      batch_size=config['TRAININGPARAMS']['BATCH_SIZE'], validation_split=0.2, \n",
    "                      callbacks=[EarlyStopping(monitor='val_loss', patience=7, \n",
    "                                               mode='auto', min_delta=0.0002)]) #"
   ]
  },
  {
   "cell_type": "code",
   "execution_count": 25,
   "metadata": {},
   "outputs": [
    {
     "data": {
      "image/png": "[encoded data removed]",
      "text/plain": [
       "<Figure size 1080x360 with 2 Axes>"
      ]
     },
     "metadata": {
      "needs_background": "light"
     },
     "output_type": "display_data"
    }
   ],
   "source": [
    "import matplotlib.pyplot as plt\n",
    "%matplotlib inline\n",
    "\n",
    "acc = history.history['acc']\n",
    "val_acc = history.history['val_acc']\n",
    "loss = history.history['loss']\n",
    "val_loss = history.history['val_loss']\n",
    "\n",
    "epochs = range(1, len(acc) + 1)\n",
    "\n",
    "f = plt.figure(figsize=(15,5))\n",
    "\n",
    "ax1 = f.add_subplot(121)\n",
    "ax1.set_xlabel('Epochs')\n",
    "ax1.set_ylabel('Accuracy')\n",
    "ax1.plot(epochs, acc, 'bo', label='Training acc')\n",
    "ax1.plot(epochs, val_acc, 'b', label='Validation acc')\n",
    "ax1.legend()\n",
    "ax1.title.set_text('Training and validation accuracy')\n",
    "\n",
    "ax2 = f.add_subplot(122)\n",
    "ax2.title.set_text('Generated Synthetic Graph')\n",
    "ax2.set_xlabel('Epochs')\n",
    "ax2.set_ylabel('Loss')\n",
    "ax2.plot(epochs, loss, 'bo', label='Training loss')\n",
    "ax2.plot(epochs, val_loss, 'b', label='Validation loss')\n",
    "ax2.legend()\n",
    "ax2.title.set_text('Training and validation loss')\n",
    "\n",
    "plt.show()"
   ]
  },
  {
   "cell_type": "markdown",
   "metadata": {},
   "source": [
    "### Evaluate Full classifier model"
   ]
  },
  {
   "cell_type": "code",
   "execution_count": 26,
   "metadata": {},
   "outputs": [],
   "source": [
    "# Extract true labels\n",
    "ytest_true = np.argmax(y_test, axis=1)"
   ]
  },
  {
   "cell_type": "code",
   "execution_count": 27,
   "metadata": {},
   "outputs": [
    {
     "name": "stdout",
     "output_type": "stream",
     "text": [
      "2447/2447 [==============================] - 1s 410us/step\n",
      "Test set\n",
      "  Loss: 0.2585\n",
      "  Accuracy: 0.9489\n"
     ]
    }
   ],
   "source": [
    "accr = model.evaluate(X_test, y_test, batch_size=512)\n",
    "print('Test set\\n  Loss: {:0.4f}\\n  Accuracy: {:0.4f}'.format(accr[0],accr[1]))"
   ]
  },
  {
   "cell_type": "code",
   "execution_count": 28,
   "metadata": {
    "scrolled": true
   },
   "outputs": [
    {
     "name": "stdout",
     "output_type": "stream",
     "text": [
      "2447/2447 [==============================] - 1s 524us/step\n"
     ]
    }
   ],
   "source": [
    "y_pred = model.predict_classes(X_test, batch_size=512, verbose=1)"
   ]
  },
  {
   "cell_type": "code",
   "execution_count": 29,
   "metadata": {
    "scrolled": true
   },
   "outputs": [
    {
     "name": "stdout",
     "output_type": "stream",
     "text": [
      "2447/2447 [==============================] - 1s 408us/step\n",
      "Percentage of Positives: 0.5149\n"
     ]
    }
   ],
   "source": [
    "y_predscr = model.predict(X_test, batch_size=512, verbose=1)\n",
    "\n",
    "predpos = np.count_nonzero(y_predscr[:,1] > 0.5)\n",
    "pred_allpos = predpos / len(y_predscr)\n",
    "print('Percentage of Positives: {:0.4f}'.format(pred_allpos))"
   ]
  },
  {
   "cell_type": "code",
   "execution_count": 30,
   "metadata": {
    "scrolled": true
   },
   "outputs": [
    {
     "name": "stdout",
     "output_type": "stream",
     "text": [
      "Accuracy: 0.9489170412750306\n",
      "Recall: 0.9121915820029027\n",
      "Precision: 0.9968279143536876\n",
      "F1 score: 0.9526335733232285\n",
      "\n",
      " clasification report:\n",
      "               precision    recall  f1-score   support\n",
      "\n",
      "           0       0.90      1.00      0.94      1069\n",
      "           1       1.00      0.91      0.95      1378\n",
      "\n",
      "    accuracy                           0.95      2447\n",
      "   macro avg       0.95      0.95      0.95      2447\n",
      "weighted avg       0.95      0.95      0.95      2447\n",
      "\n",
      "\n",
      " confusion matrix:\n",
      " [[1065    4]\n",
      " [ 121 1257]]\n",
      "1065 4 121 1257\n"
     ]
    },
    {
     "data": {
      "text/plain": [
       "0.0037418147801683817"
      ]
     },
     "execution_count": 30,
     "metadata": {},
     "output_type": "execute_result"
    }
   ],
   "source": [
    "from sklearn.metrics import precision_score, \\\n",
    "    recall_score, confusion_matrix, classification_report, \\\n",
    "    accuracy_score, f1_score\n",
    "\n",
    "print('Accuracy:', accuracy_score(ytest_true, y_pred))\n",
    "print('Recall:', recall_score(ytest_true, y_pred))\n",
    "print('Precision:', precision_score(ytest_true, y_pred))\n",
    "print('F1 score:', f1_score(ytest_true, y_pred))\n",
    "print('\\n clasification report:\\n', classification_report(ytest_true, y_pred))\n",
    "print('\\n confusion matrix:\\n',confusion_matrix(ytest_true, y_pred))\n",
    "\n",
    "tn, fp, fn, tp = confusion_matrix(ytest_true, y_pred).ravel()\n",
    "print(tn, fp, fn, tp)\n",
    "fpr = fp / (fp+tn)\n",
    "fpr"
   ]
  },
  {
   "cell_type": "markdown",
   "metadata": {},
   "source": [
    "## Iterative classifier training"
   ]
  },
  {
   "cell_type": "code",
   "execution_count": 45,
   "metadata": {
    "scrolled": true
   },
   "outputs": [
    {
     "name": "stdout",
     "output_type": "stream",
     "text": [
      "size of df_train:  18365\n",
      "df_train value counts: \n",
      " 0    10054\n",
      "1     8311\n",
      "Name: Attack, dtype: int64\n"
     ]
    },
    {
     "name": "stderr",
     "output_type": "stream",
     "text": [
      "/home/wesleyjtann/miniconda3/envs/ddos/lib/python3.7/site-packages/ipykernel_launcher.py:3: SettingWithCopyWarning: \n",
      "A value is trying to be set on a copy of a slice from a DataFrame.\n",
      "Try using .loc[row_indexer,col_indexer] = value instead\n",
      "\n",
      "See the caveats in the documentation: http://pandas.pydata.org/pandas-docs/stable/user_guide/indexing.html#returning-a-view-versus-a-copy\n",
      "  This is separate from the ipykernel package so we can avoid doing imports until\n"
     ]
    }
   ],
   "source": [
    "# add PGT labels for evaluation\n",
    "df_normal['Attack'] = 0\n",
    "df_attacksmall['Attack'] = 1\n",
    "# print(\"df_attacksmall value counts: \\n\", (df_attacksmall['Attack']).value_counts())\n",
    "\n",
    "# Join and shuffle train attack and normal data\n",
    "df_train = df_normal.append(df_attacksmall).sample(frac=1, replace=False, random_state=39).reset_index(drop=True)\n",
    "# df_train =df_normal # df_attacksmall #\n",
    "print(\"size of df_train: \", len(df_train))\n",
    "print(\"df_train value counts: \\n\", (df_train['Attack']).value_counts())"
   ]
  },
  {
   "cell_type": "code",
   "execution_count": 46,
   "metadata": {},
   "outputs": [
    {
     "name": "stdout",
     "output_type": "stream",
     "text": [
      "(18365, 202) (18365, 2)\n"
     ]
    }
   ],
   "source": [
    "X_train, y_train = prep_modelinputs(df_train, max_len, tokenizer)\n",
    "print(X_train.shape, y_train.shape)"
   ]
  },
  {
   "cell_type": "raw",
   "metadata": {},
   "source": [
    "del iter_model"
   ]
  },
  {
   "cell_type": "code",
   "execution_count": 48,
   "metadata": {},
   "outputs": [
    {
     "name": "stdout",
     "output_type": "stream",
     "text": [
      "_________________________________________________________________\n",
      "Layer (type)                 Output Shape              Param #   \n",
      "=================================================================\n",
      "embedding_3 (Embedding)      (None, 202, 512)          388096    \n",
      "_________________________________________________________________\n",
      "lstm_5 (LSTM)                (None, 202, 300)          975600    \n",
      "_________________________________________________________________\n",
      "lstm_6 (LSTM)                (None, 300)               721200    \n",
      "_________________________________________________________________\n",
      "dense_3 (Dense)              (None, 2)                 602       \n",
      "=================================================================\n",
      "Total params: 2,085,498\n",
      "Trainable params: 2,085,498\n",
      "Non-trainable params: 0\n",
      "_________________________________________________________________\n",
      "None\n"
     ]
    }
   ],
   "source": [
    "iter_model = Sequential()\n",
    "iter_model.add(Embedding(vocab_size[0] + 1, input_emb_dim, input_length=X_train.shape[1]))\n",
    "iter_model.add(LSTM(lstm_emb_dim, return_sequences=True)) # dropout=0.2, recurrent_dropout=0.2))\n",
    "iter_model.add(LSTM(lstm_emb_dim))\n",
    "# model.add(TimeDistributed(Dense(2, activation='sigmoid')))\n",
    "iter_model.add(Dense(2, activation='sigmoid'))\n",
    "iter_model.compile(optimizer=optimizers.adam(lr=0.005), \n",
    "              loss='binary_crossentropy', metrics=['acc']) #lr=0.005 config['MODELPARAMS']['LEARNING_RATE_P']\n",
    "\n",
    "print(iter_model.summary())"
   ]
  },
  {
   "cell_type": "code",
   "execution_count": 49,
   "metadata": {},
   "outputs": [
    {
     "name": "stdout",
     "output_type": "stream",
     "text": [
      "Train on 14692 samples, validate on 3673 samples\n",
      "Epoch 1/1\n",
      "14692/14692 [==============================] - 41s 3ms/step - loss: 0.5227 - acc: 0.7309 - val_loss: 0.4779 - val_acc: 0.7528\n",
      "18365/18365 [==============================] - 13s 718us/step\n",
      "Train on 11753 samples, validate on 2939 samples\n",
      "Epoch 1/1\n",
      "11753/11753 [==============================] - 30s 3ms/step - loss: 0.4260 - acc: 0.7778 - val_loss: 0.4205 - val_acc: 0.7698\n",
      "14692/14692 [==============================] - 11s 715us/step\n",
      "Train on 9401 samples, validate on 2351 samples\n",
      "Epoch 1/1\n",
      "9401/9401 [==============================] - 24s 3ms/step - loss: 0.3202 - acc: 0.8588 - val_loss: 0.3342 - val_acc: 0.8537\n",
      "11752/11752 [==============================] - 8s 692us/step\n",
      "Train on 7520 samples, validate on 1880 samples\n",
      "Epoch 1/1\n",
      "7520/7520 [==============================] - 19s 3ms/step - loss: 0.0766 - acc: 0.9721 - val_loss: 0.0753 - val_acc: 0.9670\n",
      "9400/9400 [==============================] - 7s 700us/step\n",
      "Train on 6016 samples, validate on 1504 samples\n",
      "Epoch 1/1\n",
      "6016/6016 [==============================] - 15s 3ms/step - loss: 0.0140 - acc: 0.9942 - val_loss: 0.0098 - val_acc: 0.9987\n",
      "7520/7520 [==============================] - 5s 706us/step\n"
     ]
    }
   ],
   "source": [
    "X_train, y_train = prep_modelinputs(df_train, max_len, tokenizer)\n",
    "keep_thres = 0.4 # must be <=0.5\n",
    "\n",
    "for _ in range(5):\n",
    "    iter_model.fit(X_train, y_train, epochs=1, \n",
    "                      batch_size=config['TRAININGPARAMS']['BATCH_SIZE'], validation_split=0.2, \n",
    "                      callbacks=[EarlyStopping(monitor='val_loss', patience=7, \n",
    "                                               mode='auto', min_delta=0.0002)]) #\n",
    "\n",
    "    y_predscr = iter_model.predict(X_train, batch_size=config['TRAININGPARAMS']['BATCH_SIZE'], verbose=1)\n",
    "    \n",
    "    # Sorting y_predscr and X_train\n",
    "    sorting = np.argsort(-1*y_predscr[:, 1]) # add (-1*) to argsort the second column in descending order \n",
    "    ypred_sorted = y_predscr[sorting] \n",
    "    Xtrain_sorted = X_train[sorting]\n",
    "    \n",
    "    # reduce Xtrain_sorted and ypred_sorted to keep_num size\n",
    "    keep_num = int(len(y_predscr)*keep_thres)\n",
    "    Xtrain_atk = Xtrain_sorted[:keep_num,:]\n",
    "    ytrain_atk = np.vstack((np.zeros(keep_num), np.ones(keep_num))).T #.shape\n",
    "    \n",
    "    # randomly choose from X_norm to create new training set\n",
    "    Xtrain_norm = X_norm[np.random.choice(X_norm.shape[0], size=keep_num, replace=False), :]\n",
    "    X_train = np.concatenate((Xtrain_atk,Xtrain_norm), axis=0)\n",
    "    y_train = np.concatenate((ytrain_atk,y_norm[:len(Xtrain_norm)]), axis=0)\n",
    "    \n",
    "    # Shuffle new training set\n",
    "    shuffler = np.random.permutation(len(X_train))\n",
    "    X_train = X_train[shuffler]\n",
    "    y_train = y_train[shuffler]"
   ]
  },
  {
   "cell_type": "raw",
   "metadata": {},
   "source": [
    "X_train.shape"
   ]
  },
  {
   "cell_type": "raw",
   "metadata": {},
   "source": [
    "y_train.shape"
   ]
  },
  {
   "cell_type": "raw",
   "metadata": {},
   "source": [
    "keep_num = int(len(y_predscr)*keep_thres)\n",
    "# y_predscr[:keep_num,1]"
   ]
  },
  {
   "cell_type": "raw",
   "metadata": {},
   "source": [
    "sorting = np.argsort(-1*y_predscr[:, 1]) # add (-1*) to argsort the second column in descending order \n",
    "ypred_sorted = y_predscr[sorting] #[:10]\n",
    "ypred_sorted"
   ]
  },
  {
   "cell_type": "raw",
   "metadata": {},
   "source": [
    "Xtrain_sorted = X_train[sorting]"
   ]
  },
  {
   "cell_type": "raw",
   "metadata": {},
   "source": [
    "ypred_sorted[:keep_num,:].shape"
   ]
  },
  {
   "cell_type": "raw",
   "metadata": {},
   "source": [
    "y_train = np.vstack((np.zeros(keep_num), np.ones(keep_num))).T#.shape"
   ]
  },
  {
   "cell_type": "raw",
   "metadata": {},
   "source": [
    "Xtrain_norm = X_norm[np.random.choice(X_norm.shape[0], size=keep_num, replace=False), :]\n",
    "X_train = np.concatenate((Xtrain_atk,Xtrain_norm), axis=0)\n",
    "X_train[:6]"
   ]
  },
  {
   "cell_type": "raw",
   "metadata": {},
   "source": [
    "y_train = np.concatenate((ytrain_atk,y_norm[:len(Xtrain_norm)]), axis=0)\n",
    "y_train[:9]"
   ]
  },
  {
   "cell_type": "raw",
   "metadata": {},
   "source": [
    "shuffler = np.random.permutation(len(X_train))\n",
    "X_train_shuffled = X_train[shuffler]\n",
    "X_train_shuffled\n",
    "y_train_shuffled = y_train[shuffler]\n",
    "y_train_shuffled"
   ]
  },
  {
   "cell_type": "markdown",
   "metadata": {},
   "source": [
    "### Evaluate Iterative classifier model"
   ]
  },
  {
   "cell_type": "code",
   "execution_count": 50,
   "metadata": {},
   "outputs": [],
   "source": [
    "# Extract true labels\n",
    "ytest_true = np.argmax(y_test, axis=1)"
   ]
  },
  {
   "cell_type": "code",
   "execution_count": 51,
   "metadata": {},
   "outputs": [
    {
     "name": "stdout",
     "output_type": "stream",
     "text": [
      "2447/2447 [==============================] - 1s 410us/step\n",
      "Test set\n",
      "  Loss: 0.1607\n",
      "  Accuracy: 0.9720\n"
     ]
    }
   ],
   "source": [
    "accr = iter_model.evaluate(X_test, y_test, batch_size=512)\n",
    "print('Test set\\n  Loss: {:0.4f}\\n  Accuracy: {:0.4f}'.format(accr[0],accr[1]))"
   ]
  },
  {
   "cell_type": "code",
   "execution_count": 52,
   "metadata": {
    "scrolled": true
   },
   "outputs": [
    {
     "name": "stdout",
     "output_type": "stream",
     "text": [
      "2447/2447 [==============================] - 1s 412us/step\n"
     ]
    }
   ],
   "source": [
    "y_pred = iter_model.predict_classes(X_test, batch_size=512, verbose=1)"
   ]
  },
  {
   "cell_type": "code",
   "execution_count": 53,
   "metadata": {
    "scrolled": true
   },
   "outputs": [
    {
     "name": "stdout",
     "output_type": "stream",
     "text": [
      "2447/2447 [==============================] - 1s 417us/step\n",
      "Percentage of Positives: 0.5398\n"
     ]
    }
   ],
   "source": [
    "y_predscr = iter_model.predict(X_test, batch_size=512, verbose=1)\n",
    "\n",
    "predpos = np.count_nonzero(y_predscr[:,1] > 0.5)\n",
    "pred_allpos = predpos / len(y_predscr)\n",
    "print('Percentage of Positives: {:0.4f}'.format(pred_allpos))"
   ]
  },
  {
   "cell_type": "code",
   "execution_count": 54,
   "metadata": {
    "scrolled": true
   },
   "outputs": [
    {
     "name": "stdout",
     "output_type": "stream",
     "text": [
      "Accuracy: 0.9713935431140172\n",
      "Recall: 0.9542815674891146\n",
      "Precision: 0.9947049924357034\n",
      "F1 score: 0.974074074074074\n",
      "\n",
      " clasification report:\n",
      "               precision    recall  f1-score   support\n",
      "\n",
      "           0       0.94      0.99      0.97      1069\n",
      "           1       0.99      0.95      0.97      1378\n",
      "\n",
      "    accuracy                           0.97      2447\n",
      "   macro avg       0.97      0.97      0.97      2447\n",
      "weighted avg       0.97      0.97      0.97      2447\n",
      "\n",
      "\n",
      " confusion matrix:\n",
      " [[1062    7]\n",
      " [  63 1315]]\n",
      "1062 7 63 1315\n"
     ]
    },
    {
     "data": {
      "text/plain": [
       "0.006548175865294668"
      ]
     },
     "execution_count": 54,
     "metadata": {},
     "output_type": "execute_result"
    }
   ],
   "source": [
    "from sklearn.metrics import precision_score, \\\n",
    "    recall_score, confusion_matrix, classification_report, \\\n",
    "    accuracy_score, f1_score\n",
    "\n",
    "print('Accuracy:', accuracy_score(ytest_true, y_pred))\n",
    "print('Recall:', recall_score(ytest_true, y_pred))\n",
    "print('Precision:', precision_score(ytest_true, y_pred))\n",
    "print('F1 score:', f1_score(ytest_true, y_pred))\n",
    "print('\\n clasification report:\\n', classification_report(ytest_true, y_pred))\n",
    "print('\\n confusion matrix:\\n',confusion_matrix(ytest_true, y_pred))\n",
    "\n",
    "tn, fp, fn, tp = confusion_matrix(ytest_true, y_pred).ravel()\n",
    "print(tn, fp, fn, tp)\n",
    "fpr = fp / (fp+tn)\n",
    "fpr"
   ]
  },
  {
   "cell_type": "raw",
   "metadata": {},
   "source": [
    "Accuracy: 0.9689415610952187\n",
    "Recall: 0.9528301886792453\n",
    "Precision: 0.9916918429003021\n",
    "F1 score: 0.9718726868985935\n",
    "\n",
    " clasification report:\n",
    "               precision    recall  f1-score   support\n",
    "\n",
    "           0       0.94      0.99      0.97      1069\n",
    "           1       0.99      0.95      0.97      1378\n",
    "\n",
    "    accuracy                           0.97      2447\n",
    "   macro avg       0.97      0.97      0.97      2447\n",
    "weighted avg       0.97      0.97      0.97      2447\n",
    "\n",
    "\n",
    " confusion matrix:\n",
    " [[1058   11]\n",
    " [  65 1313]]\n",
    "1058 11 65 1313\n",
    "\n",
    "0.01028999064546305"
   ]
  },
  {
   "cell_type": "code",
   "execution_count": 55,
   "metadata": {},
   "outputs": [
    {
     "data": {
      "text/plain": [
       "[0,\n",
       " 0.005612722170252572,\n",
       " 0.006548175865294668,\n",
       " 0.006548175865294668,\n",
       " 0.006548175865294668,\n",
       " 0.006548175865294668,\n",
       " 0.006548175865294668,\n",
       " 0.006548175865294668,\n",
       " 0.006548175865294668,\n",
       " 0.006548175865294668,\n",
       " 1.0]"
      ]
     },
     "execution_count": 55,
     "metadata": {},
     "output_type": "execute_result"
    }
   ],
   "source": [
    "fp_classifier = []    \n",
    "percentages = [0.1, 0.2, 0.3, 0.4, 0.5, 0.6, 0.7, 0.8, 0.9, 1.0]\n",
    "\n",
    "for percent in percentages:\n",
    "    tau_threshold = percent\n",
    "    ytau_pred = (y_predscr[:,0] < tau_threshold).astype(int)\n",
    "    tn_tmp, fp_tmp, fn_tmp, tp_tmp = confusion_matrix(ytest_true, ytau_pred).ravel()\n",
    "    tn_tmp, fp_tmp, fn_tmp, tp_tmp \n",
    "    fpr_tmp = fp_tmp / (fp_tmp+tn_tmp)\n",
    "    fp_classifier.append(fpr_tmp)\n",
    "    \n",
    "fp_classifier.insert(0,0)\n",
    "fp_classifier"
   ]
  },
  {
   "cell_type": "code",
   "execution_count": 40,
   "metadata": {},
   "outputs": [
    {
     "name": "stdout",
     "output_type": "stream",
     "text": [
      "2447\n"
     ]
    },
    {
     "data": {
      "image/png": "[encoded data removed]",
      "text/plain": [
       "<Figure size 504x360 with 1 Axes>"
      ]
     },
     "metadata": {
      "needs_background": "light"
     },
     "output_type": "display_data"
    }
   ],
   "source": [
    "import matplotlib.pyplot as plt\n",
    "\n",
    "scores = y_predscr[:,1] # classifier atk scores\n",
    "# def showscore(scores):\n",
    "fig = plt.figure(figsize=(7,5))\n",
    "print(len(scores))\n",
    "plt.hist(scores, bins = 10, alpha=0.5, label='Pred Scores') \n",
    "#     plt.hist(scoretype[scores][scoretype['Attack'] == 1], bins = 10, alpha=0.5, label='attacker')\n",
    "plt.legend(loc='upper left')\n",
    "plt.show()\n",
    "    \n",
    "# showscore(y_predscr) # P scores"
   ]
  },
  {
   "cell_type": "code",
   "execution_count": null,
   "metadata": {},
   "outputs": [],
   "source": []
  },
  {
   "cell_type": "code",
   "execution_count": null,
   "metadata": {},
   "outputs": [],
   "source": []
  },
  {
   "cell_type": "code",
   "execution_count": null,
   "metadata": {},
   "outputs": [],
   "source": []
  },
  {
   "cell_type": "code",
   "execution_count": null,
   "metadata": {},
   "outputs": [],
   "source": []
  },
  {
   "cell_type": "raw",
   "metadata": {},
   "source": [
    "# lr = 0.003\n",
    "\n",
    "Accuracy: 0.8068669527896996\n",
    "Recall: 0.6226241569589209\n",
    "Precision: 0.9859223300970874\n",
    "F1 score: 0.7632468996617813\n",
    "\n",
    " clasification report:\n",
    "               precision    recall  f1-score   support\n",
    "\n",
    "           0       0.72      0.99      0.84      3262\n",
    "           1       0.99      0.62      0.76      3262\n",
    "\n",
    "    accuracy                           0.81      6524\n",
    "   macro avg       0.86      0.81      0.80      6524\n",
    "weighted avg       0.86      0.81      0.80      6524\n",
    "\n",
    "\n",
    " confusion matrix:\n",
    " [[3233   29]\n",
    " [1231 2031]]\n",
    "3233 29 1231 2031\n",
    "\n",
    "0.008890251379521767"
   ]
  },
  {
   "cell_type": "raw",
   "metadata": {},
   "source": [
    "# lr = 0.0005\n",
    "Accuracy: 0.76931330472103\n",
    "Recall: 0.6489883507050889\n",
    "Precision: 0.8546628986677433\n",
    "F1 score: 0.7377591914967764\n",
    "\n",
    " clasification report:\n",
    "               precision    recall  f1-score   support\n",
    "\n",
    "           0       0.72      0.89      0.79      3262\n",
    "           1       0.85      0.65      0.74      3262\n",
    "\n",
    "    accuracy                           0.77      6524\n",
    "   macro avg       0.79      0.77      0.77      6524\n",
    "weighted avg       0.79      0.77      0.77      6524\n",
    "\n",
    "\n",
    " confusion matrix:\n",
    " [[2902  360]\n",
    " [1145 2117]]\n",
    "2902 360 1145 2117\n",
    "\n",
    "0.11036174126302882"
   ]
  },
  {
   "cell_type": "raw",
   "metadata": {},
   "source": [
    "# lr = 0.001\n",
    "Accuracy: 0.7967504598405886\n",
    "Recall: 0.6152667075413857\n",
    "Precision: 0.965832531280077\n",
    "F1 score: 0.751685393258427\n",
    "\n",
    " clasification report:\n",
    "               precision    recall  f1-score   support\n",
    "\n",
    "           0       0.72      0.98      0.83      3262\n",
    "           1       0.97      0.62      0.75      3262\n",
    "\n",
    "    accuracy                           0.80      6524\n",
    "   macro avg       0.84      0.80      0.79      6524\n",
    "weighted avg       0.84      0.80      0.79      6524\n",
    "\n",
    "\n",
    " confusion matrix:\n",
    " [[3191   71]\n",
    " [1255 2007]]\n",
    "3191 71 1255 2007\n",
    "\n",
    "0.021765787860208462"
   ]
  },
  {
   "cell_type": "raw",
   "metadata": {},
   "source": [
    "def perf_measure(y_actual, y_hat):\n",
    "    TP = 0\n",
    "    FP = 0\n",
    "    TN = 0\n",
    "    FN = 0\n",
    "\n",
    "    for i in range(len(y_hat)): \n",
    "        if y_actual[i]==y_hat[i]==1:\n",
    "            TP += 1\n",
    "        if y_hat[i]==1 and y_actual[i]!=y_hat[i]:\n",
    "            FP += 1\n",
    "        if y_actual[i]==y_hat[i]==0:\n",
    "            TN += 1\n",
    "        if y_hat[i]==0 and y_actual[i]!=y_hat[i]:\n",
    "            FN += 1\n",
    "\n",
    "    return(TP, FP, TN, FN)\n",
    "\n",
    "TP, FP, TN, FN = perf_measure(ytest_true, y_pred)\n",
    "FPR = FP / (FP+TN)\n",
    "FPR"
   ]
  }
 ],
 "metadata": {
  "kernelspec": {
   "display_name": "ddos",
   "language": "python",
   "name": "ddos"
  },
  "language_info": {
   "codemirror_mode": {
    "name": "ipython",
    "version": 3
   },
   "file_extension": ".py",
   "mimetype": "text/x-python",
   "name": "python",
   "nbconvert_exporter": "python",
   "pygments_lexer": "ipython3",
   "version": "3.7.5"
  }
 },
 "nbformat": 4,
 "nbformat_minor": 4
}
