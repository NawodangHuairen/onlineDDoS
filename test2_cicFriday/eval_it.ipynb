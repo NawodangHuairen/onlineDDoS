{
 "cells": [
  {
   "cell_type": "code",
   "execution_count": 13,
   "metadata": {},
   "outputs": [],
   "source": [
    "import pickle\n",
    "import yaml\n",
    "import pandas as pd\n",
    "import pickle\n",
    "import sys\n",
    "import numpy as np\n",
    "\n",
    "import matplotlib.pyplot as plot"
   ]
  },
  {
   "cell_type": "code",
   "execution_count": 14,
   "metadata": {},
   "outputs": [
    {
     "name": "stderr",
     "output_type": "stream",
     "text": [
      "/home/wesleyjtann/miniconda3/envs/ddos/lib/python3.7/site-packages/ipykernel_launcher.py:3: YAMLLoadWarning: calling yaml.load() without Loader=... is deprecated, as the default Loader is unsafe. Please read https://msg.pyyaml.org/load for full details.\n",
      "  This is separate from the ipykernel package so we can avoid doing imports until\n"
     ]
    }
   ],
   "source": [
    "def loadConfig():\n",
    "    with open('./light_config.yaml', \"r\") as ymlfile: \n",
    "        cfg = yaml.load(ymlfile)\n",
    "    return cfg\n",
    "\n",
    "config = loadConfig()"
   ]
  },
  {
   "cell_type": "code",
   "execution_count": 28,
   "metadata": {},
   "outputs": [],
   "source": [
    "import math\n",
    "\n",
    "def calculateFalsePositives(agtIPList, agt_attacks, scoreDict, percentages, numNorm) :\n",
    "    numNormal = numNorm\n",
    "    numTotalIP = len(scoreDict)\n",
    "    cutOff = []\n",
    "    falsepositives = []\n",
    "    \n",
    "    for percent in percentages :\n",
    "        cutOff.append(math.ceil(numTotalIP * percent))\n",
    "    \n",
    "    index = 0\n",
    "    fp_count = 0 # add\n",
    "    tp_count = 0 # add\n",
    "    truepos = [] # add\n",
    "    \n",
    "    for (IP, IPD, score) in list(scoreDict.itertuples(index=False, name=None)):\n",
    "        if IP + IPD in agtIPList: # add\n",
    "            fp_count = fp_count + 1 # add\n",
    "        if IP + IPD in agt_attacks:\n",
    "            tp_count = tp_count + 1            \n",
    "            \n",
    "        index = index + 1\n",
    "        if index in cutOff :\n",
    "            falsepositives.append(fp_count/numNormal)\n",
    "            truepos.append(tp_count / len(agt_attacks)) #len(agt_attacks)) # add\n",
    "            \n",
    "    return falsepositives, truepos\n",
    "\n",
    "\"\"\" including iter_classifier_two\"\"\"\n",
    "# def plotAndSaveGraph(PQ, P, PQTil, classifier_rejectthres, fp_classifier, iter_classifier_one, iter_classifier_two, \n",
    "#                      iter_classifier, config, plt=False):\n",
    "#     percentages = [0.0, 0.1, 0.2, 0.3, 0.4, 0.5, 0.6, 0.7, 0.8, 0.9, 1.0]\n",
    "\n",
    "#     plot.rcParams['figure.figsize'] = [9, 9]\n",
    "#     fig = plot.figure()\n",
    "#     ax = plot.subplot(111)\n",
    "#     # #ax.plot(percentages, old_graphScoreList, label = \"Old P Over Q Scores\")\n",
    "#     # #ax.plot(percentages, old_graphPList, label = \"Old P Scores\")\n",
    "#     ax.plot(percentages, percentages, linewidth=2, label = \"Randomized Rejection\")\n",
    "#     ax.plot(percentages, P, linewidth=2, linestyle='--', marker='o', markersize=9, label = \"N Only\")\n",
    "#     ax.plot(percentages, PQ, linewidth=2, linestyle=':', label = \"N/D (ℓ=1)\") #With Transfer\")\n",
    "#     ax.plot(percentages, PQTil, linewidth=2, linestyle='-.', label = \"N/D (ℓ=∞)\") #Without Transfer\") \n",
    "# #     ax.plot(percentages, Qonline, label = \"Online Q\")\n",
    "# #     ax.plot(percentages, Qoffline, label = \"Offline Q\") \n",
    "#     ax.plot(percentages, iter_classifier_one, linewidth=2, linestyle='--', label = \"Iter. Classifier (ℓ=1)\") #Without Transfer\")    \n",
    "#     ax.plot(percentages, iter_classifier, linewidth=2, linestyle='--', marker='s', markersize=9, label = \"Iter. Classifier (ℓ=∞)\") #Without Transfer\")\n",
    "#     ax.plot(percentages, iter_classifier_two, linewidth=2, linestyle='--', marker='^', markersize=9, label = \"Iter. Classifier (ℓ=2)\") #Without Transfer\")\n",
    "# #     ax.plot(percentages, fp_classifier, linewidth=2, label = \"Classifier\") #Without Transfer\")\n",
    "#     ax.plot(classifier_rejectthres,fp_classifier,'rx',markersize=15,markeredgewidth=5, label = \"Full Classifier\") \n",
    "    \n",
    "# #     plot.xlabel('Rejection Threshold', fontsize=24)\n",
    "# #     plot.ylabel('False Reject Rates', fontsize=24)\n",
    "# #     plot.title(\"False Positive rates for \" + config['metadata']['name'])\n",
    "#     ax.tick_params(axis='both', which='major', labelsize=15)\n",
    "#     handles,labels = ax.get_legend_handles_labels()\n",
    "#     handles = [handles[0], handles[1], handles[2], handles[3], handles[4], handles[6], handles[5], handles[7]]\n",
    "#     labels = [labels[0], labels[1], labels[2], labels[3], labels[4], labels[6], labels[5], labels[7]]\n",
    "#     ax.legend(handles,labels,fontsize=18)\n",
    "# #     ax.legend(fontsize=18)\n",
    "#     if plt:\n",
    "#         plot.savefig(config['metadata']['uniqueID'] + '/' + config['metadata']['result'] + '_FPGraph')\n",
    "\n",
    "def calc_eval(fpr, tpr, agt_norm, agt_attk):\n",
    "    fpr = np.array(fpr[1:])\n",
    "    tpr = np.array(tpr)\n",
    "\n",
    "    Total = len(agt_norm)+len(agt_attk) #len(userScoreP)\n",
    "    TotalN = len(agt_norm)\n",
    "    TotalP = Total-TotalN\n",
    "    FP = fpr*TotalN\n",
    "    TN = TotalN - FP\n",
    "    TP = tpr*TotalP\n",
    "    FN = TotalP-TP\n",
    "    \n",
    "    Accr = (TP+TN) / (TP+TN+FP+FN)\n",
    "    FPR = FP / (FP + TN)\n",
    "    Prec = TP / (TP + FP)\n",
    "    Rec = TP / (TP + FN)\n",
    "    F1 = 2 * ((Prec*Rec) / (Prec+Rec))\n",
    "\n",
    "    return (Accr, FPR, Prec, Rec, F1)"
   ]
  },
  {
   "cell_type": "code",
   "execution_count": 29,
   "metadata": {},
   "outputs": [],
   "source": [
    "def plotAndSaveGraph(PQ, P, PQTil, classifier_rejectthres, fp_classifier, iter_classifier_one, iter_classifier, config, plt=False):\n",
    "    percentages = [0.0, 0.1, 0.2, 0.3, 0.4, 0.5, 0.6, 0.7, 0.8, 0.9, 1.0]\n",
    "\n",
    "    plot.rcParams['figure.figsize'] = [9, 9]\n",
    "    fig = plot.figure()\n",
    "    ax = plot.subplot(111)\n",
    "    # #ax.plot(percentages, old_graphScoreList, label = \"Old P Over Q Scores\")\n",
    "    # #ax.plot(percentages, old_graphPList, label = \"Old P Scores\")\n",
    "    ax.plot(percentages, percentages, linewidth=2, label = \"Randomized Rejection\")\n",
    "    ax.plot(percentages, P, linewidth=2, linestyle='--', marker='o', markersize=9, label = \"N Only\")\n",
    "    ax.plot(percentages, PQ, linewidth=2, linestyle=':', label = \"N/D (ℓ=1)\") #With Transfer\")\n",
    "    ax.plot(percentages, PQTil, linewidth=2, linestyle='-.', label = \"N/D (ℓ=∞)\") #Without Transfer\") \n",
    "#     ax.plot(percentages, Qonline, label = \"Online Q\")\n",
    "#     ax.plot(percentages, Qoffline, label = \"Offline Q\") \n",
    "    ax.plot(percentages, iter_classifier_one, linewidth=2, linestyle='--', label = \"Iter. Classifier (ℓ=1)\") #Without Transfer\")\n",
    "    ax.plot(percentages, iter_classifier, linewidth=2, linestyle='--', marker='s', markersize=9, label = \"Iter. Classifier (ℓ=∞)\") #Without Transfer\")\n",
    "#     ax.plot(percentages, fp_classifier, linewidth=2, label = \"Classifier\") #Without Transfer\")\n",
    "    ax.plot(classifier_rejectthres,fp_classifier,'rx',markersize=15,markeredgewidth=5, label = \"Full Classifier\") \n",
    "    \n",
    "#     plot.xlabel('Rejection Threshold', fontsize=24)\n",
    "#     plot.ylabel('False Reject Rates', fontsize=24)\n",
    "#     plot.title(\"False Positive rates for \" + config['metadata']['name'])\n",
    "    ax.tick_params(axis='both', which='major', labelsize=15)\n",
    "    ax.legend(fontsize=18)\n",
    "    if plt:\n",
    "        plot.savefig(config['metadata']['uniqueID'] + '/' + config['metadata']['result'] + '_FPGraph')"
   ]
  },
  {
   "cell_type": "code",
   "execution_count": null,
   "metadata": {},
   "outputs": [],
   "source": []
  },
  {
   "cell_type": "raw",
   "metadata": {},
   "source": [
    "PQ=graphPQ_online; P=graphP; PQTil=graphPQ_offline; classifier_rejectthres=classifier_rejectthres"
   ]
  },
  {
   "cell_type": "raw",
   "metadata": {},
   "source": [
    "handles,labels = ax.get_legend_handles_labels()\n",
    "labels"
   ]
  },
  {
   "cell_type": "raw",
   "metadata": {},
   "source": [
    "percentages = [0.0, 0.1, 0.2, 0.3, 0.4, 0.5, 0.6, 0.7, 0.8, 0.9, 1.0]\n",
    "\n",
    "plot.rcParams['figure.figsize'] = [9, 9]\n",
    "fig = plot.figure()\n",
    "ax = plot.subplot(111)\n",
    "# #ax.plot(percentages, old_graphScoreList, label = \"Old P Over Q Scores\")\n",
    "# #ax.plot(percentages, old_graphPList, label = \"Old P Scores\")\n",
    "ax.plot(percentages, percentages, linewidth=2, label = \"Randomized Rejection\")\n",
    "ax.plot(percentages, P, linewidth=2, linestyle='--', marker='o', markersize=9, label = \"N Only\")\n",
    "ax.plot(percentages, PQ, linewidth=2, linestyle=':', label = \"N/D (ℓ=1)\") #With Transfer\")\n",
    "ax.plot(percentages, PQTil, linewidth=2, linestyle='-.', label = \"N/D (ℓ=∞)\") #Without Transfer\") \n",
    "#     ax.plot(percentages, Qonline, label = \"Online Q\")\n",
    "#     ax.plot(percentages, Qoffline, label = \"Offline Q\") \n",
    "ax.plot(percentages, iter_classifier_one, linewidth=2, linestyle='--', label = \"Iter. Classifier (ℓ=1)\") #Without Transfer\")    \n",
    "ax.plot(percentages, iter_classifier, linewidth=2, linestyle='--', marker='s', markersize=9, label = \"Iter. Classifier (ℓ=∞)\") #Without Transfer\")\n",
    "ax.plot(percentages, iter_classifier_two, linewidth=2, linestyle='--', marker='^', markersize=9, label = \"Iter. Classifier (ℓ=2)\") #Without Transfer\")\n",
    "#     ax.plot(percentages, fp_classifier, linewidth=2, label = \"Classifier\") #Without Transfer\")\n",
    "ax.plot(classifier_rejectthres,fp_classifier,'rx',markersize=15,markeredgewidth=5, label = \"Full Classifier\") \n",
    "\n",
    "#     plot.xlabel('Rejection Threshold', fontsize=24)\n",
    "#     plot.ylabel('False Reject Rates', fontsize=24)\n",
    "#     plot.title(\"False Positive rates for \" + config['metadata']['name'])\n",
    "ax.tick_params(axis='both', which='major', labelsize=15)\n",
    "# ax.legend(fontsize=18)\n",
    "handles,labels = ax.get_legend_handles_labels()\n",
    "\n",
    "handles = [handles[0], handles[1], handles[2], handles[3], handles[4], handles[6], handles[5], handles[7]]\n",
    "labels = [labels[0], labels[1], labels[2], labels[3], labels[4], labels[6], labels[5], labels[7]]\n",
    "\n",
    "ax.legend(handles,labels,fontsize=18)"
   ]
  },
  {
   "cell_type": "markdown",
   "metadata": {},
   "source": [
    "### Test set"
   ]
  },
  {
   "cell_type": "code",
   "execution_count": 16,
   "metadata": {},
   "outputs": [
    {
     "name": "stdout",
     "output_type": "stream",
     "text": [
      "Length of userScoreP:  2447\n"
     ]
    }
   ],
   "source": [
    "# #Load User Scores\n",
    "userScoreP = pickle.load(open(config['metadata']['uniqueID'] + '/' + config['metadata']['artefact'] + '/' + 'PScore', 'rb'))\n",
    "userScoreP = userScoreP.sort_values(by = ['P'],ascending=True) # add\n",
    "\n",
    "userScorePQ_online = pickle.load(open(config['metadata']['uniqueID'] + '/' + config['metadata']['artefact'] + '/' + 'PoverQonline_score', 'rb'))\n",
    "userScorePQ_online = userScorePQ_online.sort_values(by = ['PoverQ_online'],ascending=True) # add \n",
    "\n",
    "userScorePQ_offline = pickle.load(open(config['metadata']['uniqueID'] + '/' + config['metadata']['artefact'] + '/' + 'PoverQoffline_score', 'rb'))\n",
    "userScorePQ_offline = userScorePQ_offline.sort_values(by = ['PoverQ_offline'],ascending=True) \n",
    "\n",
    "# userScoreQonline = pickle.load(open(config['metadata']['uniqueID'] + '/' + config['metadata']['artefact'] + '/' + 'onlineQ', 'rb'))\n",
    "# userScoreQonline = userScoreQonline.sort_values(by = ['QWithT'],ascending=True)\n",
    "\n",
    "# userScoreQoffline = pickle.load(open(config['metadata']['uniqueID'] + '/' + config['metadata']['artefact'] + '/' + 'offlineQ', 'rb'))\n",
    "# userScoreQoffline = userScoreQoffline.sort_values(by = ['QWithoutT'],ascending=True)\n",
    "\n",
    "print(\"Length of userScoreP: \", len(userScoreP))"
   ]
  },
  {
   "cell_type": "code",
   "execution_count": 5,
   "metadata": {},
   "outputs": [
    {
     "data": {
      "text/html": [
       "<div>\n",
       "<style scoped>\n",
       "    .dataframe tbody tr th:only-of-type {\n",
       "        vertical-align: middle;\n",
       "    }\n",
       "\n",
       "    .dataframe tbody tr th {\n",
       "        vertical-align: top;\n",
       "    }\n",
       "\n",
       "    .dataframe thead th {\n",
       "        text-align: right;\n",
       "    }\n",
       "</style>\n",
       "<table border=\"1\" class=\"dataframe\">\n",
       "  <thead>\n",
       "    <tr style=\"text-align: right;\">\n",
       "      <th></th>\n",
       "      <th>Source IP</th>\n",
       "      <th>Dest IP</th>\n",
       "      <th>P</th>\n",
       "    </tr>\n",
       "  </thead>\n",
       "  <tbody>\n",
       "    <tr>\n",
       "      <th>2383</th>\n",
       "      <td>192.168.10.15</td>\n",
       "      <td>172.217.3.98</td>\n",
       "      <td>-20.508982</td>\n",
       "    </tr>\n",
       "    <tr>\n",
       "      <th>636</th>\n",
       "      <td>104.16.26.216</td>\n",
       "      <td>192.168.10.5</td>\n",
       "      <td>-20.507700</td>\n",
       "    </tr>\n",
       "    <tr>\n",
       "      <th>2426</th>\n",
       "      <td>192.168.10.9</td>\n",
       "      <td>184.84.243.199</td>\n",
       "      <td>-20.506843</td>\n",
       "    </tr>\n",
       "    <tr>\n",
       "      <th>250</th>\n",
       "      <td>172.217.12.132</td>\n",
       "      <td>192.168.10.9</td>\n",
       "      <td>-20.506826</td>\n",
       "    </tr>\n",
       "    <tr>\n",
       "      <th>909</th>\n",
       "      <td>192.168.10.14</td>\n",
       "      <td>38.72.130.139</td>\n",
       "      <td>-20.506479</td>\n",
       "    </tr>\n",
       "    <tr>\n",
       "      <th>...</th>\n",
       "      <td>...</td>\n",
       "      <td>...</td>\n",
       "      <td>...</td>\n",
       "    </tr>\n",
       "    <tr>\n",
       "      <th>1456</th>\n",
       "      <td>192.168.10.12</td>\n",
       "      <td>192.168.10.3</td>\n",
       "      <td>101.568377</td>\n",
       "    </tr>\n",
       "    <tr>\n",
       "      <th>1455</th>\n",
       "      <td>192.168.10.12</td>\n",
       "      <td>192.168.10.3</td>\n",
       "      <td>108.876288</td>\n",
       "    </tr>\n",
       "    <tr>\n",
       "      <th>283</th>\n",
       "      <td>192.168.10.12</td>\n",
       "      <td>192.168.10.3</td>\n",
       "      <td>110.231835</td>\n",
       "    </tr>\n",
       "    <tr>\n",
       "      <th>282</th>\n",
       "      <td>192.168.10.12</td>\n",
       "      <td>192.168.10.3</td>\n",
       "      <td>113.235353</td>\n",
       "    </tr>\n",
       "    <tr>\n",
       "      <th>1454</th>\n",
       "      <td>192.168.10.12</td>\n",
       "      <td>192.168.10.3</td>\n",
       "      <td>113.235353</td>\n",
       "    </tr>\n",
       "  </tbody>\n",
       "</table>\n",
       "<p>2447 rows × 3 columns</p>\n",
       "</div>"
      ],
      "text/plain": [
       "           Source IP         Dest IP           P\n",
       "2383   192.168.10.15    172.217.3.98  -20.508982\n",
       "636    104.16.26.216    192.168.10.5  -20.507700\n",
       "2426    192.168.10.9  184.84.243.199  -20.506843\n",
       "250   172.217.12.132    192.168.10.9  -20.506826\n",
       "909    192.168.10.14   38.72.130.139  -20.506479\n",
       "...              ...             ...         ...\n",
       "1456   192.168.10.12    192.168.10.3  101.568377\n",
       "1455   192.168.10.12    192.168.10.3  108.876288\n",
       "283    192.168.10.12    192.168.10.3  110.231835\n",
       "282    192.168.10.12    192.168.10.3  113.235353\n",
       "1454   192.168.10.12    192.168.10.3  113.235353\n",
       "\n",
       "[2447 rows x 3 columns]"
      ]
     },
     "execution_count": 5,
     "metadata": {},
     "output_type": "execute_result"
    }
   ],
   "source": [
    "userScoreP"
   ]
  },
  {
   "cell_type": "code",
   "execution_count": 17,
   "metadata": {
    "scrolled": true
   },
   "outputs": [],
   "source": [
    "import matplotlib.pyplot as plt\n",
    "attacker='172.16.0.1'; victim='192.168.10.50'\n",
    "\n",
    "# def showscore(scoretype, scores):\n",
    "#     fig = plt.figure(figsize=(7,5))\n",
    "#     plt.hist(scoretype[scores].sort_values()[scoretype['Source IP'] == victim], bins=20, alpha=0.5, label='victim') \n",
    "#     plt.hist(scoretype[scores].sort_values()[scoretype['Source IP'] == attacker], bins=20, alpha=0.5, label='attcker')\n",
    "#     plt.legend(loc='upper right')\n",
    "#     plt.show()\n",
    "def showscore(scoretype, scores):\n",
    "    fig = plt.figure(figsize=(7,5))\n",
    "    plt.hist(scoretype[scores][scoretype['Source IP'] != attacker], bins=10, alpha=0.5, label='victim') \n",
    "    plt.hist(scoretype[scores][scoretype['Source IP'] == attacker], bins=10, alpha=0.5, label='attcker')\n",
    "    plt.legend(loc='upper right')\n",
    "    plt.show()\n",
    "    return fig"
   ]
  },
  {
   "cell_type": "code",
   "execution_count": 7,
   "metadata": {},
   "outputs": [
    {
     "data": {
      "image/png": "[encoded data removed]",
      "text/plain": [
       "<Figure size 504x360 with 1 Axes>"
      ]
     },
     "metadata": {
      "needs_background": "light"
     },
     "output_type": "display_data"
    }
   ],
   "source": [
    "# add standardization\n",
    "std_userScoreP = userScoreP\n",
    "std_userScoreP['P'] = (std_userScoreP['P'] - std_userScoreP['P'].min(axis=0)) / (std_userScoreP['P'].max(axis=0) - std_userScoreP['P'].min(axis=0))\n",
    "\n",
    "fig = showscore(userScoreP, 'P') # P scores\n",
    "\n",
    "# fig.savefig('./' + config['metadata']['uniqueID'] + '/' + config['metadata']['result'] + '_P_distr' + '.png')"
   ]
  },
  {
   "cell_type": "code",
   "execution_count": 8,
   "metadata": {},
   "outputs": [
    {
     "data": {
      "image/png": "[encoded data removed]",
      "text/plain": [
       "<Figure size 504x360 with 1 Axes>"
      ]
     },
     "metadata": {
      "needs_background": "light"
     },
     "output_type": "display_data"
    }
   ],
   "source": [
    "# add standardization\n",
    "std_userScorePQ_online = userScorePQ_online\n",
    "std_userScorePQ_online['PoverQ_online'] = (std_userScorePQ_online['PoverQ_online'] - std_userScorePQ_online['PoverQ_online'].min(axis=0)) / (std_userScorePQ_online['PoverQ_online'].max(axis=0) - std_userScorePQ_online['PoverQ_online'].min(axis=0))\n",
    "\n",
    "fig = showscore(std_userScorePQ_online, 'PoverQ_online') # online Q\n",
    "\n",
    "# fig.savefig('./' + config['metadata']['uniqueID'] + '/' + config['metadata']['result'] + '_PQonline_distr' + '.png')"
   ]
  },
  {
   "cell_type": "code",
   "execution_count": 9,
   "metadata": {},
   "outputs": [
    {
     "data": {
      "image/png": "[encoded data removed]",
      "text/plain": [
       "<Figure size 504x360 with 1 Axes>"
      ]
     },
     "metadata": {
      "needs_background": "light"
     },
     "output_type": "display_data"
    }
   ],
   "source": [
    "# add standardization\n",
    "std_userScorePQ_offline = userScorePQ_offline\n",
    "std_userScorePQ_offline['PoverQ_offline'] = (std_userScorePQ_offline['PoverQ_offline'] - std_userScorePQ_offline['PoverQ_offline'].min(axis=0)) / (std_userScorePQ_offline['PoverQ_offline'].max(axis=0) - std_userScorePQ_offline['PoverQ_offline'].min(axis=0))\n",
    "\n",
    "fig = showscore(std_userScorePQ_offline, 'PoverQ_offline') # offline Q\n",
    "\n",
    "# fig.savefig('./' + config['metadata']['uniqueID'] + '/' + config['metadata']['result'] + '_PQoffline_distr' + '.png')"
   ]
  },
  {
   "cell_type": "raw",
   "metadata": {},
   "source": [
    "showscore(userScoreQonline, 'QWithT')"
   ]
  },
  {
   "cell_type": "raw",
   "metadata": {},
   "source": [
    "showscore(userScorePQ_offline, 'PoverQ_offline')"
   ]
  },
  {
   "cell_type": "raw",
   "metadata": {
    "scrolled": true
   },
   "source": [
    "userScoreP\n",
    "# userScorePQ\n",
    "# userScorePQTil\n",
    "# userScoreQonline\n",
    "# userScoreQoffline"
   ]
  },
  {
   "cell_type": "markdown",
   "metadata": {},
   "source": [
    "### Predicted P-only user scores"
   ]
  },
  {
   "cell_type": "code",
   "execution_count": 10,
   "metadata": {
    "scrolled": true
   },
   "outputs": [
    {
     "name": "stdout",
     "output_type": "stream",
     "text": [
      "Length of userScoreP:  2447\n"
     ]
    }
   ],
   "source": [
    "print(\"Length of userScoreP: \", len(userScoreP))"
   ]
  },
  {
   "cell_type": "code",
   "execution_count": 18,
   "metadata": {
    "scrolled": true
   },
   "outputs": [
    {
     "name": "stdout",
     "output_type": "stream",
     "text": [
      "Length of userScoreP:  2447\n",
      "Length of Normal traffic:  1069\n",
      "Length of true attacks:  1378\n",
      "Percent:  0.43686146301593787\n"
     ]
    }
   ],
   "source": [
    "agt_normals = []\n",
    "agt_attacks = []\n",
    "attacker='172.16.0.1'; victim='192.168.10.50'\n",
    "print(\"Length of userScoreP: \", len(userScoreP))\n",
    "\n",
    "for (IP, IPD, score) in list(userScoreP.itertuples(index=False, name=None)):\n",
    "#     if (IP != '172.16.0.1' and  IPD=='192.168.10.50') or IP == '192.168.10.50': \n",
    "#     if (IP != attacker and  IPD==victim) or IP == victim: \n",
    "    if IP == attacker or IP == victim:\n",
    "        agt_attacks.append(IP+IPD)\n",
    "    else:\n",
    "        agt_normals.append(IP + IPD)\n",
    "        \n",
    "\n",
    "print(\"Length of Normal traffic: \", len(agt_normals))\n",
    "print(\"Length of true attacks: \", len(agt_attacks))\n",
    "\n",
    "#Plot some graphs\n",
    "percentages = [0.1, 0.2, 0.3, 0.4, 0.5, 0.6, 0.7, 0.8, 0.9, 1.0]\n",
    "\n",
    "num = len(agt_normals)\n",
    "print(\"Percent: \", num/len(userScoreP))"
   ]
  },
  {
   "cell_type": "code",
   "execution_count": 19,
   "metadata": {},
   "outputs": [
    {
     "data": {
      "text/plain": [
       "0.0037418147801683817"
      ]
     },
     "execution_count": 19,
     "metadata": {},
     "output_type": "execute_result"
    }
   ],
   "source": [
    "classifier_rejectthres = 0.6 #0.5149\n",
    "fp_classifier = 0.0037418147801683817\n",
    "\n",
    "fp_classifier"
   ]
  },
  {
   "cell_type": "code",
   "execution_count": 20,
   "metadata": {},
   "outputs": [],
   "source": [
    "# LOIC\n",
    "# Length of test data:  2447\n",
    "# Number of normal traffic:  1069\n",
    "# Number of true attacks:  1378\n",
    "# Percent attacks:  0.5631385369840621\n",
    "\n",
    "# (ℓ = ∞)\n",
    "iter_classifier = [0,\n",
    " 0.005612722170252572,\n",
    " 0.006548175865294668,\n",
    " 0.006548175865294668,\n",
    " 0.006548175865294668,\n",
    " 0.006548175865294668,\n",
    " 0.006548175865294668,\n",
    " 0.006548175865294668,\n",
    " 0.006548175865294668,\n",
    " 0.006548175865294668,\n",
    " 1.0]"
   ]
  },
  {
   "cell_type": "code",
   "execution_count": 21,
   "metadata": {},
   "outputs": [],
   "source": [
    "# (ℓ = 1)\n",
    "iter_classifier_one = [0,\n",
    " 0.012930177043962602,\n",
    " 0.019892580067634773,\n",
    " 0.024666799283867117,\n",
    " 0.02834692659637955,\n",
    " 0.03242490551024468,\n",
    " 0.039188382733240504,\n",
    " 0.048836284066043366,\n",
    " 0.05967774020290432,\n",
    " 0.07817783966580466,\n",
    " 1.0]\n",
    "\n",
    "\n",
    "# iter_classifier_one =  [0,\n",
    "#  0.13479923518164436,\n",
    "#  0.3365200764818356,\n",
    "#  0.33747609942638623,\n",
    "#  0.35181644359464626,\n",
    "#  0.361376673040153,\n",
    "#  0.40296367112810705,\n",
    "#  0.4392925430210325,\n",
    "#  0.4679732313575526,\n",
    "#  0.6261950286806883,\n",
    "#  1.0]"
   ]
  },
  {
   "cell_type": "code",
   "execution_count": 22,
   "metadata": {},
   "outputs": [],
   "source": [
    "iter_classifier_two = [0,\n",
    " 0.01028999064546305,\n",
    " 0.01216089803554724,\n",
    " 0.0608044901777362,\n",
    " 0.10944808231992516,\n",
    " 0.18054256314312442,\n",
    " 0.27128157156220767,\n",
    " 0.3906641721234799,\n",
    " 0.4333021515434986,\n",
    " 0.5794200187090739,\n",
    " 1.0]\n",
    "\n",
    "# [0,\n",
    "#  0.004780114722753346,\n",
    "#  0.004780114722753346,\n",
    "#  0.004780114722753346,\n",
    "#  0.004780114722753346,\n",
    "#  0.004780114722753346,\n",
    "#  0.004780114722753346,\n",
    "#  0.004780114722753346,\n",
    "#  0.004780114722753346,\n",
    "#  0.004780114722753346,\n",
    "#  1.0]"
   ]
  },
  {
   "cell_type": "code",
   "execution_count": 23,
   "metadata": {},
   "outputs": [],
   "source": [
    "graphP, P_tpr = calculateFalsePositives(agt_normals, agt_attacks, userScoreP, percentages, num)\n",
    "graphPQ_online, onlinePQ_tpr = calculateFalsePositives(agt_normals, agt_attacks, userScorePQ_online, percentages, num)\n",
    "graphPQ_offline, offlinePQ_tpr  = calculateFalsePositives(agt_normals, agt_attacks, userScorePQ_offline, percentages, num)\n",
    "# graphQonline, _ = calculateFalsePositives(agt_normals, agt_attacks, userScoreQonline, percentages, num)\n",
    "# graphQoffline, _ = calculateFalsePositives(agt_normals, agt_attacks, userScoreQoffline, percentages, num)   \n",
    "\n",
    "graphP.insert(0, 0)\n",
    "graphPQ_online.insert(0, 0)\n",
    "graphPQ_offline.insert(0, 0)\n",
    "# graphQonline.insert(0, 0)\n",
    "# graphQoffline.insert(0, 0)"
   ]
  },
  {
   "cell_type": "raw",
   "metadata": {},
   "source": [
    "# including iter_classifier_two\n",
    "plotAndSaveGraph(graphPQ_online, graphP, graphPQ_offline, \n",
    "                 classifier_rejectthres, fp_classifier, iter_classifier_one, iter_classifier_two, iter_classifier, config) #, plt=True)"
   ]
  },
  {
   "cell_type": "code",
   "execution_count": 33,
   "metadata": {},
   "outputs": [
    {
     "data": {
      "image/png": "[encoded data removed]",
      "text/plain": [
       "<Figure size 648x648 with 1 Axes>"
      ]
     },
     "metadata": {
      "needs_background": "light"
     },
     "output_type": "display_data"
    }
   ],
   "source": [
    "# not including iter_classifier_two\n",
    "plotAndSaveGraph(graphPQ_online, graphP, graphPQ_offline, \n",
    "                 classifier_rejectthres, fp_classifier, iter_classifier_one, iter_classifier, config) #, plt=True)"
   ]
  },
  {
   "cell_type": "markdown",
   "metadata": {},
   "source": [
    "### Calculate evaluation metrics "
   ]
  },
  {
   "cell_type": "code",
   "execution_count": 25,
   "metadata": {},
   "outputs": [
    {
     "name": "stderr",
     "output_type": "stream",
     "text": [
      "/home/wesleyjtann/miniconda3/envs/ddos/lib/python3.7/site-packages/ipykernel_launcher.py:73: RuntimeWarning: invalid value encountered in true_divide\n"
     ]
    }
   ],
   "source": [
    "P_metrics = np.array(np.transpose(calc_eval(graphP, P_tpr, agt_normals, agt_attacks)))\n",
    "onlinePQ_metrics = np.array(np.transpose(calc_eval(graphPQ_online, onlinePQ_tpr, agt_normals, agt_attacks)))\n",
    "offlinePQ_metrics = np.array(np.transpose(calc_eval(graphPQ_offline, offlinePQ_tpr, agt_normals, agt_attacks)))\n",
    "\n",
    "P_metrics = pd.DataFrame(P_metrics, columns=['Accr_P', 'FPR_P', 'Prec_P', 'Rec_P', 'F1_P'])\n",
    "onlinePQ_metrics = pd.DataFrame(onlinePQ_metrics, columns=['Accr_onPQ', 'FPR_onPQ', \n",
    "                                                           'Prec_onPQ', 'Rec_onPQ', 'F1_onPQ'])\n",
    "offlinePQ_metrics = pd.DataFrame(offlinePQ_metrics, columns=['Accr_offPQ', 'FPR_offPQ', \n",
    "                                                             'Prec_offPQ', 'Rec_offPQ', 'F1_offPQ'])\n",
    "df_FPresults = pd.concat([P_metrics,onlinePQ_metrics,offlinePQ_metrics],axis=1)\n",
    "\n",
    "# df_FPresults.to_csv(config['metadata']['uniqueID'] + '/' + config['metadata']['result'] + \n",
    "#                     \"_evalresults.csv\", index=False)"
   ]
  },
  {
   "cell_type": "code",
   "execution_count": 16,
   "metadata": {},
   "outputs": [
    {
     "data": {
      "text/html": [
       "<div>\n",
       "<style scoped>\n",
       "    .dataframe tbody tr th:only-of-type {\n",
       "        vertical-align: middle;\n",
       "    }\n",
       "\n",
       "    .dataframe tbody tr th {\n",
       "        vertical-align: top;\n",
       "    }\n",
       "\n",
       "    .dataframe thead th {\n",
       "        text-align: right;\n",
       "    }\n",
       "</style>\n",
       "<table border=\"1\" class=\"dataframe\">\n",
       "  <thead>\n",
       "    <tr style=\"text-align: right;\">\n",
       "      <th></th>\n",
       "      <th>Accr_P</th>\n",
       "      <th>FPR_P</th>\n",
       "      <th>Prec_P</th>\n",
       "      <th>Rec_P</th>\n",
       "      <th>F1_P</th>\n",
       "      <th>Accr_onPQ</th>\n",
       "      <th>FPR_onPQ</th>\n",
       "      <th>Prec_onPQ</th>\n",
       "      <th>Rec_onPQ</th>\n",
       "      <th>F1_onPQ</th>\n",
       "      <th>Accr_offPQ</th>\n",
       "      <th>FPR_offPQ</th>\n",
       "      <th>Prec_offPQ</th>\n",
       "      <th>Rec_offPQ</th>\n",
       "      <th>F1_offPQ</th>\n",
       "    </tr>\n",
       "  </thead>\n",
       "  <tbody>\n",
       "    <tr>\n",
       "      <th>0</th>\n",
       "      <td>0.336739</td>\n",
       "      <td>0.229186</td>\n",
       "      <td>0.000000</td>\n",
       "      <td>0.000000</td>\n",
       "      <td>NaN</td>\n",
       "      <td>0.536984</td>\n",
       "      <td>0.000000</td>\n",
       "      <td>1.000000</td>\n",
       "      <td>0.177794</td>\n",
       "      <td>0.301910</td>\n",
       "      <td>0.536984</td>\n",
       "      <td>0.000000</td>\n",
       "      <td>1.000000</td>\n",
       "      <td>0.177794</td>\n",
       "      <td>0.301910</td>\n",
       "    </tr>\n",
       "    <tr>\n",
       "      <th>1</th>\n",
       "      <td>0.239886</td>\n",
       "      <td>0.454630</td>\n",
       "      <td>0.008163</td>\n",
       "      <td>0.002903</td>\n",
       "      <td>0.004283</td>\n",
       "      <td>0.637107</td>\n",
       "      <td>0.000000</td>\n",
       "      <td>1.000000</td>\n",
       "      <td>0.355588</td>\n",
       "      <td>0.524625</td>\n",
       "      <td>0.637107</td>\n",
       "      <td>0.000000</td>\n",
       "      <td>1.000000</td>\n",
       "      <td>0.355588</td>\n",
       "      <td>0.524625</td>\n",
       "    </tr>\n",
       "    <tr>\n",
       "      <th>2</th>\n",
       "      <td>0.165100</td>\n",
       "      <td>0.654818</td>\n",
       "      <td>0.047619</td>\n",
       "      <td>0.025399</td>\n",
       "      <td>0.033128</td>\n",
       "      <td>0.735595</td>\n",
       "      <td>0.001871</td>\n",
       "      <td>0.997279</td>\n",
       "      <td>0.531930</td>\n",
       "      <td>0.693800</td>\n",
       "      <td>0.737229</td>\n",
       "      <td>0.000000</td>\n",
       "      <td>1.000000</td>\n",
       "      <td>0.533382</td>\n",
       "      <td>0.695693</td>\n",
       "    </tr>\n",
       "    <tr>\n",
       "      <th>3</th>\n",
       "      <td>0.242746</td>\n",
       "      <td>0.680075</td>\n",
       "      <td>0.257406</td>\n",
       "      <td>0.182874</td>\n",
       "      <td>0.213831</td>\n",
       "      <td>0.834491</td>\n",
       "      <td>0.002806</td>\n",
       "      <td>0.996936</td>\n",
       "      <td>0.708273</td>\n",
       "      <td>0.828171</td>\n",
       "      <td>0.836943</td>\n",
       "      <td>0.000000</td>\n",
       "      <td>1.000000</td>\n",
       "      <td>0.710450</td>\n",
       "      <td>0.830717</td>\n",
       "    </tr>\n",
       "    <tr>\n",
       "      <th>4</th>\n",
       "      <td>0.325705</td>\n",
       "      <td>0.699719</td>\n",
       "      <td>0.388889</td>\n",
       "      <td>0.345428</td>\n",
       "      <td>0.365872</td>\n",
       "      <td>0.932979</td>\n",
       "      <td>0.004677</td>\n",
       "      <td>0.995915</td>\n",
       "      <td>0.884615</td>\n",
       "      <td>0.936972</td>\n",
       "      <td>0.932979</td>\n",
       "      <td>0.004677</td>\n",
       "      <td>0.995915</td>\n",
       "      <td>0.884615</td>\n",
       "      <td>0.936972</td>\n",
       "    </tr>\n",
       "    <tr>\n",
       "      <th>5</th>\n",
       "      <td>0.308950</td>\n",
       "      <td>0.833489</td>\n",
       "      <td>0.393465</td>\n",
       "      <td>0.419448</td>\n",
       "      <td>0.406041</td>\n",
       "      <td>0.940744</td>\n",
       "      <td>0.110384</td>\n",
       "      <td>0.919673</td>\n",
       "      <td>0.980406</td>\n",
       "      <td>0.949069</td>\n",
       "      <td>0.951369</td>\n",
       "      <td>0.098223</td>\n",
       "      <td>0.928523</td>\n",
       "      <td>0.989840</td>\n",
       "      <td>0.958202</td>\n",
       "    </tr>\n",
       "    <tr>\n",
       "      <th>6</th>\n",
       "      <td>0.307315</td>\n",
       "      <td>0.949486</td>\n",
       "      <td>0.407472</td>\n",
       "      <td>0.506531</td>\n",
       "      <td>0.451634</td>\n",
       "      <td>0.848386</td>\n",
       "      <td>0.330215</td>\n",
       "      <td>0.793929</td>\n",
       "      <td>0.986938</td>\n",
       "      <td>0.879974</td>\n",
       "      <td>0.854924</td>\n",
       "      <td>0.322732</td>\n",
       "      <td>0.798599</td>\n",
       "      <td>0.992743</td>\n",
       "      <td>0.885150</td>\n",
       "    </tr>\n",
       "    <tr>\n",
       "      <th>7</th>\n",
       "      <td>0.400082</td>\n",
       "      <td>0.957905</td>\n",
       "      <td>0.477017</td>\n",
       "      <td>0.677794</td>\n",
       "      <td>0.559952</td>\n",
       "      <td>0.749081</td>\n",
       "      <td>0.558466</td>\n",
       "      <td>0.695097</td>\n",
       "      <td>0.987663</td>\n",
       "      <td>0.815947</td>\n",
       "      <td>0.756436</td>\n",
       "      <td>0.550047</td>\n",
       "      <td>0.699694</td>\n",
       "      <td>0.994194</td>\n",
       "      <td>0.821343</td>\n",
       "    </tr>\n",
       "    <tr>\n",
       "      <th>8</th>\n",
       "      <td>0.493666</td>\n",
       "      <td>0.965388</td>\n",
       "      <td>0.531548</td>\n",
       "      <td>0.849782</td>\n",
       "      <td>0.654007</td>\n",
       "      <td>0.651410</td>\n",
       "      <td>0.784846</td>\n",
       "      <td>0.619156</td>\n",
       "      <td>0.989840</td>\n",
       "      <td>0.761798</td>\n",
       "      <td>0.657131</td>\n",
       "      <td>0.778297</td>\n",
       "      <td>0.622333</td>\n",
       "      <td>0.994920</td>\n",
       "      <td>0.765708</td>\n",
       "    </tr>\n",
       "    <tr>\n",
       "      <th>9</th>\n",
       "      <td>0.563139</td>\n",
       "      <td>1.000000</td>\n",
       "      <td>0.563139</td>\n",
       "      <td>1.000000</td>\n",
       "      <td>0.720523</td>\n",
       "      <td>0.563139</td>\n",
       "      <td>1.000000</td>\n",
       "      <td>0.563139</td>\n",
       "      <td>1.000000</td>\n",
       "      <td>0.720523</td>\n",
       "      <td>0.563139</td>\n",
       "      <td>1.000000</td>\n",
       "      <td>0.563139</td>\n",
       "      <td>1.000000</td>\n",
       "      <td>0.720523</td>\n",
       "    </tr>\n",
       "  </tbody>\n",
       "</table>\n",
       "</div>"
      ],
      "text/plain": [
       "     Accr_P     FPR_P    Prec_P     Rec_P      F1_P  Accr_onPQ  FPR_onPQ  \\\n",
       "0  0.336739  0.229186  0.000000  0.000000       NaN   0.536984  0.000000   \n",
       "1  0.239886  0.454630  0.008163  0.002903  0.004283   0.637107  0.000000   \n",
       "2  0.165100  0.654818  0.047619  0.025399  0.033128   0.735595  0.001871   \n",
       "3  0.242746  0.680075  0.257406  0.182874  0.213831   0.834491  0.002806   \n",
       "4  0.325705  0.699719  0.388889  0.345428  0.365872   0.932979  0.004677   \n",
       "5  0.308950  0.833489  0.393465  0.419448  0.406041   0.940744  0.110384   \n",
       "6  0.307315  0.949486  0.407472  0.506531  0.451634   0.848386  0.330215   \n",
       "7  0.400082  0.957905  0.477017  0.677794  0.559952   0.749081  0.558466   \n",
       "8  0.493666  0.965388  0.531548  0.849782  0.654007   0.651410  0.784846   \n",
       "9  0.563139  1.000000  0.563139  1.000000  0.720523   0.563139  1.000000   \n",
       "\n",
       "   Prec_onPQ  Rec_onPQ   F1_onPQ  Accr_offPQ  FPR_offPQ  Prec_offPQ  \\\n",
       "0   1.000000  0.177794  0.301910    0.536984   0.000000    1.000000   \n",
       "1   1.000000  0.355588  0.524625    0.637107   0.000000    1.000000   \n",
       "2   0.997279  0.531930  0.693800    0.737229   0.000000    1.000000   \n",
       "3   0.996936  0.708273  0.828171    0.836943   0.000000    1.000000   \n",
       "4   0.995915  0.884615  0.936972    0.932979   0.004677    0.995915   \n",
       "5   0.919673  0.980406  0.949069    0.951369   0.098223    0.928523   \n",
       "6   0.793929  0.986938  0.879974    0.854924   0.322732    0.798599   \n",
       "7   0.695097  0.987663  0.815947    0.756436   0.550047    0.699694   \n",
       "8   0.619156  0.989840  0.761798    0.657131   0.778297    0.622333   \n",
       "9   0.563139  1.000000  0.720523    0.563139   1.000000    0.563139   \n",
       "\n",
       "   Rec_offPQ  F1_offPQ  \n",
       "0   0.177794  0.301910  \n",
       "1   0.355588  0.524625  \n",
       "2   0.533382  0.695693  \n",
       "3   0.710450  0.830717  \n",
       "4   0.884615  0.936972  \n",
       "5   0.989840  0.958202  \n",
       "6   0.992743  0.885150  \n",
       "7   0.994194  0.821343  \n",
       "8   0.994920  0.765708  \n",
       "9   1.000000  0.720523  "
      ]
     },
     "execution_count": 16,
     "metadata": {},
     "output_type": "execute_result"
    }
   ],
   "source": [
    "# Rows 3=0.4, 4=0.5, 5=0.6\n",
    "df_FPresults#.iloc[4]"
   ]
  },
  {
   "cell_type": "code",
   "execution_count": 17,
   "metadata": {},
   "outputs": [
    {
     "data": {
      "text/plain": [
       "Accr_P        0.325705\n",
       "FPR_P         0.699719\n",
       "Prec_P        0.388889\n",
       "Rec_P         0.345428\n",
       "F1_P          0.365872\n",
       "Accr_onPQ     0.932979\n",
       "FPR_onPQ      0.004677\n",
       "Prec_onPQ     0.995915\n",
       "Rec_onPQ      0.884615\n",
       "F1_onPQ       0.936972\n",
       "Accr_offPQ    0.932979\n",
       "FPR_offPQ     0.004677\n",
       "Prec_offPQ    0.995915\n",
       "Rec_offPQ     0.884615\n",
       "F1_offPQ      0.936972\n",
       "Name: 4, dtype: float64"
      ]
     },
     "execution_count": 17,
     "metadata": {},
     "output_type": "execute_result"
    }
   ],
   "source": [
    "# reject 50%\n",
    "df_FPresults.iloc[4]"
   ]
  },
  {
   "cell_type": "code",
   "execution_count": null,
   "metadata": {},
   "outputs": [],
   "source": []
  },
  {
   "cell_type": "code",
   "execution_count": null,
   "metadata": {},
   "outputs": [],
   "source": []
  },
  {
   "cell_type": "code",
   "execution_count": null,
   "metadata": {},
   "outputs": [],
   "source": []
  },
  {
   "cell_type": "code",
   "execution_count": null,
   "metadata": {},
   "outputs": [],
   "source": []
  },
  {
   "cell_type": "markdown",
   "metadata": {},
   "source": [
    "### Calculate evaluation metrics "
   ]
  },
  {
   "cell_type": "code",
   "execution_count": 18,
   "metadata": {},
   "outputs": [],
   "source": [
    "fpr=graphP; tpr=P_tpr\n",
    "# fpr=graphPQ_online; tpr=onlinePQ_tpr\n",
    "# fpr=graphPQ_offline; tpr=offlinePQ_tpr"
   ]
  },
  {
   "cell_type": "code",
   "execution_count": 19,
   "metadata": {},
   "outputs": [
    {
     "name": "stdout",
     "output_type": "stream",
     "text": [
      "2447 1069 1378 891.0 178.0 578.0 800.0\n"
     ]
    }
   ],
   "source": [
    "tau = 5 #3=0.4, 4=0.5, 5=0.6\n",
    "fpr = np.array(fpr[1:])\n",
    "tpr = np.array(tpr)\n",
    "\n",
    "Total = len(agt_normals)+len(agt_attacks) #len(userScoreP)\n",
    "TotalN = len(agt_normals)\n",
    "TotalP = Total-TotalN\n",
    "FP = fpr*TotalN\n",
    "TN = TotalN - FP\n",
    "TP = tpr*TotalP\n",
    "FN = TotalP-TP\n",
    "\n",
    "print(Total, TotalN, TotalP, FP[tau], TN[tau], TP[tau], FN[tau])"
   ]
  },
  {
   "cell_type": "code",
   "execution_count": 20,
   "metadata": {},
   "outputs": [
    {
     "name": "stdout",
     "output_type": "stream",
     "text": [
      "0.3089497343686146 0.833489242282507 0.3934649421375085 0.41944847605224966 0.40604144713733753\n"
     ]
    },
    {
     "name": "stderr",
     "output_type": "stream",
     "text": [
      "/home/wesleyjtann/miniconda3/envs/ddos/lib/python3.7/site-packages/ipykernel_launcher.py:5: RuntimeWarning: invalid value encountered in true_divide\n",
      "  \"\"\"\n"
     ]
    }
   ],
   "source": [
    "Accr = (TP+TN) / (TP+TN+FP+FN)\n",
    "FPR = FP / (FP + TN)\n",
    "Prec = TP / (TP + FP)\n",
    "Rec = TP / (TP + FN)\n",
    "F1 = 2 * ((Prec*Rec) / (Prec+Rec))\n",
    "\n",
    "print(Accr[tau], FPR[tau], Prec[tau], Rec[tau], F1[tau])"
   ]
  },
  {
   "cell_type": "code",
   "execution_count": 21,
   "metadata": {},
   "outputs": [],
   "source": [
    "graphP = np.array(graphP)\n",
    "graphPQ= np.array(graphPQ_online)\n",
    "graphPQTil= np.array(graphPQ_offline)\n",
    "\n",
    "df_FPresults = pd.DataFrame({\"P_FP\":graphP[1:], \"OnlineQ_FP\":graphPQ[1:], \"OfflineQ_FP\":graphPQTil[1:], \n",
    "                             \"Accr\":Accr, \"FPR\":FPR, \"Precision\":Prec, \n",
    "                             \"Recall\":Rec, \"F1_score\":F1})\n",
    "\n",
    "# df_FPresults.to_csv(config['metadata']['uniqueID'] + '/' + config['metadata']['result'] + \n",
    "#                     \"_FP_finalresults.csv\", index=False)"
   ]
  },
  {
   "cell_type": "code",
   "execution_count": 22,
   "metadata": {
    "scrolled": true
   },
   "outputs": [
    {
     "data": {
      "text/html": [
       "<div>\n",
       "<style scoped>\n",
       "    .dataframe tbody tr th:only-of-type {\n",
       "        vertical-align: middle;\n",
       "    }\n",
       "\n",
       "    .dataframe tbody tr th {\n",
       "        vertical-align: top;\n",
       "    }\n",
       "\n",
       "    .dataframe thead th {\n",
       "        text-align: right;\n",
       "    }\n",
       "</style>\n",
       "<table border=\"1\" class=\"dataframe\">\n",
       "  <thead>\n",
       "    <tr style=\"text-align: right;\">\n",
       "      <th></th>\n",
       "      <th>P_FP</th>\n",
       "      <th>OnlineQ_FP</th>\n",
       "      <th>OfflineQ_FP</th>\n",
       "      <th>Accr</th>\n",
       "      <th>FPR</th>\n",
       "      <th>Precision</th>\n",
       "      <th>Recall</th>\n",
       "      <th>F1_score</th>\n",
       "    </tr>\n",
       "  </thead>\n",
       "  <tbody>\n",
       "    <tr>\n",
       "      <th>0</th>\n",
       "      <td>0.229186</td>\n",
       "      <td>0.000000</td>\n",
       "      <td>0.000000</td>\n",
       "      <td>0.336739</td>\n",
       "      <td>0.229186</td>\n",
       "      <td>0.000000</td>\n",
       "      <td>0.000000</td>\n",
       "      <td>NaN</td>\n",
       "    </tr>\n",
       "    <tr>\n",
       "      <th>1</th>\n",
       "      <td>0.454630</td>\n",
       "      <td>0.000000</td>\n",
       "      <td>0.000000</td>\n",
       "      <td>0.239886</td>\n",
       "      <td>0.454630</td>\n",
       "      <td>0.008163</td>\n",
       "      <td>0.002903</td>\n",
       "      <td>0.004283</td>\n",
       "    </tr>\n",
       "    <tr>\n",
       "      <th>2</th>\n",
       "      <td>0.654818</td>\n",
       "      <td>0.001871</td>\n",
       "      <td>0.000000</td>\n",
       "      <td>0.165100</td>\n",
       "      <td>0.654818</td>\n",
       "      <td>0.047619</td>\n",
       "      <td>0.025399</td>\n",
       "      <td>0.033128</td>\n",
       "    </tr>\n",
       "    <tr>\n",
       "      <th>3</th>\n",
       "      <td>0.680075</td>\n",
       "      <td>0.002806</td>\n",
       "      <td>0.000000</td>\n",
       "      <td>0.242746</td>\n",
       "      <td>0.680075</td>\n",
       "      <td>0.257406</td>\n",
       "      <td>0.182874</td>\n",
       "      <td>0.213831</td>\n",
       "    </tr>\n",
       "    <tr>\n",
       "      <th>4</th>\n",
       "      <td>0.699719</td>\n",
       "      <td>0.004677</td>\n",
       "      <td>0.004677</td>\n",
       "      <td>0.325705</td>\n",
       "      <td>0.699719</td>\n",
       "      <td>0.388889</td>\n",
       "      <td>0.345428</td>\n",
       "      <td>0.365872</td>\n",
       "    </tr>\n",
       "    <tr>\n",
       "      <th>5</th>\n",
       "      <td>0.833489</td>\n",
       "      <td>0.110384</td>\n",
       "      <td>0.098223</td>\n",
       "      <td>0.308950</td>\n",
       "      <td>0.833489</td>\n",
       "      <td>0.393465</td>\n",
       "      <td>0.419448</td>\n",
       "      <td>0.406041</td>\n",
       "    </tr>\n",
       "    <tr>\n",
       "      <th>6</th>\n",
       "      <td>0.949486</td>\n",
       "      <td>0.330215</td>\n",
       "      <td>0.322732</td>\n",
       "      <td>0.307315</td>\n",
       "      <td>0.949486</td>\n",
       "      <td>0.407472</td>\n",
       "      <td>0.506531</td>\n",
       "      <td>0.451634</td>\n",
       "    </tr>\n",
       "    <tr>\n",
       "      <th>7</th>\n",
       "      <td>0.957905</td>\n",
       "      <td>0.558466</td>\n",
       "      <td>0.550047</td>\n",
       "      <td>0.400082</td>\n",
       "      <td>0.957905</td>\n",
       "      <td>0.477017</td>\n",
       "      <td>0.677794</td>\n",
       "      <td>0.559952</td>\n",
       "    </tr>\n",
       "    <tr>\n",
       "      <th>8</th>\n",
       "      <td>0.965388</td>\n",
       "      <td>0.784846</td>\n",
       "      <td>0.778297</td>\n",
       "      <td>0.493666</td>\n",
       "      <td>0.965388</td>\n",
       "      <td>0.531548</td>\n",
       "      <td>0.849782</td>\n",
       "      <td>0.654007</td>\n",
       "    </tr>\n",
       "    <tr>\n",
       "      <th>9</th>\n",
       "      <td>1.000000</td>\n",
       "      <td>1.000000</td>\n",
       "      <td>1.000000</td>\n",
       "      <td>0.563139</td>\n",
       "      <td>1.000000</td>\n",
       "      <td>0.563139</td>\n",
       "      <td>1.000000</td>\n",
       "      <td>0.720523</td>\n",
       "    </tr>\n",
       "  </tbody>\n",
       "</table>\n",
       "</div>"
      ],
      "text/plain": [
       "       P_FP  OnlineQ_FP  OfflineQ_FP      Accr       FPR  Precision    Recall  \\\n",
       "0  0.229186    0.000000     0.000000  0.336739  0.229186   0.000000  0.000000   \n",
       "1  0.454630    0.000000     0.000000  0.239886  0.454630   0.008163  0.002903   \n",
       "2  0.654818    0.001871     0.000000  0.165100  0.654818   0.047619  0.025399   \n",
       "3  0.680075    0.002806     0.000000  0.242746  0.680075   0.257406  0.182874   \n",
       "4  0.699719    0.004677     0.004677  0.325705  0.699719   0.388889  0.345428   \n",
       "5  0.833489    0.110384     0.098223  0.308950  0.833489   0.393465  0.419448   \n",
       "6  0.949486    0.330215     0.322732  0.307315  0.949486   0.407472  0.506531   \n",
       "7  0.957905    0.558466     0.550047  0.400082  0.957905   0.477017  0.677794   \n",
       "8  0.965388    0.784846     0.778297  0.493666  0.965388   0.531548  0.849782   \n",
       "9  1.000000    1.000000     1.000000  0.563139  1.000000   0.563139  1.000000   \n",
       "\n",
       "   F1_score  \n",
       "0       NaN  \n",
       "1  0.004283  \n",
       "2  0.033128  \n",
       "3  0.213831  \n",
       "4  0.365872  \n",
       "5  0.406041  \n",
       "6  0.451634  \n",
       "7  0.559952  \n",
       "8  0.654007  \n",
       "9  0.720523  "
      ]
     },
     "execution_count": 22,
     "metadata": {},
     "output_type": "execute_result"
    }
   ],
   "source": [
    "df_FPresults"
   ]
  },
  {
   "cell_type": "raw",
   "metadata": {},
   "source": [
    "\"\"\"\n",
    "reject threshold = 40%\n",
    "print(Accr, FPR, Prec, Rec, F1)\n",
    "HULK: 0.9927961240948892,0.00930809804529941,0.9964550080428329,0.9935952177625961,0.9950230580800922\n",
    "GE: 0.9780898876404495,0.06741573033707865,0.9924385633270322,0.9831460674157303,0.9877704609595485\n",
    "slowhttp: 0.9137151398191244,0.11437908496732026,0.9569949916527546,0.9239130434782609,0.9401630901850673\n",
    "Heartbleed: 0.9097222222222222 0.2777777777777778 0.9678972712680578 0.9305555555555556 0.9488591660110149\n",
    "LOIC: 0.9762732962293993 0.03424657534246575 0.9891595435049444 0.9795709908069459 0.9843419169967335\n",
    "\"\"\""
   ]
  },
  {
   "cell_type": "raw",
   "metadata": {},
   "source": [
    "\"\"\"\n",
    "reject threshold = 50%\n",
    "print(Accr, FPR, Prec, Rec, F1)\n",
    "HULK: 0.9924694200363029,0.011169717654359293,0.9957501147305705,0.9938514090520923,0.9947998559101059\n",
    "GE: 0.9716853932584271,0.10112359550561797,0.9886621315192744,0.9797752808988764,0.984198645598194\n",
    "Slowhttp: 0.8969780905891701,0.1568627450980392,0.9415081983889323,0.9165217391304348,0.9288469620086431\n",
    "Heartbleed: 0.9118518518518518 0.3148148148148148 0.9640135478408128 0.937037037037037 0.9503338898163606\n",
    "LOIC: 0.9608343950575735 0.06506849315068493 0.9793832528822755 0.9689542483660131 0.9741408385875667\n",
    "\"\"\""
   ]
  },
  {
   "cell_type": "raw",
   "metadata": {},
   "source": [
    "\"\"\"\n",
    "reject threshold = 60%\n",
    "print(Accr, FPR, Prec, Rec, F1)\n",
    "HULK: 0.98981820117689,0.016754576481538937,0.9936288982872563,0.9923142613151151,0.9929711446753463\n",
    "GE: 0.9705056179775281,0.11797752808988764,0.9868049010367578,0.9803370786516854,0.9835603569751058\n",
    "Slowhttp: 0.8530442350626254,0.24836601307189543,0.9080067784479039,0.8898550724637682,0.8988392931566226\n",
    "Heartbleed: 0.9027777777777778 0.3888888888888889 0.9558359621451105 0.9351851851851852 0.9453978159126365\n",
    "LOIC: 0.9388222975132718 0.11301369863013698 0.9642334223495181 0.955071477195371 0.9596305821580213\n",
    "\"\"\""
   ]
  },
  {
   "cell_type": "code",
   "execution_count": null,
   "metadata": {},
   "outputs": [],
   "source": []
  },
  {
   "cell_type": "code",
   "execution_count": null,
   "metadata": {},
   "outputs": [],
   "source": []
  }
 ],
 "metadata": {
  "kernelspec": {
   "display_name": "ddos",
   "language": "python",
   "name": "ddos"
  },
  "language_info": {
   "codemirror_mode": {
    "name": "ipython",
    "version": 3
   },
   "file_extension": ".py",
   "mimetype": "text/x-python",
   "name": "python",
   "nbconvert_exporter": "python",
   "pygments_lexer": "ipython3",
   "version": "3.7.5"
  }
 },
 "nbformat": 4,
 "nbformat_minor": 4
}
