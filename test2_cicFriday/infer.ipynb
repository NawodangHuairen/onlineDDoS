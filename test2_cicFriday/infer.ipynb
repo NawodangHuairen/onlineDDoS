{
 "cells": [
  {
   "cell_type": "code",
   "execution_count": 1,
   "metadata": {
    "scrolled": true
   },
   "outputs": [
    {
     "name": "stderr",
     "output_type": "stream",
     "text": [
      "Using TensorFlow backend.\n",
      "/home/wesleyjtann/miniconda3/envs/ddos/lib/python3.7/site-packages/tensorflow/python/framework/dtypes.py:516: FutureWarning: Passing (type, 1) or '1type' as a synonym of type is deprecated; in a future version of numpy, it will be understood as (type, (1,)) / '(1,)type'.\n",
      "  _np_qint8 = np.dtype([(\"qint8\", np.int8, 1)])\n",
      "/home/wesleyjtann/miniconda3/envs/ddos/lib/python3.7/site-packages/tensorflow/python/framework/dtypes.py:517: FutureWarning: Passing (type, 1) or '1type' as a synonym of type is deprecated; in a future version of numpy, it will be understood as (type, (1,)) / '(1,)type'.\n",
      "  _np_quint8 = np.dtype([(\"quint8\", np.uint8, 1)])\n",
      "/home/wesleyjtann/miniconda3/envs/ddos/lib/python3.7/site-packages/tensorflow/python/framework/dtypes.py:518: FutureWarning: Passing (type, 1) or '1type' as a synonym of type is deprecated; in a future version of numpy, it will be understood as (type, (1,)) / '(1,)type'.\n",
      "  _np_qint16 = np.dtype([(\"qint16\", np.int16, 1)])\n",
      "/home/wesleyjtann/miniconda3/envs/ddos/lib/python3.7/site-packages/tensorflow/python/framework/dtypes.py:519: FutureWarning: Passing (type, 1) or '1type' as a synonym of type is deprecated; in a future version of numpy, it will be understood as (type, (1,)) / '(1,)type'.\n",
      "  _np_quint16 = np.dtype([(\"quint16\", np.uint16, 1)])\n",
      "/home/wesleyjtann/miniconda3/envs/ddos/lib/python3.7/site-packages/tensorflow/python/framework/dtypes.py:520: FutureWarning: Passing (type, 1) or '1type' as a synonym of type is deprecated; in a future version of numpy, it will be understood as (type, (1,)) / '(1,)type'.\n",
      "  _np_qint32 = np.dtype([(\"qint32\", np.int32, 1)])\n",
      "/home/wesleyjtann/miniconda3/envs/ddos/lib/python3.7/site-packages/tensorflow/python/framework/dtypes.py:525: FutureWarning: Passing (type, 1) or '1type' as a synonym of type is deprecated; in a future version of numpy, it will be understood as (type, (1,)) / '(1,)type'.\n",
      "  np_resource = np.dtype([(\"resource\", np.ubyte, 1)])\n",
      "/home/wesleyjtann/miniconda3/envs/ddos/lib/python3.7/site-packages/tensorboard/compat/tensorflow_stub/dtypes.py:541: FutureWarning: Passing (type, 1) or '1type' as a synonym of type is deprecated; in a future version of numpy, it will be understood as (type, (1,)) / '(1,)type'.\n",
      "  _np_qint8 = np.dtype([(\"qint8\", np.int8, 1)])\n",
      "/home/wesleyjtann/miniconda3/envs/ddos/lib/python3.7/site-packages/tensorboard/compat/tensorflow_stub/dtypes.py:542: FutureWarning: Passing (type, 1) or '1type' as a synonym of type is deprecated; in a future version of numpy, it will be understood as (type, (1,)) / '(1,)type'.\n",
      "  _np_quint8 = np.dtype([(\"quint8\", np.uint8, 1)])\n",
      "/home/wesleyjtann/miniconda3/envs/ddos/lib/python3.7/site-packages/tensorboard/compat/tensorflow_stub/dtypes.py:543: FutureWarning: Passing (type, 1) or '1type' as a synonym of type is deprecated; in a future version of numpy, it will be understood as (type, (1,)) / '(1,)type'.\n",
      "  _np_qint16 = np.dtype([(\"qint16\", np.int16, 1)])\n",
      "/home/wesleyjtann/miniconda3/envs/ddos/lib/python3.7/site-packages/tensorboard/compat/tensorflow_stub/dtypes.py:544: FutureWarning: Passing (type, 1) or '1type' as a synonym of type is deprecated; in a future version of numpy, it will be understood as (type, (1,)) / '(1,)type'.\n",
      "  _np_quint16 = np.dtype([(\"quint16\", np.uint16, 1)])\n",
      "/home/wesleyjtann/miniconda3/envs/ddos/lib/python3.7/site-packages/tensorboard/compat/tensorflow_stub/dtypes.py:545: FutureWarning: Passing (type, 1) or '1type' as a synonym of type is deprecated; in a future version of numpy, it will be understood as (type, (1,)) / '(1,)type'.\n",
      "  _np_qint32 = np.dtype([(\"qint32\", np.int32, 1)])\n",
      "/home/wesleyjtann/miniconda3/envs/ddos/lib/python3.7/site-packages/tensorboard/compat/tensorflow_stub/dtypes.py:550: FutureWarning: Passing (type, 1) or '1type' as a synonym of type is deprecated; in a future version of numpy, it will be understood as (type, (1,)) / '(1,)type'.\n",
      "  np_resource = np.dtype([(\"resource\", np.ubyte, 1)])\n"
     ]
    }
   ],
   "source": [
    "import numpy as np\n",
    "import pandas as pd # data processing, CSV file I/O (e.g. pd.read_csv)\n",
    "import keras\n",
    "import tensorflow as tf\n",
    "import pickle\n",
    "import sys\n",
    "import yaml\n",
    "\n",
    "from keras.layers import Dense, Embedding, LSTM, SpatialDropout1D, Flatten, TimeDistributed, Bidirectional\n",
    "from keras.layers.core import Dense, Activation, Dropout\n",
    "from keras.models import Sequential\n",
    "from keras.utils import plot_model\n",
    "from keras import optimizers\n",
    "from keras.models import Model\n",
    "from keras.layers import Input\n",
    "from keras.layers import Dense\n",
    "from keras.layers import Reshape\n",
    "from keras.layers import Flatten\n",
    "from keras.layers.convolutional import Conv2D\n",
    "from keras.layers.pooling import MaxPooling2D\n",
    "from keras.layers.merge import concatenate\n",
    "from sklearn.feature_extraction.text import CountVectorizer\n",
    "from keras.preprocessing.text import Tokenizer\n",
    "from keras.preprocessing.sequence import pad_sequences\n",
    "from sklearn.model_selection import train_test_split\n",
    "from keras.utils.np_utils import to_categorical\n",
    "from keras.callbacks import EarlyStopping\n",
    "from sklearn.preprocessing import LabelEncoder\n",
    "from sklearn.model_selection import train_test_split\n",
    "from keras import backend as K\n",
    "from keras.models import load_model\n",
    "from sklearn import preprocessing\n",
    "from copy import deepcopy\n",
    "\n",
    "import datetime\n",
    "import math\n",
    "import hashlib\n",
    "import time\n",
    "import os\n",
    "from datagenerator import DataGenerator\n",
    "\n",
    "# add\n",
    "os.environ[\"CUDA_DEVICE_ORDER\"]=\"PCI_BUS_ID\" \n",
    "os.environ[\"CUDA_VISIBLE_DEVICES\"]=\"0\"  # specify which GPU(s) to be used\n",
    "# add\n",
    "config = tf.ConfigProto() \n",
    "config.gpu_options.allow_growth = True \n",
    "# # sess = tf.Session(config=config) \n",
    "sess = tf.compat.v1.Session(config=config) "
   ]
  },
  {
   "cell_type": "code",
   "execution_count": 2,
   "metadata": {},
   "outputs": [
    {
     "name": "stderr",
     "output_type": "stream",
     "text": [
      "/home/wesleyjtann/miniconda3/envs/ddos/lib/python3.7/site-packages/ipykernel_launcher.py:4: YAMLLoadWarning: calling yaml.load() without Loader=... is deprecated, as the default Loader is unsafe. Please read https://msg.pyyaml.org/load for full details.\n",
      "  after removing the cwd from sys.path.\n"
     ]
    }
   ],
   "source": [
    "def loadConfig():\n",
    "#     with open('/home/wesleyjtann/ddos_research/test/light_config_b.yaml', \"r\") as ymlfile:\n",
    "    with open('./light_config.yaml', \"r\") as ymlfile: #GE, hulk, slowhttp, slowloris, heartbleed\n",
    "        cfg = yaml.load(ymlfile)\n",
    "    return cfg\n",
    "\n",
    "config = loadConfig()\n",
    "# artefact = 'artefact' #'artefact_b' #"
   ]
  },
  {
   "cell_type": "code",
   "execution_count": 3,
   "metadata": {},
   "outputs": [],
   "source": [
    "def prepare_sentence(seq, maxlen, tokenizer):\n",
    "    # Pads seq and slides windows\n",
    "    seq = seq[:maxlen]\n",
    "    seqX = np.append(tokenizer.word_index['<sos>'], seq)\n",
    "    seqY = np.append(seq, tokenizer.word_index['<eos>'])\n",
    "\n",
    "    x= pad_sequences([seqX],\n",
    "        maxlen=maxlen+1,\n",
    "        padding='post')[0]  # Pads before each sequence\n",
    "\n",
    "    y= pad_sequences([seqY],\n",
    "        maxlen=maxlen+1,\n",
    "        padding='post')[0]  # Pads before each sequence\n",
    "\n",
    "    return x, y\n",
    "\n",
    "# Compute probability of occurence of a sentence\n",
    "def seqPrepX(sentence, pair, model, tokenizer, histogram, datasize, maxlen) :\n",
    "    #Assigns indices to each request\n",
    "    tok = tokenizer.texts_to_sequences([str(sentence)])[0]\n",
    "\n",
    "    #Prepare sentence to get input and actual output of array\n",
    "    #x_test and y_test are lists of length 21.\n",
    "    x_test, y_test = prepare_sentence(tok, maxlen, tokenizer)\n",
    "\n",
    "    x_test.shape = [maxlen + 1 ,1]\n",
    "\n",
    "    return x_test\n",
    "\n",
    "\n",
    "def seqPrepY(sentence, pair, model, tokenizer, histogram, datasize, maxlen) :\n",
    "    #Assigns indices to each request\n",
    "    tok = tokenizer.texts_to_sequences([str(sentence)])[0]\n",
    "\n",
    "    #Prepare sentence to get input and actual output of array\n",
    "    #x_test and y_test are lists of length 21.\n",
    "    x_test, y_test = prepare_sentence(tok, maxlen, tokenizer)\n",
    "\n",
    "    return y_test\n",
    "\n",
    "def calcProbability(maxlen, p_pred_normal, y_test)  :\n",
    "    #Chain rule to calculate probability of sentence\n",
    "    p_sentence = 0\n",
    "    for i in range(maxlen + 1) :\n",
    "        if (y_test[i] != 0) :\n",
    "            # p_sentence = p_sentence + math.log(p_pred_normal[i][y_test[i]])\n",
    "            p_sentence = p_sentence + math.log(p_pred_normal[i]) # add\n",
    "            # p_sentence = p_sentence * p_pred_normal[i] # add\n",
    "\n",
    "    return p_sentence\n",
    "\n",
    "def calcHisto(pair, agent, country, histogram, agenthistogram, countryhistogram, datasize):\n",
    "    #Get probability from Histogram\n",
    "    p_hist = getHistogramProbability(histogram, pair, datasize)\n",
    "\n",
    "    #Get probability from agent (Smoothed)\n",
    "    agentMiniNum = agenthistogram.min()\n",
    "    p_agent = getHistogramSmoothedProbability(agenthistogram, agent, datasize, agentMiniNum)\n",
    "\n",
    "    #Get probability from country (Smoothed)\n",
    "    countryMiniNum = countryhistogram.min()\n",
    "    p_country = getHistogramSmoothedProbability(countryhistogram, country, datasize, countryMiniNum)\n",
    "\n",
    "    p_hist_new = p_agent * p_country\n",
    "    final_p_hist = (p_hist + p_hist_new)/2\n",
    "\n",
    "    if final_p_hist == 0 :\n",
    "        print(p_hist)\n",
    "        print(p_agent)\n",
    "        print(p_country)\n",
    "\n",
    "    return math.log(final_p_hist) #final_p_hist #\n",
    "\n",
    "# This might give the probability as 0\n",
    "def getHistogramProbability(histogram, value, datasize):\n",
    "    if value not in histogram :\n",
    "        return 0\n",
    "    else :\n",
    "        return histogram[value]/datasize\n",
    "\n",
    "\n",
    "# This ensures that there is at least some probability\n",
    "def getHistogramSmoothedProbability(histogram, value, datasize, minimumNum):\n",
    "    if value not in histogram :\n",
    "        return (minimumNum/2)/datasize\n",
    "    else :\n",
    "        return histogram[value]/datasize\n",
    "    \n",
    "# add #Function to convert 3d prediction array into 2d list using real sequences\n",
    "def pred2list(Pred, df_Py):\n",
    "    # convert Py to 2D array\n",
    "    Py = df_Py.tolist() # add\n",
    "    Py = np.vstack(Py) # (9847, 121) # add\n",
    "    \n",
    "    # Mask all zeros\n",
    "    Pred_mask = np.zeros(Pred.shape, dtype=bool)\n",
    "    Pred_mask[:,:,:] = Py[:,:,np.newaxis] == 0\n",
    "    field3d = np.ma.array(Pred, mask=Pred_mask)\n",
    "    \n",
    "    # select elements from 3d array using 2d indices\n",
    "    v_shp = field3d.shape #(9847, 121, 1008)\n",
    "    y,x = np.ogrid[0:v_shp[0], 0:v_shp[1]]\n",
    "    field3d = field3d[y, x, Py]#.shape\n",
    "    field3d = field3d.filled(0) # fill mask=True with zeros\n",
    "#     field3d.shape #(9847, 121)\n",
    "    field3d = field3d.tolist()\n",
    "    \n",
    "    return field3d"
   ]
  },
  {
   "cell_type": "raw",
   "metadata": {
    "scrolled": true
   },
   "source": [
    "print(\"*****     Starting Inferencing     ******\")"
   ]
  },
  {
   "cell_type": "code",
   "execution_count": 4,
   "metadata": {
    "scrolled": true
   },
   "outputs": [
    {
     "name": "stdout",
     "output_type": "stream",
     "text": [
      "WARNING:tensorflow:From /home/wesleyjtann/miniconda3/envs/ddos/lib/python3.7/site-packages/keras/backend/tensorflow_backend.py:517: The name tf.placeholder is deprecated. Please use tf.compat.v1.placeholder instead.\n",
      "\n",
      "WARNING:tensorflow:From /home/wesleyjtann/miniconda3/envs/ddos/lib/python3.7/site-packages/keras/backend/tensorflow_backend.py:74: The name tf.get_default_graph is deprecated. Please use tf.compat.v1.get_default_graph instead.\n",
      "\n",
      "WARNING:tensorflow:From /home/wesleyjtann/miniconda3/envs/ddos/lib/python3.7/site-packages/keras/backend/tensorflow_backend.py:4138: The name tf.random_uniform is deprecated. Please use tf.random.uniform instead.\n",
      "\n",
      "WARNING:tensorflow:From /home/wesleyjtann/miniconda3/envs/ddos/lib/python3.7/site-packages/keras/backend/tensorflow_backend.py:174: The name tf.get_default_session is deprecated. Please use tf.compat.v1.get_default_session instead.\n",
      "\n",
      "WARNING:tensorflow:From /home/wesleyjtann/miniconda3/envs/ddos/lib/python3.7/site-packages/keras/backend/tensorflow_backend.py:181: The name tf.ConfigProto is deprecated. Please use tf.compat.v1.ConfigProto instead.\n",
      "\n",
      "WARNING:tensorflow:From /home/wesleyjtann/miniconda3/envs/ddos/lib/python3.7/site-packages/keras/optimizers.py:790: The name tf.train.Optimizer is deprecated. Please use tf.compat.v1.train.Optimizer instead.\n",
      "\n",
      "WARNING:tensorflow:From /home/wesleyjtann/miniconda3/envs/ddos/lib/python3.7/site-packages/tensorflow/python/ops/math_grad.py:1250: add_dispatch_support.<locals>.wrapper (from tensorflow.python.ops.array_ops) is deprecated and will be removed in a future version.\n",
      "Instructions for updating:\n",
      "Use tf.where in 2.0, which has the same broadcast rule as np.where\n"
     ]
    }
   ],
   "source": [
    "# #load models\n",
    "modelP = load_model(config['metadata']['uniqueID'] + '/' + config['metadata']['artefact'] + '/' + 'modelP')\n",
    "modelQ_online = load_model(config['metadata']['uniqueID'] + '/' + config['metadata']['artefact'] + '/' + 'modelQ_online')\n",
    "modelQ_offline = load_model(config['metadata']['uniqueID'] + '/' + config['metadata']['artefact'] + '/' + 'modelQ_offline')\n",
    "\n",
    "# load dataset\n",
    "df_normal = pd.read_csv(config['metadata']['uniqueID'] + '/' + config['metadata']['artefact'] + '/' + 'N1.csv')\n",
    "\n",
    "count = 0\n",
    "df_atk_arr = []\n",
    "while(True) :\n",
    "    if not os.path.isfile(config['metadata']['uniqueID'] + '/' + config['metadata']['artefact'] + '/' + 'A1_' + str(count) + '.csv') :\n",
    "        break\n",
    "\n",
    "    df_attack = pd.read_csv(config['metadata']['uniqueID'] + '/' + config['metadata']['artefact'] + '/' + 'A1_' + str(count) + '.csv')\n",
    "    df_atk_arr.append(df_attack)\n",
    "    count = count + 1\n",
    "\n",
    "df_attack = pd.concat(df_atk_arr)\n",
    "\n",
    "# load testset\n",
    "df_test = pd.read_csv(config['metadata']['uniqueID'] + '/' + config['metadata']['artefact'] + '/' + 'TEST.csv')\n",
    "\n",
    "# loading tokenizer of normal\n",
    "with open(config['metadata']['uniqueID'] + '/' + config['metadata']['artefact'] + '/' + 'tokenizer_normal.pickle', 'rb') as handle:\n",
    "    tokenizer_normal = pickle.load(handle)\n",
    "\n",
    "# loading tokenizer of attack\n",
    "with open(config['metadata']['uniqueID'] + '/' + config['metadata']['artefact'] + '/' + 'tokenizer_attack.pickle', 'rb') as handle:\n",
    "    tokenizer_attack = pickle.load(handle)\n"
   ]
  },
  {
   "cell_type": "code",
   "execution_count": 5,
   "metadata": {},
   "outputs": [
    {
     "name": "stdout",
     "output_type": "stream",
     "text": [
      "length df_test:  2447\n",
      "length df_atk:  1378\n",
      "length df_norm:  1069\n",
      "length dftest_small:  2447\n"
     ]
    }
   ],
   "source": [
    "print(\"length df_test: \", len(df_test)) #2541\n",
    "attacker='172.16.0.1'; victim='192.168.10.50'\n",
    "\n",
    "# True attacks\n",
    "df_atk = df_test[(df_test['Source IP']==attacker) | (df_test['Source IP']==victim)]\n",
    "print(\"length df_atk: \",  len(df_atk)) #\n",
    "\n",
    "# True normals\n",
    "# df_norm = df_test[(df_test['Source IP']!=attacker) & (df_test['Dest IP']==victim) | (df_test['Source IP']==victim)]\n",
    "df_norm = df_test[~df_test.index.isin(df_atk.index)]\n",
    "print(\"length df_norm: \",  len(df_norm))  \n",
    "\n",
    "dftest_small = pd.concat([df_atk, df_norm])\n",
    "dftest_small = dftest_small #.sample(frac=1).reset_index(drop=True)\n",
    "# df_test.head()\n",
    "print(\"length dftest_small: \", len(dftest_small)) #416"
   ]
  },
  {
   "cell_type": "code",
   "execution_count": 6,
   "metadata": {},
   "outputs": [
    {
     "name": "stdout",
     "output_type": "stream",
     "text": [
      "8243.0\n",
      "length df_remain:  0\n"
     ]
    }
   ],
   "source": [
    "\"\"\" Make normal data 10% of the test data \"\"\"\n",
    "percentage = 0.1 #0.1{hulk, GE, heartbleed}, 0.3{slowhttp}\n",
    "num_remain = (len(df_norm)/percentage)-len(dftest_small)\n",
    "print(num_remain)\n",
    "\n",
    "df_remain = df_test[~df_test.index.isin(dftest_small.index)]\n",
    "df_remain = df_remain[int(len(df_remain)-num_remain):]\n",
    "print(\"length df_remain: \", len(df_remain)) # 1270"
   ]
  },
  {
   "cell_type": "raw",
   "metadata": {},
   "source": [
    "\"\"\" Take a percentage of remaining data \"\"\"\n",
    "percentage = 0.7\n",
    "df_remain = df_test[~df_test.index.isin(dftest_small.index)][int(len(df_test)-len(df_test)*percentage):] #[:int(len(df_test)*percentage)]\n",
    "print(\"length df_remain: \", len(df_remain)) # 1270"
   ]
  },
  {
   "cell_type": "code",
   "execution_count": 7,
   "metadata": {},
   "outputs": [
    {
     "name": "stdout",
     "output_type": "stream",
     "text": [
      "length new df_test:  2447\n"
     ]
    }
   ],
   "source": [
    "df_test = pd.concat([dftest_small, df_remain]).sample(frac=1).reset_index(drop=True)\n",
    "print(\"length new df_test: \", len(df_test)) #2541"
   ]
  },
  {
   "cell_type": "raw",
   "metadata": {},
   "source": [
    "sr = calculateSequenceScores(modelP, modelQ_online, modelQ_offline, tokenizer_normal, tokenizer_attack, df_normal, df_attack, df_test, config['SEQUENCELENGTH'])"
   ]
  },
  {
   "cell_type": "raw",
   "metadata": {
    "scrolled": false
   },
   "source": [
    "sr # log(P+hist +1), no scale, and -"
   ]
  },
  {
   "cell_type": "code",
   "execution_count": 8,
   "metadata": {},
   "outputs": [
    {
     "name": "stdout",
     "output_type": "stream",
     "text": [
      "c1\n",
      "c2\n",
      "Start inference\n",
      "2447/2447 [==============================] - 3s 1ms/step\n",
      "2447/2447 [==============================] - 3s 1ms/step\n",
      "2447/2447 [==============================] - 3s 1ms/step\n"
     ]
    }
   ],
   "source": [
    "maxlen=config['SEQUENCELENGTH'];modelQWithT=modelQ_online; modelQWithoutT=modelQ_offline\n",
    "\n",
    "scoreDictionary = dict()\n",
    "count = 0\n",
    "df_temp = df_test[['Source IP','Dest IP', 'Input', 'Histo', 'Protocols', 'Info']].copy()\n",
    "\n",
    "norm_size = len(df_normal)\n",
    "atk_size = len(df_attack)\n",
    "\n",
    "CountryAgentHistogram_Normal = df_normal['Histo'].value_counts()\n",
    "CountryAgentHistogram_Attack = df_attack['Histo'].value_counts()\n",
    "\n",
    "AgentHistogram_Normal = df_normal['Protocols'].value_counts()\n",
    "AgentHistogram_Attack = df_attack['Protocols'].value_counts()\n",
    "\n",
    "CountryHistogram_Normal = df_normal['Info'].value_counts()\n",
    "CountryHistogram_Attack = df_attack['Info'].value_counts()\n",
    "\n",
    "\n",
    "print('c1')\n",
    "df_temp['Px'] = df_temp.apply(lambda x: seqPrepX(x[\"Input\"], x[\"Histo\"], modelP, tokenizer_normal, CountryAgentHistogram_Normal, norm_size, maxlen), axis=1)\n",
    "df_temp['Py'] = df_temp.apply(lambda x: seqPrepY(x[\"Input\"], x[\"Histo\"], modelP, tokenizer_normal, CountryAgentHistogram_Normal, norm_size, maxlen), axis=1)\n",
    "\n",
    "print('c2')\n",
    "df_temp['Qx'] = df_temp.apply(lambda x: seqPrepX(x[\"Input\"], x[\"Histo\"], modelP, tokenizer_attack, CountryAgentHistogram_Attack, atk_size, maxlen),axis=1)\n",
    "df_temp['Qy'] = df_temp.apply(lambda x: seqPrepY(x[\"Input\"], x[\"Histo\"], modelP, tokenizer_attack, CountryAgentHistogram_Attack, atk_size, maxlen),axis=1)\n",
    "\n",
    "print(\"Start inference\")\n",
    "# start = time.time()\n",
    "\n",
    "Pint = modelP.predict(np.array(df_temp['Px'].tolist()), batch_size=1024, verbose=1) # add \n",
    "QWithTint = modelQWithT.predict(np.array(df_temp['Qx'].tolist()), batch_size=1024, verbose=1) # add\n",
    "QWithoutTint = modelQWithoutT.predict(np.array(df_temp['Qx'].tolist()), batch_size=1024, verbose=1) # add\n",
    "\n",
    "Pint_max = pred2list(Pint, df_temp['Py']) # add\n",
    "QWithTint_max = pred2list(QWithTint, df_temp['Qy']) # add\n",
    "QWithoutTint_max = pred2list(QWithoutTint, df_temp['Qy']) # add\n",
    "df_temp['Pint'] = Pint_max # add\n",
    "df_temp['QWithTint'] = QWithTint_max # add\n",
    "df_temp['QWithoutTint'] = QWithoutTint_max # add\n",
    "\n",
    "df_temp['P_LSTM'] = df_temp.apply(lambda x: calcProbability(maxlen, x['Pint'], x['Py']),axis=1)\n",
    "df_temp['hist1'] = df_temp.apply(lambda x: calcHisto(x[\"Histo\"], x['Protocols'], x[\"Info\"], CountryAgentHistogram_Normal, CountryHistogram_Normal, AgentHistogram_Normal, norm_size),axis=1)\n",
    "\n",
    "df_temp['QWithT_LSTM'] = df_temp.apply(lambda x: calcProbability(maxlen, x['QWithTint'], x['Qy']),axis=1)\n",
    "df_temp['hist2'] = df_temp.apply(lambda x: calcHisto(x[\"Histo\"], x[\"Protocols\"], x[\"Info\"], CountryAgentHistogram_Attack, CountryHistogram_Attack, AgentHistogram_Attack, atk_size),axis=1)\n",
    "df_temp['QWithoutT_LSTM'] = df_temp.apply(lambda x: calcProbability(maxlen, x['QWithoutTint'], x['Qy']),axis=1)\n",
    "\n",
    "#     #Sorting to avoid mixing of IP and Scores\n",
    "#     df_temp = df_temp.sort_values(by = ['P_LSTM'])#, ignore_index = True)\n",
    "#     df_temp = df_temp.reset_index(drop=True) # add\n",
    "\n",
    "# add #No Scaling \n",
    "df_min_max = deepcopy(df_temp[['P_LSTM','hist1', 'QWithT_LSTM', 'QWithoutT_LSTM' ,'hist2']]) #, 'QTilde']])\n",
    "df_min_max['Source IP'] = df_temp['Source IP']\n",
    "df_min_max['Dest IP'] = df_temp['Dest IP']\n",
    "# df_min_max = deepcopy(df_temp[['Source IP','Dest IP','P_LSTM','hist1', 'QWithT_LSTM', 'QWithoutT_LSTM' ,'hist2']])"
   ]
  },
  {
   "cell_type": "raw",
   "metadata": {
    "scrolled": false
   },
   "source": [
    "df_min_max.sort_values(by = ['P_LSTM'])"
   ]
  },
  {
   "cell_type": "code",
   "execution_count": 9,
   "metadata": {
    "scrolled": true
   },
   "outputs": [
    {
     "data": {
      "text/html": [
       "<div>\n",
       "<style scoped>\n",
       "    .dataframe tbody tr th:only-of-type {\n",
       "        vertical-align: middle;\n",
       "    }\n",
       "\n",
       "    .dataframe tbody tr th {\n",
       "        vertical-align: top;\n",
       "    }\n",
       "\n",
       "    .dataframe thead th {\n",
       "        text-align: right;\n",
       "    }\n",
       "</style>\n",
       "<table border=\"1\" class=\"dataframe\">\n",
       "  <thead>\n",
       "    <tr style=\"text-align: right;\">\n",
       "      <th></th>\n",
       "      <th>P_LSTM</th>\n",
       "      <th>hist1</th>\n",
       "      <th>QWithT_LSTM</th>\n",
       "      <th>QWithoutT_LSTM</th>\n",
       "      <th>hist2</th>\n",
       "      <th>Source IP</th>\n",
       "      <th>Dest IP</th>\n",
       "      <th>P</th>\n",
       "      <th>QWithT</th>\n",
       "      <th>QWithoutT</th>\n",
       "      <th>PoverQ_online</th>\n",
       "      <th>PoverQ_offline</th>\n",
       "    </tr>\n",
       "  </thead>\n",
       "  <tbody>\n",
       "    <tr>\n",
       "      <th>0</th>\n",
       "      <td>-742.828382</td>\n",
       "      <td>-20.510893</td>\n",
       "      <td>-387.753767</td>\n",
       "      <td>-255.386160</td>\n",
       "      <td>-4.011372</td>\n",
       "      <td>172.16.0.1</td>\n",
       "      <td>192.168.10.50</td>\n",
       "      <td>0.436152</td>\n",
       "      <td>0.725338</td>\n",
       "      <td>0.820355</td>\n",
       "      <td>-0.289187</td>\n",
       "      <td>-0.384203</td>\n",
       "    </tr>\n",
       "    <tr>\n",
       "      <th>1</th>\n",
       "      <td>-313.970117</td>\n",
       "      <td>-8.810252</td>\n",
       "      <td>-304.594427</td>\n",
       "      <td>-301.140915</td>\n",
       "      <td>-6.885267</td>\n",
       "      <td>192.168.10.50</td>\n",
       "      <td>192.168.10.19</td>\n",
       "      <td>0.765420</td>\n",
       "      <td>0.783139</td>\n",
       "      <td>0.785302</td>\n",
       "      <td>-0.017719</td>\n",
       "      <td>-0.019882</td>\n",
       "    </tr>\n",
       "    <tr>\n",
       "      <th>2</th>\n",
       "      <td>-10.569595</td>\n",
       "      <td>-20.510893</td>\n",
       "      <td>-8.330766</td>\n",
       "      <td>-6.292511</td>\n",
       "      <td>-20.130112</td>\n",
       "      <td>192.168.10.15</td>\n",
       "      <td>205.174.165.73</td>\n",
       "      <td>0.983433</td>\n",
       "      <td>0.986895</td>\n",
       "      <td>0.988290</td>\n",
       "      <td>-0.003462</td>\n",
       "      <td>-0.004857</td>\n",
       "    </tr>\n",
       "    <tr>\n",
       "      <th>3</th>\n",
       "      <td>-19.928437</td>\n",
       "      <td>-4.641015</td>\n",
       "      <td>-18.906382</td>\n",
       "      <td>-15.663154</td>\n",
       "      <td>-2.931765</td>\n",
       "      <td>192.168.10.9</td>\n",
       "      <td>199.59.150.44</td>\n",
       "      <td>0.988299</td>\n",
       "      <td>0.991663</td>\n",
       "      <td>0.993932</td>\n",
       "      <td>-0.003364</td>\n",
       "      <td>-0.005633</td>\n",
       "    </tr>\n",
       "    <tr>\n",
       "      <th>4</th>\n",
       "      <td>-14.085205</td>\n",
       "      <td>-4.641015</td>\n",
       "      <td>-11.634171</td>\n",
       "      <td>-10.208371</td>\n",
       "      <td>-2.931765</td>\n",
       "      <td>172.217.12.132</td>\n",
       "      <td>192.168.10.9</td>\n",
       "      <td>0.992666</td>\n",
       "      <td>0.996898</td>\n",
       "      <td>0.997864</td>\n",
       "      <td>-0.004232</td>\n",
       "      <td>-0.005198</td>\n",
       "    </tr>\n",
       "    <tr>\n",
       "      <th>...</th>\n",
       "      <td>...</td>\n",
       "      <td>...</td>\n",
       "      <td>...</td>\n",
       "      <td>...</td>\n",
       "      <td>...</td>\n",
       "      <td>...</td>\n",
       "      <td>...</td>\n",
       "      <td>...</td>\n",
       "      <td>...</td>\n",
       "      <td>...</td>\n",
       "      <td>...</td>\n",
       "      <td>...</td>\n",
       "    </tr>\n",
       "    <tr>\n",
       "      <th>2442</th>\n",
       "      <td>-827.900310</td>\n",
       "      <td>-20.510893</td>\n",
       "      <td>-491.188941</td>\n",
       "      <td>-307.017753</td>\n",
       "      <td>-20.130112</td>\n",
       "      <td>172.16.0.1</td>\n",
       "      <td>192.168.10.50</td>\n",
       "      <td>0.372570</td>\n",
       "      <td>0.639267</td>\n",
       "      <td>0.771519</td>\n",
       "      <td>-0.266697</td>\n",
       "      <td>-0.398949</td>\n",
       "    </tr>\n",
       "    <tr>\n",
       "      <th>2443</th>\n",
       "      <td>-959.374967</td>\n",
       "      <td>-20.510893</td>\n",
       "      <td>-838.232214</td>\n",
       "      <td>-681.652460</td>\n",
       "      <td>-20.130112</td>\n",
       "      <td>172.16.0.1</td>\n",
       "      <td>192.168.10.50</td>\n",
       "      <td>0.274307</td>\n",
       "      <td>0.389418</td>\n",
       "      <td>0.501472</td>\n",
       "      <td>-0.115110</td>\n",
       "      <td>-0.227164</td>\n",
       "    </tr>\n",
       "    <tr>\n",
       "      <th>2444</th>\n",
       "      <td>-633.745214</td>\n",
       "      <td>-20.510893</td>\n",
       "      <td>-384.499409</td>\n",
       "      <td>-310.784184</td>\n",
       "      <td>-20.130112</td>\n",
       "      <td>172.16.0.1</td>\n",
       "      <td>192.168.10.50</td>\n",
       "      <td>0.517679</td>\n",
       "      <td>0.716077</td>\n",
       "      <td>0.768804</td>\n",
       "      <td>-0.198398</td>\n",
       "      <td>-0.251125</td>\n",
       "    </tr>\n",
       "    <tr>\n",
       "      <th>2445</th>\n",
       "      <td>-1087.148971</td>\n",
       "      <td>-20.510893</td>\n",
       "      <td>-640.078493</td>\n",
       "      <td>-586.647123</td>\n",
       "      <td>-20.130112</td>\n",
       "      <td>192.168.10.50</td>\n",
       "      <td>172.16.0.1</td>\n",
       "      <td>0.178811</td>\n",
       "      <td>0.532076</td>\n",
       "      <td>0.569954</td>\n",
       "      <td>-0.353265</td>\n",
       "      <td>-0.391143</td>\n",
       "    </tr>\n",
       "    <tr>\n",
       "      <th>2446</th>\n",
       "      <td>-123.212301</td>\n",
       "      <td>-20.510893</td>\n",
       "      <td>-127.455538</td>\n",
       "      <td>-122.911784</td>\n",
       "      <td>-20.130112</td>\n",
       "      <td>23.36.32.16</td>\n",
       "      <td>192.168.10.15</td>\n",
       "      <td>0.899245</td>\n",
       "      <td>0.901132</td>\n",
       "      <td>0.904227</td>\n",
       "      <td>-0.001888</td>\n",
       "      <td>-0.004983</td>\n",
       "    </tr>\n",
       "  </tbody>\n",
       "</table>\n",
       "<p>2447 rows × 12 columns</p>\n",
       "</div>"
      ],
      "text/plain": [
       "           P_LSTM      hist1  QWithT_LSTM  QWithoutT_LSTM      hist2  \\\n",
       "0     -742.828382 -20.510893  -387.753767     -255.386160  -4.011372   \n",
       "1     -313.970117  -8.810252  -304.594427     -301.140915  -6.885267   \n",
       "2      -10.569595 -20.510893    -8.330766       -6.292511 -20.130112   \n",
       "3      -19.928437  -4.641015   -18.906382      -15.663154  -2.931765   \n",
       "4      -14.085205  -4.641015   -11.634171      -10.208371  -2.931765   \n",
       "...           ...        ...          ...             ...        ...   \n",
       "2442  -827.900310 -20.510893  -491.188941     -307.017753 -20.130112   \n",
       "2443  -959.374967 -20.510893  -838.232214     -681.652460 -20.130112   \n",
       "2444  -633.745214 -20.510893  -384.499409     -310.784184 -20.130112   \n",
       "2445 -1087.148971 -20.510893  -640.078493     -586.647123 -20.130112   \n",
       "2446  -123.212301 -20.510893  -127.455538     -122.911784 -20.130112   \n",
       "\n",
       "           Source IP         Dest IP         P    QWithT  QWithoutT  \\\n",
       "0         172.16.0.1   192.168.10.50  0.436152  0.725338   0.820355   \n",
       "1      192.168.10.50   192.168.10.19  0.765420  0.783139   0.785302   \n",
       "2      192.168.10.15  205.174.165.73  0.983433  0.986895   0.988290   \n",
       "3       192.168.10.9   199.59.150.44  0.988299  0.991663   0.993932   \n",
       "4     172.217.12.132    192.168.10.9  0.992666  0.996898   0.997864   \n",
       "...              ...             ...       ...       ...        ...   \n",
       "2442      172.16.0.1   192.168.10.50  0.372570  0.639267   0.771519   \n",
       "2443      172.16.0.1   192.168.10.50  0.274307  0.389418   0.501472   \n",
       "2444      172.16.0.1   192.168.10.50  0.517679  0.716077   0.768804   \n",
       "2445   192.168.10.50      172.16.0.1  0.178811  0.532076   0.569954   \n",
       "2446     23.36.32.16   192.168.10.15  0.899245  0.901132   0.904227   \n",
       "\n",
       "      PoverQ_online  PoverQ_offline  \n",
       "0         -0.289187       -0.384203  \n",
       "1         -0.017719       -0.019882  \n",
       "2         -0.003462       -0.004857  \n",
       "3         -0.003364       -0.005633  \n",
       "4         -0.004232       -0.005198  \n",
       "...             ...             ...  \n",
       "2442      -0.266697       -0.398949  \n",
       "2443      -0.115110       -0.227164  \n",
       "2444      -0.198398       -0.251125  \n",
       "2445      -0.353265       -0.391143  \n",
       "2446      -0.001888       -0.004983  \n",
       "\n",
       "[2447 rows x 12 columns]"
      ]
     },
     "execution_count": 9,
     "metadata": {},
     "output_type": "execute_result"
    }
   ],
   "source": [
    "# Computation of scores \n",
    "df_min_max = df_min_max.rename(columns={0: 'P_LSTM', 1: 'hist1', 2: 'QWithT_LSTM', 3: 'QWithoutT_LSTM', 4: 'hist2'}) #, 5: 'QTilde'})\n",
    "df_min_max['P'] = (df_min_max['P_LSTM'] + df_min_max['hist1']) #+1).apply(lambda x: math.log(x))\n",
    "df_min_max['QWithT'] = (df_min_max['QWithT_LSTM'] + df_min_max['hist2']) #+1).apply(lambda x: math.log(x))\n",
    "df_min_max['QWithoutT'] = (df_min_max['QWithoutT_LSTM'] + df_min_max['hist2']) #+1).apply(lambda x: math.log(x))\n",
    "\n",
    "# add standardization\n",
    "df_min_max['P'] = (df_min_max['P'] - df_min_max['P'].min(axis=0)) / (df_min_max['P'].max(axis=0) - df_min_max['P'].min(axis=0))\n",
    "df_min_max['QWithT'] = (df_min_max['QWithT'] - df_min_max['QWithT'].min(axis=0)) / (df_min_max['QWithT'].max(axis=0) - df_min_max['QWithT'].min(axis=0))\n",
    "df_min_max['QWithoutT'] = (df_min_max['QWithoutT'] - df_min_max['QWithoutT'].min(axis=0)) / (df_min_max['QWithoutT'].max(axis=0) - df_min_max['QWithoutT'].min(axis=0))  \n",
    "\n",
    "df_min_max['PoverQ_online'] = df_min_max['P'] - df_min_max['QWithT'] # \n",
    "df_min_max['PoverQ_offline'] = df_min_max['P'] - df_min_max['QWithoutT'] #\n",
    "    \n",
    "df_min_max #[['Source IP','Dest IP','P','QWithT','QWithoutT']].sort_values(by = ['P']) #P"
   ]
  },
  {
   "cell_type": "raw",
   "metadata": {
    "scrolled": true
   },
   "source": [
    "# Computation of scores \n",
    "# df_min_max = df_min_max.rename(columns={0: 'P_LSTM', 1: 'hist1', 2: 'QWithT_LSTM', 3: 'QWithoutT_LSTM', 4: 'hist2'}) #, 5: 'QTilde'})\n",
    "df_min_max['P'] = (df_min_max['P_LSTM'] + df_min_max['hist1'])\n",
    "df_min_max['QWithT'] = (df_min_max['QWithT_LSTM'] + df_min_max['hist2'])#.apply(lambda x: math.log(x))\n",
    "df_min_max['QWithoutT'] = (df_min_max['QWithoutT_LSTM'] + df_min_max['hist2'])#.apply(lambda x: math.log(x))\n",
    "\n",
    "# add standardization\n",
    "df_min_max['P'] = (df_min_max['P'] - df_min_max['P'].min(axis=0)) / (df_min_max['P'].max(axis=0) - df_min_max['P'].min(axis=0))\n",
    "df_min_max['QWithT'] = (df_min_max['QWithT'] - df_min_max['QWithT'].min(axis=0)) / (df_min_max['QWithT'].max(axis=0) - df_min_max['QWithT'].min(axis=0))\n",
    "df_min_max['QWithoutT'] = (df_min_max['QWithoutT'] - df_min_max['QWithoutT'].min(axis=0)) / (df_min_max['QWithoutT'].max(axis=0) - df_min_max['QWithoutT'].min(axis=0))   \n",
    "\n",
    "# # add scaling\n",
    "# x_tmp = np.array(df_min_max[['QWithT','QWithoutT','P']].values) #.reshape(-1,1) \n",
    "# scaler = preprocessing.RobustScaler() #MinMaxScaler()\n",
    "# df_min_max['QWithT'] = scaler.fit_transform(x_tmp)[:,0]\n",
    "# df_min_max['QWithoutT'] = scaler.fit_transform(x_tmp)[:,1]\n",
    "# df_min_max['P'] = scaler.fit_transform(x_tmp)[:,2]\n",
    "\n",
    "df_min_max #[['Source IP','Dest IP','P','QWithT','QWithoutT']].sort_values(by = ['P']) #P"
   ]
  },
  {
   "cell_type": "code",
   "execution_count": 10,
   "metadata": {},
   "outputs": [
    {
     "data": {
      "text/plain": [
       "826"
      ]
     },
     "execution_count": 10,
     "metadata": {},
     "output_type": "execute_result"
    }
   ],
   "source": [
    "attacker='172.16.0.1'; victim='192.168.10.50'\n",
    "\n",
    "len(df_min_max['P'].sort_values()[df_min_max['Source IP'] == attacker])\n",
    "len(df_min_max['P'].sort_values()[df_min_max['Dest IP'] == victim])"
   ]
  },
  {
   "cell_type": "code",
   "execution_count": 11,
   "metadata": {},
   "outputs": [
    {
     "data": {
      "image/png": "[encoded data removed]",
      "text/plain": [
       "<Figure size 1080x360 with 2 Axes>"
      ]
     },
     "metadata": {
      "needs_background": "light"
     },
     "output_type": "display_data"
    },
    {
     "data": {
      "text/plain": [
       "826"
      ]
     },
     "execution_count": 11,
     "metadata": {},
     "output_type": "execute_result"
    }
   ],
   "source": [
    "import matplotlib.pyplot as plt\n",
    "\n",
    "fig, ax = plt.subplots(1,2, figsize=(15,5)) #plt.figure()\n",
    "ax[0].hist(df_min_max['P'].sort_values()[df_min_max['Source IP'] == attacker], bins=20, range=[0, 1]) #attacker:172.16.0.1, victim:192.168.10.50\n",
    "ax[1].hist(df_min_max['P'].sort_values(), bins=20, range=[0, 1]) #attacker:172.16.0.1, victim:192.168.10.50\n",
    "plt.show()\n",
    "fig.tight_layout()\n",
    "# fig.savefig('./P_values' + str(max_len) + '.png')\n",
    "sum(df_min_max['Dest IP'] == '192.168.10.50')"
   ]
  },
  {
   "cell_type": "code",
   "execution_count": 12,
   "metadata": {
    "scrolled": true
   },
   "outputs": [
    {
     "data": {
      "text/plain": [
       "<Figure size 432x288 with 0 Axes>"
      ]
     },
     "metadata": {},
     "output_type": "display_data"
    },
    {
     "data": {
      "image/png": "[encoded data removed]",
      "text/plain": [
       "<Figure size 1080x360 with 2 Axes>"
      ]
     },
     "metadata": {
      "needs_background": "light"
     },
     "output_type": "display_data"
    }
   ],
   "source": [
    "import matplotlib.pyplot as plt\n",
    "\n",
    "fig = plt.figure()\n",
    "fig, ax = plt.subplots(1,2, figsize=(15,5)) #plt.figure()\n",
    "ax[0].hist(df_min_max['QWithoutT'].sort_values()[df_min_max['Source IP'] == attacker], bins=20, range=[0, 1])\n",
    "ax[1].hist(df_min_max['QWithoutT'].sort_values(), bins=20, range=[0, 1])\n",
    "plt.show()\n",
    "fig.tight_layout()\n",
    "# fig.savefig('./P_values' + str(max_len) + '.png')"
   ]
  },
  {
   "cell_type": "code",
   "execution_count": 13,
   "metadata": {},
   "outputs": [
    {
     "data": {
      "text/plain": [
       "<Figure size 432x288 with 0 Axes>"
      ]
     },
     "metadata": {},
     "output_type": "display_data"
    },
    {
     "data": {
      "image/png": "[encoded data removed]",
      "text/plain": [
       "<Figure size 1080x360 with 2 Axes>"
      ]
     },
     "metadata": {
      "needs_background": "light"
     },
     "output_type": "display_data"
    }
   ],
   "source": [
    "fig = plt.figure()\n",
    "fig, ax = plt.subplots(1,2, figsize=(15,5)) #plt.figure()\n",
    "# plt.hist(df_min_max['P'].sort_values()[df_min_max['Dest IP'] == victim], bins=20, alpha=0.5, label='P') #attacker:172.16.0.1, victim:192.168.10.50\n",
    "# plt.hist(df_min_max['QWithoutT'].sort_values()[df_min_max['Dest IP'] == victim], bins=20, alpha=0.5, label='Offline Q')\n",
    "ax[0].hist(df_min_max['P'].sort_values()[df_min_max['Source IP'] == attacker], bins=20, alpha=0.5, label='P') #attacker:172.16.0.1, victim:192.168.10.50\n",
    "ax[0].hist(df_min_max['QWithoutT'].sort_values()[df_min_max['Source IP'] == attacker], bins=20, alpha=0.5, label='Offline Q')\n",
    "ax[1].hist(df_min_max['P'].sort_values(), bins=20, alpha=0.5, label='P') \n",
    "ax[1].hist(df_min_max['QWithoutT'].sort_values(), bins=20, alpha=0.5, label='Offline Q')\n",
    "ax[0].legend(loc='upper right')\n",
    "ax[1].legend(loc='upper right')\n",
    "plt.show()"
   ]
  },
  {
   "cell_type": "code",
   "execution_count": 15,
   "metadata": {
    "scrolled": true
   },
   "outputs": [
    {
     "data": {
      "image/png": "[encoded data removed]",
      "text/plain": [
       "<Figure size 504x360 with 1 Axes>"
      ]
     },
     "metadata": {
      "needs_background": "light"
     },
     "output_type": "display_data"
    }
   ],
   "source": [
    "# fig = plt.figure(figsize=(7,5))\n",
    "# plt.hist(df_min_max['P'].sort_values()[df_min_max['Source IP'] == attacker], bins=20, alpha=0.5, label='N') #attacker:172.16.0.1, victim:192.168.10.50\n",
    "# plt.hist(df_min_max['QWithoutT'].sort_values()[df_min_max['Source IP'] == attacker], bins=20, alpha=0.5, label='Offline D')\n",
    "# plt.legend(loc='upper right')\n",
    "fig, ax = plt.subplots(1, figsize=(7,5))\n",
    "# ax.hist(df_min_max['P'].sort_values()[df_min_max['Source IP'] == attacker], bins=20, range=[0.1,1.15], alpha=0.5, label='N') \n",
    "ax.hist(df_min_max['P'].sort_values()[df_min_max['Source IP'] == attacker], bins=20, range=[0.1,1], edgecolor='black', linewidth=2, alpha=0.3, label='N', color = \"dimgray\", hatch=2*'\\\\', fill=True) \n",
    "ax.hist(df_min_max['QWithoutT'].sort_values()[df_min_max['Source IP'] == attacker], bins=20, range=[0.1,1], edgecolor='black', linewidth=2, alpha=0.3, label='Offline D', color = \"lightgray\", hatch=2*'.', fill=True)\n",
    "ax.legend(loc='upper right',prop={\"size\":15})\n",
    "# ax.set_yticklabels([])\n",
    "# ax.set_xticklabels([])\n",
    "\n",
    "plt.show()\n",
    "# fig.savefig('./' + config['metadata']['uniqueID'] + '/' + config['metadata']['result'] + '_PQoffline_distr' + '.png')"
   ]
  },
  {
   "cell_type": "code",
   "execution_count": 30,
   "metadata": {},
   "outputs": [
    {
     "data": {
      "text/plain": [
       "<Figure size 432x288 with 0 Axes>"
      ]
     },
     "metadata": {},
     "output_type": "display_data"
    },
    {
     "data": {
      "image/png": "[encoded data removed]",
      "text/plain": [
       "<Figure size 1080x360 with 2 Axes>"
      ]
     },
     "metadata": {
      "needs_background": "light"
     },
     "output_type": "display_data"
    }
   ],
   "source": [
    "import matplotlib.pyplot as plt\n",
    "\n",
    "fig = plt.figure()\n",
    "fig, ax = plt.subplots(1,2, figsize=(15,5)) #plt.figure()\n",
    "ax[0].hist(df_min_max['QWithT'].sort_values()[df_min_max['Source IP'] == attacker], bins=20, range=[0, 1])\n",
    "ax[1].hist(df_min_max['QWithT'].sort_values(), bins=20, range=[0, 1])\n",
    "plt.show()\n",
    "fig.tight_layout()\n",
    "# fig.savefig('./P_values' + str(max_len) + '.png')"
   ]
  },
  {
   "cell_type": "code",
   "execution_count": 31,
   "metadata": {},
   "outputs": [
    {
     "data": {
      "text/plain": [
       "<Figure size 432x288 with 0 Axes>"
      ]
     },
     "metadata": {},
     "output_type": "display_data"
    },
    {
     "data": {
      "image/png": "[encoded data removed]",
      "text/plain": [
       "<Figure size 1080x360 with 2 Axes>"
      ]
     },
     "metadata": {
      "needs_background": "light"
     },
     "output_type": "display_data"
    }
   ],
   "source": [
    "fig = plt.figure()\n",
    "fig, ax = plt.subplots(1,2, figsize=(15,5)) #plt.figure()\n",
    "# plt.hist(df_min_max['P'].sort_values()[df_min_max['Dest IP'] == victim], bins=20, alpha=0.5, label='P') #attacker:172.16.0.1, victim:192.168.10.50\n",
    "# plt.hist(df_min_max['QWithT'].sort_values()[df_min_max['Dest IP'] == victim], bins=20, alpha=0.5, label='Online Q')\n",
    "ax[0].hist(df_min_max['P'].sort_values()[df_min_max['Source IP'] == attacker], bins=20, alpha=0.5, label='P') #\n",
    "ax[0].hist(df_min_max['QWithT'].sort_values()[df_min_max['Source IP'] == attacker], bins=20, alpha=0.5, label='Online Q')\n",
    "ax[1].hist(df_min_max['P'].sort_values(), bins=20, alpha=0.5, label='P') \n",
    "ax[1].hist(df_min_max['QWithT'].sort_values(), bins=20, alpha=0.5, label='Online Q')\n",
    "ax[0].legend(loc='upper right')\n",
    "plt.legend(loc='upper right')\n",
    "plt.show()"
   ]
  },
  {
   "cell_type": "code",
   "execution_count": 64,
   "metadata": {},
   "outputs": [
    {
     "data": {
      "image/png": "[encoded data removed]",
      "text/plain": [
       "<Figure size 504x360 with 1 Axes>"
      ]
     },
     "metadata": {
      "needs_background": "light"
     },
     "output_type": "display_data"
    }
   ],
   "source": [
    "# fig = plt.figure(figsize=(7,5))\n",
    "# plt.hist(df_min_max['P'].sort_values()[df_min_max['Source IP'] == attacker], bins=20, alpha=0.5, label='N') #\n",
    "# plt.hist(df_min_max['QWithT'].sort_values()[df_min_max['Source IP'] == attacker], bins=20, alpha=0.5, label='Online D')\n",
    "# plt.legend(loc='upper right')\n",
    "fig, ax = plt.subplots(1, figsize=(7,5))\n",
    "# ax.hist(df_min_max['P'].sort_values()[df_min_max['Source IP'] == attacker], bins=20, alpha=0.5, label='N') #\n",
    "# ax.hist(df_min_max['QWithT'].sort_values()[df_min_max['Source IP'] == attacker], bins=20, alpha=0.5, label='Online D')\n",
    "ax.hist(df_min_max['P'].sort_values()[df_min_max['Source IP'] == attacker], bins=20, edgecolor='black', linewidth=2, alpha=0.3, label='N', color = \"dimgray\", hatch=2*'\\\\', fill=True) \n",
    "ax.hist(df_min_max['QWithT'].sort_values()[df_min_max['Source IP'] == attacker], bins=20, edgecolor='black', linewidth=2, alpha=0.3, label='Online D', color = \"lightgray\", hatch=2*'.', fill=True)\n",
    "ax.legend(loc='upper right',prop={\"size\":15})\n",
    "# ax.set_yticklabels([])\n",
    "# ax.set_xticklabels([])\n",
    "\n",
    "plt.show()\n",
    "fig.savefig('./' + config['metadata']['uniqueID'] + '/' + config['metadata']['result'] + '_PQonline_distr' + '.png')"
   ]
  },
  {
   "cell_type": "code",
   "execution_count": 18,
   "metadata": {},
   "outputs": [],
   "source": [
    "df_min_max['PoverQWithTransfer'] = df_min_max['P'] - df_min_max['QWithT'] #\n",
    "df_min_max['PoverQWithoutTransfer'] = df_min_max['P'] - df_min_max['QWithoutT'] # \n",
    "\n",
    "#Sorting to avoid mixing of IP and Scores\n",
    "df_min_max = df_min_max.sort_values(by = ['P']) #P\n",
    "df_min_max = df_min_max.reset_index(drop=True) # add\n",
    "\n",
    "# df_min_max[['P','QWithT','QWithoutT','PoverQWithTransfer','PoverQWithoutTransfer']]"
   ]
  },
  {
   "cell_type": "code",
   "execution_count": 19,
   "metadata": {},
   "outputs": [
    {
     "data": {
      "text/plain": [
       "<Figure size 432x288 with 0 Axes>"
      ]
     },
     "metadata": {},
     "output_type": "display_data"
    },
    {
     "data": {
      "image/png": "[encoded data removed]",
      "text/plain": [
       "<Figure size 1080x360 with 2 Axes>"
      ]
     },
     "metadata": {
      "needs_background": "light"
     },
     "output_type": "display_data"
    }
   ],
   "source": [
    "fig = plt.figure()\n",
    "fig, ax = plt.subplots(1,2, figsize=(15,5)) #plt.figure()\n",
    "ax[0].hist(df_min_max['PoverQWithTransfer'].sort_values()) #, bins=20, range=[0, 1])\n",
    "ax[1].hist(df_min_max['PoverQWithoutTransfer'].sort_values()) #, bins=20, range=[0, 1])\n",
    "plt.show()\n",
    "fig.tight_layout()"
   ]
  },
  {
   "cell_type": "raw",
   "metadata": {},
   "source": [
    "# df_min_max['PoverQWithTransfer'] = df_min_max['P'] - df_min_max['QWithT'] #\n",
    "# df_min_max['PoverQWithoutTransfer'] = df_min_max['P'] - df_min_max['QWithoutT'] # \n",
    "\n",
    "percent_retain = 0.1\n",
    "percent_top = math.ceil(len(df_min_max['P'])*percent_retain)#- df_min_max['QWithT'] #2203\n",
    "percent_remain = pd.DataFrame(np.zeros(len(df_min_max['P']) - percent_top))\n",
    "\n",
    "df_min_max['QwithT_less']  = pd.concat([df_min_max['QWithT'][:percent_top] , percent_remain], ignore_index=True)\n",
    "df_min_max['PoverQWithTransfer'] = df_min_max['P'] - df_min_max['QwithT_less']\n",
    "\n",
    "df_min_max['QWithoutT_less']  = pd.concat([df_min_max['QWithoutT'][:percent_top] , percent_remain], ignore_index=True)\n",
    "df_min_max['PoverQWithoutTransfer'] = df_min_max['P'] - df_min_max['QWithoutT_less']\n",
    "\n",
    "#Sorting to avoid mixing of IP and Scores\n",
    "df_min_max = df_min_max.sort_values(by = ['P']) #P\n",
    "df_min_max = df_min_max.reset_index(drop=True) # add"
   ]
  },
  {
   "cell_type": "raw",
   "metadata": {},
   "source": [
    "fig = plt.figure()\n",
    "fig, ax = plt.subplots(1,2, figsize=(15,5)) #plt.figure()\n",
    "ax[0].hist(df_min_max['PoverQWithTransfer']) #, bins=20, range=[0, 1])\n",
    "ax[1].hist(df_min_max['PoverQWithoutTransfer']) #.sort_values()) #, bins=20, range=[0, 1])\n",
    "plt.show()\n",
    "fig.tight_layout()"
   ]
  },
  {
   "cell_type": "code",
   "execution_count": null,
   "metadata": {},
   "outputs": [],
   "source": []
  },
  {
   "cell_type": "code",
   "execution_count": null,
   "metadata": {},
   "outputs": [],
   "source": []
  },
  {
   "cell_type": "code",
   "execution_count": null,
   "metadata": {},
   "outputs": [],
   "source": []
  },
  {
   "cell_type": "code",
   "execution_count": null,
   "metadata": {},
   "outputs": [],
   "source": []
  },
  {
   "cell_type": "code",
   "execution_count": 20,
   "metadata": {},
   "outputs": [
    {
     "data": {
      "text/html": [
       "<div>\n",
       "<style scoped>\n",
       "    .dataframe tbody tr th:only-of-type {\n",
       "        vertical-align: middle;\n",
       "    }\n",
       "\n",
       "    .dataframe tbody tr th {\n",
       "        vertical-align: top;\n",
       "    }\n",
       "\n",
       "    .dataframe thead th {\n",
       "        text-align: right;\n",
       "    }\n",
       "</style>\n",
       "<table border=\"1\" class=\"dataframe\">\n",
       "  <thead>\n",
       "    <tr style=\"text-align: right;\">\n",
       "      <th></th>\n",
       "      <th>Source IP</th>\n",
       "      <th>Dest IP</th>\n",
       "      <th>P</th>\n",
       "      <th>PoverQ_online</th>\n",
       "      <th>PoverQ_offline</th>\n",
       "      <th>QWithT</th>\n",
       "      <th>QWithoutT</th>\n",
       "    </tr>\n",
       "  </thead>\n",
       "  <tbody>\n",
       "    <tr>\n",
       "      <th>0</th>\n",
       "      <td>195.142.107.70</td>\n",
       "      <td>192.168.10.15</td>\n",
       "      <td>0.000000</td>\n",
       "      <td>-0.047974</td>\n",
       "      <td>-0.017515</td>\n",
       "      <td>0.047974</td>\n",
       "      <td>0.017515</td>\n",
       "    </tr>\n",
       "    <tr>\n",
       "      <th>1</th>\n",
       "      <td>192.168.10.12</td>\n",
       "      <td>61.251.165.12</td>\n",
       "      <td>0.003601</td>\n",
       "      <td>-0.194388</td>\n",
       "      <td>-0.216189</td>\n",
       "      <td>0.197989</td>\n",
       "      <td>0.219790</td>\n",
       "    </tr>\n",
       "    <tr>\n",
       "      <th>2</th>\n",
       "      <td>192.168.10.15</td>\n",
       "      <td>195.142.107.70</td>\n",
       "      <td>0.014788</td>\n",
       "      <td>-0.034461</td>\n",
       "      <td>-0.001757</td>\n",
       "      <td>0.049249</td>\n",
       "      <td>0.016545</td>\n",
       "    </tr>\n",
       "    <tr>\n",
       "      <th>3</th>\n",
       "      <td>192.168.10.50</td>\n",
       "      <td>172.16.0.1</td>\n",
       "      <td>0.035527</td>\n",
       "      <td>-0.576017</td>\n",
       "      <td>-0.694895</td>\n",
       "      <td>0.611545</td>\n",
       "      <td>0.730423</td>\n",
       "    </tr>\n",
       "    <tr>\n",
       "      <th>4</th>\n",
       "      <td>192.168.10.50</td>\n",
       "      <td>172.16.0.1</td>\n",
       "      <td>0.045196</td>\n",
       "      <td>-0.565889</td>\n",
       "      <td>-0.711537</td>\n",
       "      <td>0.611084</td>\n",
       "      <td>0.756733</td>\n",
       "    </tr>\n",
       "    <tr>\n",
       "      <th>...</th>\n",
       "      <td>...</td>\n",
       "      <td>...</td>\n",
       "      <td>...</td>\n",
       "      <td>...</td>\n",
       "      <td>...</td>\n",
       "      <td>...</td>\n",
       "      <td>...</td>\n",
       "    </tr>\n",
       "    <tr>\n",
       "      <th>2442</th>\n",
       "      <td>192.168.10.19</td>\n",
       "      <td>207.210.46.249</td>\n",
       "      <td>1.000000</td>\n",
       "      <td>0.000677</td>\n",
       "      <td>0.000876</td>\n",
       "      <td>0.999323</td>\n",
       "      <td>0.999124</td>\n",
       "    </tr>\n",
       "    <tr>\n",
       "      <th>2443</th>\n",
       "      <td>192.168.10.17</td>\n",
       "      <td>108.59.2.24</td>\n",
       "      <td>1.000000</td>\n",
       "      <td>0.000677</td>\n",
       "      <td>0.000876</td>\n",
       "      <td>0.999323</td>\n",
       "      <td>0.999124</td>\n",
       "    </tr>\n",
       "    <tr>\n",
       "      <th>2444</th>\n",
       "      <td>192.168.10.19</td>\n",
       "      <td>47.55.177.238</td>\n",
       "      <td>1.000000</td>\n",
       "      <td>0.000677</td>\n",
       "      <td>0.000876</td>\n",
       "      <td>0.999323</td>\n",
       "      <td>0.999124</td>\n",
       "    </tr>\n",
       "    <tr>\n",
       "      <th>2445</th>\n",
       "      <td>192.168.10.17</td>\n",
       "      <td>91.189.89.198</td>\n",
       "      <td>1.000000</td>\n",
       "      <td>0.000677</td>\n",
       "      <td>0.000876</td>\n",
       "      <td>0.999323</td>\n",
       "      <td>0.999124</td>\n",
       "    </tr>\n",
       "    <tr>\n",
       "      <th>2446</th>\n",
       "      <td>192.168.10.17</td>\n",
       "      <td>198.206.133.14</td>\n",
       "      <td>1.000000</td>\n",
       "      <td>0.000677</td>\n",
       "      <td>0.000876</td>\n",
       "      <td>0.999323</td>\n",
       "      <td>0.999124</td>\n",
       "    </tr>\n",
       "  </tbody>\n",
       "</table>\n",
       "<p>2447 rows × 7 columns</p>\n",
       "</div>"
      ],
      "text/plain": [
       "           Source IP         Dest IP         P  PoverQ_online  PoverQ_offline  \\\n",
       "0     195.142.107.70   192.168.10.15  0.000000      -0.047974       -0.017515   \n",
       "1      192.168.10.12   61.251.165.12  0.003601      -0.194388       -0.216189   \n",
       "2      192.168.10.15  195.142.107.70  0.014788      -0.034461       -0.001757   \n",
       "3      192.168.10.50      172.16.0.1  0.035527      -0.576017       -0.694895   \n",
       "4      192.168.10.50      172.16.0.1  0.045196      -0.565889       -0.711537   \n",
       "...              ...             ...       ...            ...             ...   \n",
       "2442   192.168.10.19  207.210.46.249  1.000000       0.000677        0.000876   \n",
       "2443   192.168.10.17     108.59.2.24  1.000000       0.000677        0.000876   \n",
       "2444   192.168.10.19   47.55.177.238  1.000000       0.000677        0.000876   \n",
       "2445   192.168.10.17   91.189.89.198  1.000000       0.000677        0.000876   \n",
       "2446   192.168.10.17  198.206.133.14  1.000000       0.000677        0.000876   \n",
       "\n",
       "        QWithT  QWithoutT  \n",
       "0     0.047974   0.017515  \n",
       "1     0.197989   0.219790  \n",
       "2     0.049249   0.016545  \n",
       "3     0.611545   0.730423  \n",
       "4     0.611084   0.756733  \n",
       "...        ...        ...  \n",
       "2442  0.999323   0.999124  \n",
       "2443  0.999323   0.999124  \n",
       "2444  0.999323   0.999124  \n",
       "2445  0.999323   0.999124  \n",
       "2446  0.999323   0.999124  \n",
       "\n",
       "[2447 rows x 7 columns]"
      ]
     },
     "execution_count": 20,
     "metadata": {},
     "output_type": "execute_result"
    }
   ],
   "source": [
    "sr = df_min_max[['Source IP', 'Dest IP', 'P', 'PoverQ_online','PoverQ_offline', 'QWithT', 'QWithoutT']] #, 'PoverQTilde']]\n",
    "sr"
   ]
  },
  {
   "cell_type": "code",
   "execution_count": 21,
   "metadata": {},
   "outputs": [
    {
     "name": "stdout",
     "output_type": "stream",
     "text": [
      "*****     Ending Inferencing     ******\n"
     ]
    }
   ],
   "source": [
    "sr_P = sr[['Source IP', 'Dest IP', 'P']].copy()\n",
    "sr_PoverQ_online = sr[['Source IP', 'Dest IP', 'PoverQ_online']].copy()\n",
    "sr_PoverQ_offline = sr[['Source IP', 'Dest IP', 'PoverQ_offline']].copy()\n",
    "sr_onlineQ = sr[['Source IP', 'Dest IP', 'QWithT']].copy() # add for online Q \n",
    "sr_offlineQ = sr[['Source IP', 'Dest IP', 'QWithoutT']].copy() # add for offline Q\n",
    "\n",
    "sr_P = sr_P.sort_values(by = ['P'])\n",
    "sr_PoverQ_online = sr_PoverQ_online.sort_values(by = ['PoverQ_online'])\n",
    "sr_PoverQ_offline = sr_PoverQ_offline.sort_values(by = ['PoverQ_offline'])\n",
    "sr_onlineQ = sr_onlineQ.sort_values(by = ['QWithT']) # add for online Q \n",
    "sr_offlineQ = sr_offlineQ.sort_values(by = ['QWithoutT']) # add for offline Q\n",
    "\n",
    "# #Store the data as binary data stream\n",
    "sr_P.to_pickle(config['metadata']['uniqueID'] + '/' + config['metadata']['artefact'] + '/' + 'PScore')\n",
    "\n",
    "sr_PoverQ_online.to_pickle(config['metadata']['uniqueID'] + '/' + config['metadata']['artefact'] + '/' + 'PoverQonline_score') #'POverQWithTransferScore')\n",
    "\n",
    "sr_PoverQ_offline.to_pickle(config['metadata']['uniqueID'] + '/' + config['metadata']['artefact'] + '/' + 'PoverQoffline_score') #'POverQWithoutTransferScore')\n",
    "\n",
    "sr_onlineQ.to_pickle(config['metadata']['uniqueID'] + '/' + config['metadata']['artefact'] + '/' + 'onlineQ')\n",
    "sr_offlineQ.to_pickle(config['metadata']['uniqueID'] + '/' + config['metadata']['artefact'] + '/' + 'offlineQ')\n",
    "\n",
    "# add Save scores to csv\n",
    "\n",
    "K.clear_session() # add\n",
    "print(\"*****     Ending Inferencing     ******\")\n",
    "\n",
    "sess.close() # add\n"
   ]
  },
  {
   "cell_type": "raw",
   "metadata": {},
   "source": [
    "x_tmp = np.array(df_min_max[['QWithT','QWithoutT']].values) #.reshape(-1,1) \n",
    "scaler = preprocessing.RobustScaler() #MinMaxScaler()\n",
    "scaler.fit_transform(x_tmp)[:,1]"
   ]
  },
  {
   "cell_type": "raw",
   "metadata": {},
   "source": [
    "x_tmp = np.array(sr['QWithoutT'].values)\n",
    "x_tmp.shape\n",
    "x_tmp = x_tmp.reshape(-1,1) \n",
    "\n",
    "min_max_scaler = preprocessing.MinMaxScaler()\n",
    "min_max_scaler.fit_transform(x_tmp)"
   ]
  }
 ],
 "metadata": {
  "kernelspec": {
   "display_name": "ddos",
   "language": "python",
   "name": "ddos"
  },
  "language_info": {
   "codemirror_mode": {
    "name": "ipython",
    "version": 3
   },
   "file_extension": ".py",
   "mimetype": "text/x-python",
   "name": "python",
   "nbconvert_exporter": "python",
   "pygments_lexer": "ipython3",
   "version": "3.7.5"
  }
 },
 "nbformat": 4,
 "nbformat_minor": 4
}
